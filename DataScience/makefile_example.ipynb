{
 "cells": [
  {
   "cell_type": "markdown",
   "metadata": {},
   "source": [
    "## Makefile example\n",
    "Add this to the existing command line notebook after fresh pull\n",
    "sub the cell below for the cell in the updated notebook"
   ]
  },
  {
   "cell_type": "markdown",
   "metadata": {},
   "source": [
    "##Command line programs we'll use:\n",
    "\n",
    "* csvkit by onryx, install with pip or conda\n",
    "* pcregrep , Debian sudo apt-get install\n",
    "* find\n",
    "* cut\n",
    "* awk\n",
    "* head\n",
    "* tail\n",
    "* make\n",
    "* xargs\n",
    "* parallel\n",
    "* cat\n",
    "* sed\n",
    "* time\n",
    "* date\n",
    "* read\n",
    "* while\n",
    "* for\n"
   ]
  },
  {
   "cell_type": "markdown",
   "metadata": {},
   "source": [
    "# Save the output to a file for the future\n",
    "We'll redirect the output from standard out (terminal display) to a file."
   ]
  },
  {
   "cell_type": "code",
   "execution_count": 1,
   "metadata": {
    "collapsed": true
   },
   "outputs": [],
   "source": [
    "%%bash\n",
    "#root_dir=\"/home/daniel/git/Python2.7/DataScience/command_line_data\"\n",
    "root_dir=\"/home/dcuneo/git/PersonalDS/DataScience/command_line_pres_data\"\n",
    "cat $root_dir/linux_inventory.csv | cut -d, -f 3 | sort | uniq -c | sort -n > $root_dir/ext_list.txt"
   ]
  },
  {
   "cell_type": "markdown",
   "metadata": {},
   "source": [
    "## Makefile\n",
    "Let's try using a makefile. We have 2 steps required to create the sorted list of extensions and their counts.\n",
    "\n",
    "1. make an inventory\n",
    "2. sort the inventory by extension\n",
    "\n",
    "We also have 2 dependencies\n",
    "\n",
    "1. Linux kernel source\n",
    "2. inventory\n",
    "\n",
    "There's one final output, the sorted list of counts by extension\n",
    "\n",
    "The idea behind the makefile, is that if we change a dependency, then we want the target output steps to run again.\n",
    "If a file was added to the Linux kernel, then we need a new inventory and then a file extension count list. in the a real world usage I'd make some more effort to avoid running the entire inventory. Here, that's a bit overkill.\n",
    "\n",
    "\n",
    "## What is happening.\n",
    "Make keeps track of when a file or directory has been modified. If something was touched, then the recipe is invoked to handle that updated information. Make can make use of functions, shell paramters although it a slightly different form.\n",
    "\n",
    "Makefile are typically named, \"makefile\", and are tab delimited. Make has to parse the makefile so there's some special syntax that is similar to but distinct from that of the shell."
   ]
  },
  {
   "cell_type": "code",
   "execution_count": null,
   "metadata": {
    "collapsed": true
   },
   "outputs": [],
   "source": [
    "%%bash\n",
    "\n",
    "kernel = $(root_dir)/\"linux-2.6.32.67\"\n",
    "inventory = $(root_dir)/linux_inventory.csv\n",
    "extension_list = $(root_dir)/ext_list.txt\n",
    "\n",
    "#function\n",
    "cat $root_dir/linux_inventory.csv | cut -d, -f 3 | sort | uniq -c | sort -n > $root_dir/ext_list.txt\n",
    "\n",
    "#function\n",
    "find $root_dir -type f | parallel -n 1 --jobs 2 run_inventory.sh > $root_dir/linux_inventory.csv\n",
    "sed -i '1 i\\path_,tot_lines' $root_dir/linux_inventory.csv\n",
    "\n",
    "\n",
    "inventory:\n",
    "\tcreate_ext_list\n",
    "\n",
    "kernel:\n",
    "\trun_inventory.sh\n"
   ]
  },
  {
   "cell_type": "markdown",
   "metadata": {},
   "source": [
    "## Testing it\n",
    "We can test this makefile by using the touch program, to update the last modified time of a file, to the current date and time. Make program also has an option for this, -f.\n",
    "\n",
    "So we can spoof an update to our dependency files and see how this thing works."
   ]
  },
  {
   "cell_type": "markdown",
   "metadata": {},
   "source": [
    "We may also want to make new directories for the outputs and name them by date. This easily done with the _date_ program."
   ]
  },
  {
   "cell_type": "markdown",
   "metadata": {},
   "source": [
    "## Storing the output of command to a variable (shell paramter)\n",
    "\n",
    "We can set a shell paramter from the output of another shell command/program.\n",
    "You've seen this trick used in the simple inventory program earlier. I used it a lot actually, to \n",
    "assign the output of commands to a shell paramter."
   ]
  },
  {
   "cell_type": "code",
   "execution_count": 28,
   "metadata": {
    "collapsed": false
   },
   "outputs": [
    {
     "name": "stdout",
     "output_type": "stream",
     "text": [
      "dcuneo\n",
      "dcun\n"
     ]
    }
   ],
   "source": [
    "%%bash\n",
    "\n",
    "echo $USER # shell variable setup when you login\n",
    "var=$(echo $USER | cut -c 1-4)\n",
    "echo $var"
   ]
  },
  {
   "cell_type": "code",
   "execution_count": 2,
   "metadata": {
    "collapsed": false
   },
   "outputs": [
    {
     "name": "stdout",
     "output_type": "stream",
     "text": [
      "Mon Sep 28 12:07:36 PDT 2015\n"
     ]
    }
   ],
   "source": [
    "%%bash\n",
    "date"
   ]
  },
  {
   "cell_type": "code",
   "execution_count": 58,
   "metadata": {
    "collapsed": false
   },
   "outputs": [
    {
     "name": "stdout",
     "output_type": "stream",
     "text": [
      "/home/dcuneo/git/PersonalDS/DataScience/command_line_pres_data/2015_09_28_13:17:16\n"
     ]
    }
   ],
   "source": [
    "%%bash\n",
    "root_dir=\"/home/dcuneo/git/PersonalDS/DataScience/command_line_pres_data\"\n",
    "\n",
    "dir_path=${root_dir}/$(date +%Y_%m_%d_%H:%M:%S)\n",
    "echo $dir_path"
   ]
  },
  {
   "cell_type": "markdown",
   "metadata": {},
   "source": [
    "## Shell Loops\n",
    "\n",
    "There are two kinds of loops that I tend to use:\n",
    "\n",
    "1. while%%bash\n",
    "2. for\n",
    "\n",
    "### Tests\n",
    "\n",
    "The square brackets are called \"tests\" . This is another topic in shell scripting that I can't really cover right here but you can see a use case for it. \n",
    "\n",
    "The loop below is rather contrived. We would really just use _cat_ command to see the contents. But it's a good practice because the output is predictable."
   ]
  },
  {
   "cell_type": "code",
   "execution_count": 38,
   "metadata": {
    "collapsed": false
   },
   "outputs": [
    {
     "name": "stdout",
     "output_type": "stream",
     "text": [
      "1 \"1\"\n",
      "1 \"1992-1997\"\n",
      "1 \"1994-2004\"\n",
      "1 \"1995-2002\"\n",
      "1 \"1996-2002\"\n",
      "1 \"5\"\n",
      "1 \"act2000\"\n",
      "1 \"AddingFirmware\"\n",
      "1 \"AdvancedTopics\"\n",
      "1 \"agh\"\n",
      "1 \"aic79xx\"\n",
      "1 \"aic7xxx\"\n",
      "1 \"arcmsr\"\n",
      "1 \"asp\"\n",
      "1 \"au0828\"\n",
      "1 \"audio\"\n",
      "1 \"auto\"\n",
      "1 \"avmb1\"\n",
      "1 \"awk\"\n",
      "1 \"ax\"\n",
      "1 \"binfmt\"\n",
      "1 \"bttv\"\n",
      "1 \"buddha\"\n",
      "1 \"build\"\n",
      "1 \"CAPI\"\n",
      "1 \"cc\"\n",
      "1 \"cert\"\n",
      "1 \"ChangeLog\"\n",
      "1 \"char\"\n",
      "1 \"clean\"\n",
      "1 \"Coding\"\n",
      "1 \"common\"\n",
      "1 \"concap\"\n",
      "1 \"Conclusion\"\n",
      "1 \"copyright\"\n",
      "1 \"cpia\"\n",
      "1 \"cpia2\"\n",
      "1 \"cputype\"\n",
      "1 \"cx23885\"\n",
      "1 \"cycladesZ\"\n",
      "1 \"DAC960\"\n",
      "1 \"dino\"\n",
      "1 \"diversion\"\n",
      "1 \"DOC\"\n",
      "1 \"drm\"\n",
      "1 \"drv_ba_resend\"\n",
      "1 \"dtc\"\n",
      "1 \"dvb-usb\"\n",
      "1 \"Early-stage\"\n",
      "1 \"em28xx\"\n",
      "1 ext\n",
      "1 \"FIRST\"\n",
      "1 \"FlashPoint\"\n",
      "1 \"Followthrough\"\n",
      "1 \"FPE\"\n",
      "1 \"freeze\"\n",
      "1 \"freezer\"\n",
      "1 \"fwinst\"\n",
      "1 \"gate\"\n",
      "1 \"gdbinit_200MHz_16MB\"\n",
      "1 \"gdbinit_300MHz_32MB\"\n",
      "1 \"gdbinit_400MHz_32MB\"\n",
      "1 \"generic\"\n",
      "1 \"gigaset\"\n",
      "1 \"glade\"\n",
      "1 \"headersinst\"\n",
      "1 \"hfc-pci\"\n",
      "1 \"HiSax\"\n",
      "1 \"history\"\n",
      "1 \"hm12\"\n",
      "1 \"host\"\n",
      "1 \"hp300\"\n",
      "1 \"hysdn\"\n",
      "1 \"hz\"\n",
      "1 \"i2400m\"\n",
      "1 \"icn\"\n",
      "1 \"ide\"\n",
      "1 \"include\"\n",
      "1 \"inc_shipped\"\n",
      "1 \"inf\"\n",
      "1 \"ini\"\n",
      "1 \"Intro\"\n",
      "1 \"ioctl\"\n",
      "1 \"iosched\"\n",
      "1 \"ips\"\n",
      "1 \"ipw2100\"\n",
      "1 \"ipw2200\"\n",
      "1 \"ir\"\n",
      "1 \"kgdb\"\n",
      "1 \"kmemcheck\"\n",
      "1 \"lib\"\n",
      "1 \"LIB\"\n",
      "1 \"libfdt\"\n",
      "1 \"Locking\"\n",
      "1 \"lpfc\"\n",
      "1 \"mailmap\"\n",
      "1 \"maya44\"\n",
      "1 \"megaraid_sas\"\n",
      "1 \"mISDN\"\n",
      "1 \"mm\"\n",
      "1 \"modes\"\n",
      "1 \"modinst\"\n",
      "1 \"modpost\"\n",
      "1 \"modules\"\n",
      "1 \"ncr53c8xx\"\n",
      "1 \"net\"\n",
      "1 \"netlink\"\n",
      "1 \"normal\"\n",
      "1 \"OSS\"\n",
      "1 \"pcbit\"\n",
      "1 \"platform\"\n",
      "1 \"Posting\"\n",
      "1 \"preempt\"\n",
      "1 \"Process\"\n",
      "1 \"pvrusb2\"\n",
      "1 \"qla2xxx\"\n",
      "1 \"qla3xxx\"\n",
      "1 \"qlge\"\n",
      "1 \"quirks\"\n",
      "1 \"README\"\n",
      "1 \"rest\"\n",
      "1 \"rules\"\n",
      "1 \"saa7164\"\n",
      "1 \"sb1000\"\n",
      "1 \"sc\"\n",
      "1 \"sed\"\n",
      "1 \"smp\"\n",
      "1 \"SRC\"\n",
      "1 \"sym53c8xx\"\n",
      "1 \"sym53c8xx_2\"\n",
      "1 \"syncppp\"\n",
      "1 \"tex\"\n",
      "1 \"tuner\"\n",
      "1 \"um\"\n",
      "1 \"uni\"\n",
      "1 \"usbvision\"\n",
      "1 \"vbi\"\n",
      "1 \"vdec2\"\n",
      "1 \"vim\"\n",
      "1 \"WARNING\"\n",
      "1 \"wimax\"\n",
      "1 \"WINVIEW\"\n",
      "1 \"x25\"\n",
      "1 \"x86\"\n",
      "1 \"ymfsb\"\n",
      "2 \"asm\"\n",
      "2 \"cx88\"\n",
      "2 \"dat\"\n",
      "2 \"FAQ\"\n",
      "2 \"fax\"\n",
      "2 \"fig\"\n",
      "2 \"gperf\"\n",
      "2 \"html\"\n",
      "2 \"ids\"\n",
      "2 \"inl\"\n",
      "2 \"ivtv\"\n",
      "2 \"megaraid\"\n",
      "2 \"mk\"\n",
      "2 \"nommu\"\n",
      "2 \"pbm\"\n",
      "2 \"saa7134\"\n",
      "2 \"ucode\"\n",
      "3 \"gdbinit\"\n",
      "3 \"map\"\n",
      "3 \"py\"\n",
      "3 \"reg\"\n",
      "3 \"seq\"\n",
      "4 \"cpu\"\n",
      "4 \"doc\"\n",
      "4 \"in\"\n",
      "4 \"inc\"\n",
      "4 \"ld\"\n",
      "4 \"uc\"\n",
      "5 \"l\"\n",
      "5 \"scr\"\n",
      "5 \"y\"\n",
      "6 \"conf\"\n",
      "6 \"xsl\"\n",
      "7 \"H16\"\n",
      "7 \"sa\"\n",
      "9 \"h_shipped\"\n",
      "11 \"c_shipped\"\n",
      "13 \"tst\"\n",
      "14 \"ppm\"\n",
      "15 \"lds\"\n",
      "23 \"pl\"\n",
      "26 \"HEX\"\n",
      "28 \"debug\"\n",
      "33 \"tmpl\"\n",
      "34 \"sh\"\n",
      "50 \"boot\"\n",
      "79 \"gitignore\"\n",
      "105 \"xml\"\n",
      "111 \"ihex\"\n",
      "115 \"dts\"\n",
      "849 \"txt\"\n",
      "1080 \"S\"\n",
      "2391 \"NONE\"\n",
      "11622 \"h\"\n",
      "13147 \"c\"\n"
     ]
    }
   ],
   "source": [
    "%%bash\n",
    "root_dir=\"/home/dcuneo/git/PersonalDS/DataScience/command_line_pres_data\"\n",
    "\n",
    "while read f;do\n",
    "    echo $f\n",
    "done < $root_dir/ext_list.txt"
   ]
  },
  {
   "cell_type": "markdown",
   "metadata": {},
   "source": [
    "The bash magic for the notebook won't allow the use of the IFS, field separator.\n",
    "Bash will delimit the output of the cat, by spaces or newlines (\\n). So in order to get the output\n",
    "as we'd like, we need each line to be delimited by \\n, thus the IFS syntax.\n",
    "\n",
    "Read is a better way to work with the contents of a file where it's assumed that you want data on a per-line basis.\n",
    "Most of the time we do."
   ]
  },
  {
   "cell_type": "code",
   "execution_count": 52,
   "metadata": {
    "collapsed": false
   },
   "outputs": [
    {
     "name": "stdout",
     "output_type": "stream",
     "text": [
      "      1 \"1\"\n",
      "      1 \"1992-1997\"\n",
      "      1 \"1994-2004\"\n",
      "      1 \"1995-2002\"\n",
      "      1 \"1996-2002\"\n",
      "      1 \"5\"\n",
      "      1 \"act2000\"\n",
      "      1 \"AddingFirmware\"\n",
      "      1 \"AdvancedTopics\"\n",
      "      1 \"agh\"\n",
      "      1 \"aic79xx\"\n",
      "      1 \"aic7xxx\"\n",
      "      1 \"arcmsr\"\n",
      "      1 \"asp\"\n",
      "      1 \"au0828\"\n",
      "      1 \"audio\"\n",
      "      1 \"auto\"\n",
      "      1 \"avmb1\"\n",
      "      1 \"awk\"\n",
      "      1 \"ax\"\n",
      "      1 \"binfmt\"\n",
      "      1 \"bttv\"\n",
      "      1 \"buddha\"\n",
      "      1 \"build\"\n",
      "      1 \"CAPI\"\n",
      "      1 \"cc\"\n",
      "      1 \"cert\"\n",
      "      1 \"ChangeLog\"\n",
      "      1 \"char\"\n",
      "      1 \"clean\"\n",
      "      1 \"Coding\"\n",
      "      1 \"common\"\n",
      "      1 \"concap\"\n",
      "      1 \"Conclusion\"\n",
      "      1 \"copyright\"\n",
      "      1 \"cpia\"\n",
      "      1 \"cpia2\"\n",
      "      1 \"cputype\"\n",
      "      1 \"cx23885\"\n",
      "      1 \"cycladesZ\"\n",
      "      1 \"DAC960\"\n",
      "      1 \"dino\"\n",
      "      1 \"diversion\"\n",
      "      1 \"DOC\"\n",
      "      1 \"drm\"\n",
      "      1 \"drv_ba_resend\"\n",
      "      1 \"dtc\"\n",
      "      1 \"dvb-usb\"\n",
      "      1 \"Early-stage\"\n",
      "      1 \"em28xx\"\n",
      "      1 ext\n",
      "      1 \"FIRST\"\n",
      "      1 \"FlashPoint\"\n",
      "      1 \"Followthrough\"\n",
      "      1 \"FPE\"\n",
      "      1 \"freeze\"\n",
      "      1 \"freezer\"\n",
      "      1 \"fwinst\"\n",
      "      1 \"gate\"\n",
      "      1 \"gdbinit_200MHz_16MB\"\n",
      "      1 \"gdbinit_300MHz_32MB\"\n",
      "      1 \"gdbinit_400MHz_32MB\"\n",
      "      1 \"generic\"\n",
      "      1 \"gigaset\"\n",
      "      1 \"glade\"\n",
      "      1 \"headersinst\"\n",
      "      1 \"hfc-pci\"\n",
      "      1 \"HiSax\"\n",
      "      1 \"history\"\n",
      "      1 \"hm12\"\n",
      "      1 \"host\"\n",
      "      1 \"hp300\"\n",
      "      1 \"hysdn\"\n",
      "      1 \"hz\"\n",
      "      1 \"i2400m\"\n",
      "      1 \"icn\"\n",
      "      1 \"ide\"\n",
      "      1 \"include\"\n",
      "      1 \"inc_shipped\"\n",
      "      1 \"inf\"\n",
      "      1 \"ini\"\n",
      "      1 \"Intro\"\n",
      "      1 \"ioctl\"\n",
      "      1 \"iosched\"\n",
      "      1 \"ips\"\n",
      "      1 \"ipw2100\"\n",
      "      1 \"ipw2200\"\n",
      "      1 \"ir\"\n",
      "      1 \"kgdb\"\n",
      "      1 \"kmemcheck\"\n",
      "      1 \"lib\"\n",
      "      1 \"LIB\"\n",
      "      1 \"libfdt\"\n",
      "      1 \"Locking\"\n",
      "      1 \"lpfc\"\n",
      "      1 \"mailmap\"\n",
      "      1 \"maya44\"\n",
      "      1 \"megaraid_sas\"\n",
      "      1 \"mISDN\"\n",
      "      1 \"mm\"\n",
      "      1 \"modes\"\n",
      "      1 \"modinst\"\n",
      "      1 \"modpost\"\n",
      "      1 \"modules\"\n",
      "      1 \"ncr53c8xx\"\n",
      "      1 \"net\"\n",
      "      1 \"netlink\"\n",
      "      1 \"normal\"\n",
      "      1 \"OSS\"\n",
      "      1 \"pcbit\"\n",
      "      1 \"platform\"\n",
      "      1 \"Posting\"\n",
      "      1 \"preempt\"\n",
      "      1 \"Process\"\n",
      "      1 \"pvrusb2\"\n",
      "      1 \"qla2xxx\"\n",
      "      1 \"qla3xxx\"\n",
      "      1 \"qlge\"\n",
      "      1 \"quirks\"\n",
      "      1 \"README\"\n",
      "      1 \"rest\"\n",
      "      1 \"rules\"\n",
      "      1 \"saa7164\"\n",
      "      1 \"sb1000\"\n",
      "      1 \"sc\"\n",
      "      1 \"sed\"\n",
      "      1 \"smp\"\n",
      "      1 \"SRC\"\n",
      "      1 \"sym53c8xx\"\n",
      "      1 \"sym53c8xx_2\"\n",
      "      1 \"syncppp\"\n",
      "      1 \"tex\"\n",
      "      1 \"tuner\"\n",
      "      1 \"um\"\n",
      "      1 \"uni\"\n",
      "      1 \"usbvision\"\n",
      "      1 \"vbi\"\n",
      "      1 \"vdec2\"\n",
      "      1 \"vim\"\n",
      "      1 \"WARNING\"\n",
      "      1 \"wimax\"\n",
      "      1 \"WINVIEW\"\n",
      "      1 \"x25\"\n",
      "      1 \"x86\"\n",
      "      1 \"ymfsb\"\n",
      "      2 \"asm\"\n",
      "      2 \"cx88\"\n",
      "      2 \"dat\"\n",
      "      2 \"FAQ\"\n",
      "      2 \"fax\"\n",
      "      2 \"fig\"\n",
      "      2 \"gperf\"\n",
      "      2 \"html\"\n",
      "      2 \"ids\"\n",
      "      2 \"inl\"\n",
      "      2 \"ivtv\"\n",
      "      2 \"megaraid\"\n",
      "      2 \"mk\"\n",
      "      2 \"nommu\"\n",
      "      2 \"pbm\"\n",
      "      2 \"saa7134\"\n",
      "      2 \"ucode\"\n",
      "      3 \"gdbinit\"\n",
      "      3 \"map\"\n",
      "      3 \"py\"\n",
      "      3 \"reg\"\n",
      "      3 \"seq\"\n",
      "      4 \"cpu\"\n",
      "      4 \"doc\"\n",
      "      4 \"in\"\n",
      "      4 \"inc\"\n",
      "      4 \"ld\"\n",
      "      4 \"uc\"\n",
      "      5 \"l\"\n",
      "      5 \"scr\"\n",
      "      5 \"y\"\n",
      "      6 \"conf\"\n",
      "      6 \"xsl\"\n",
      "      7 \"H16\"\n",
      "      7 \"sa\"\n",
      "      9 \"h_shipped\"\n",
      "     11 \"c_shipped\"\n",
      "     13 \"tst\"\n",
      "     14 \"ppm\"\n",
      "     15 \"lds\"\n",
      "     23 \"pl\"\n",
      "     26 \"HEX\"\n",
      "     28 \"debug\"\n",
      "     33 \"tmpl\"\n",
      "     34 \"sh\"\n",
      "     50 \"boot\"\n",
      "     79 \"gitignore\"\n",
      "    105 \"xml\"\n",
      "    111 \"ihex\"\n",
      "    115 \"dts\"\n",
      "    849 \"txt\"\n",
      "   1080 \"S\"\n",
      "   2391 \"NONE\"\n",
      "  11622 \"h\"\n",
      "  13147 \"c\"\n"
     ]
    }
   ],
   "source": [
    "%%bash\n",
    "root_dir=\"/home/dcuneo/git/PersonalDS/DataScience/command_line_pres_data\"\n",
    "\n",
    "IFS=$'\\n'\n",
    "for f in $(cat $root_dir/ext_list.txt);do                                                                                 \n",
    "    echo $f\n",
    "done"
   ]
  },
  {
   "cell_type": "markdown",
   "metadata": {},
   "source": [
    "Let's do something slighly more interesting and introduce the _test_ while were at it."
   ]
  },
  {
   "cell_type": "code",
   "execution_count": 39,
   "metadata": {
    "collapsed": false
   },
   "outputs": [
    {
     "name": "stdout",
     "output_type": "stream",
     "text": [
      "11 \"c_shipped\"\n",
      "13 \"tst\"\n",
      "14 \"ppm\"\n",
      "15 \"lds\"\n",
      "23 \"pl\"\n",
      "26 \"HEX\"\n",
      "28 \"debug\"\n",
      "33 \"tmpl\"\n",
      "34 \"sh\"\n",
      "50 \"boot\"\n",
      "79 \"gitignore\"\n",
      "105 \"xml\"\n",
      "111 \"ihex\"\n",
      "115 \"dts\"\n",
      "849 \"txt\"\n",
      "1080 \"S\"\n",
      "2391 \"NONE\"\n",
      "11622 \"h\"\n",
      "13147 \"c\"\n"
     ]
    }
   ],
   "source": [
    "%%bash\n",
    "root_dir=\"/home/dcuneo/git/PersonalDS/DataScience/command_line_pres_data\"\n",
    "\n",
    "while read f;do\n",
    "        count=$(echo $f | awk '{print $1}')\n",
    "    if [ $count -gt 10 ];then\n",
    "        echo $f\n",
    "    fi\n",
    "done < $root_dir/ext_list.txt"
   ]
  },
  {
   "cell_type": "markdown",
   "metadata": {
    "collapsed": true
   },
   "source": [
    "## Use case\n",
    "Maybe you run a program in a loop, and save each output to a new file named with the dat and time"
   ]
  },
  {
   "cell_type": "code",
   "execution_count": 59,
   "metadata": {
    "collapsed": false
   },
   "outputs": [
    {
     "name": "stdout",
     "output_type": "stream",
     "text": [
      "/home/dcuneo/git/PersonalDS/DataScience/command_line_pres_data/2015_09_28_13:25:16.test\n",
      "/home/dcuneo/git/PersonalDS/DataScience/command_line_pres_data/2015_09_28_13:25:16.test\n",
      "/home/dcuneo/git/PersonalDS/DataScience/command_line_pres_data/2015_09_28_13:25:16.test\n",
      "/home/dcuneo/git/PersonalDS/DataScience/command_line_pres_data/2015_09_28_13:25:16.test\n",
      "/home/dcuneo/git/PersonalDS/DataScience/command_line_pres_data/2015_09_28_13:25:16.test\n"
     ]
    }
   ],
   "source": [
    "%%bash\n",
    "root_dir=\"/home/dcuneo/git/PersonalDS/DataScience/command_line_pres_data\"\n",
    "\n",
    "for ind in {1..5};do \n",
    "    fname=\"${root_dir}/$(date +%Y_%m_%d_%H:%M:%S).test\"\n",
    "    echo $fname\n",
    "done"
   ]
  },
  {
   "cell_type": "code",
   "execution_count": 60,
   "metadata": {
    "collapsed": false
   },
   "outputs": [
    {
     "name": "stdout",
     "output_type": "stream",
     "text": [
      "/home/dcuneo/git/PersonalDS/DataScience/command_line_pres_data/test_1.txt\n",
      "/home/dcuneo/git/PersonalDS/DataScience/command_line_pres_data/test_2.txt\n",
      "/home/dcuneo/git/PersonalDS/DataScience/command_line_pres_data/test_3.txt\n",
      "/home/dcuneo/git/PersonalDS/DataScience/command_line_pres_data/test_4.txt\n",
      "/home/dcuneo/git/PersonalDS/DataScience/command_line_pres_data/test_5.txt\n"
     ]
    }
   ],
   "source": [
    "%%bash\n",
    "root_dir=\"/home/dcuneo/git/PersonalDS/DataScience/command_line_pres_data\"\n",
    "\n",
    "for ind in {1..5};do \n",
    "    fname=\"${root_dir}/test_$ind.txt\"\n",
    "    echo $fname\n",
    "done"
   ]
  },
  {
   "cell_type": "code",
   "execution_count": null,
   "metadata": {
    "collapsed": true
   },
   "outputs": [],
   "source": []
  }
 ],
 "metadata": {
  "kernelspec": {
   "display_name": "Python 2",
   "language": "python",
   "name": "python2"
  },
  "language_info": {
   "codemirror_mode": {
    "name": "ipython",
    "version": 2
   },
   "file_extension": ".py",
   "mimetype": "text/x-python",
   "name": "python",
   "nbconvert_exporter": "python",
   "pygments_lexer": "ipython2",
   "version": "2.7.9"
  }
 },
 "nbformat": 4,
 "nbformat_minor": 0
}

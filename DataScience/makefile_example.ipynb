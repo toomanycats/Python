{
 "cells": [
  {
   "cell_type": "markdown",
   "metadata": {},
   "source": [
    "## Makefile example\n",
    "Add this to the existing command line notebook after fresh pull"
   ]
  },
  {
   "cell_type": "markdown",
   "metadata": {},
   "source": [
    "# Save the output to a file for the future\n",
    "We'll redirect the output from standard out (terminal display) to a file."
   ]
  },
  {
   "cell_type": "code",
   "execution_count": null,
   "metadata": {
    "collapsed": true
   },
   "outputs": [],
   "source": [
    "%%bash\n",
    "#root_dir=\"/home/daniel/git/Python2.7/DataScience/command_line_data\"\n",
    "root_dir=\"/home/dcuneo/git/PersonalDS/DataScience/command_line_pres_data\"\n",
    "cat $root_dir/linux_inventory.csv | cut -d, -f 3 | sort | uniq -c | sort -n > $root_dir/ext_list.txt"
   ]
  },
  {
   "cell_type": "markdown",
   "metadata": {},
   "source": [
    "## Makefile\n",
    "Let's try using a makefile. We have 2 steps required to create the sorted list of extensions and their counts.\n",
    "\n",
    "1. make an inventory\n",
    "2. sort the inventory by extension\n",
    "\n",
    "We also have 2 dependencies\n",
    "\n",
    "1. Linux kernel source\n",
    "2. inventory\n",
    "\n",
    "There's one final output, the sorted list of counts by extension"
   ]
  },
  {
   "cell_type": "code",
   "execution_count": null,
   "metadata": {
    "collapsed": true
   },
   "outputs": [],
   "source": []
  }
 ],
 "metadata": {
  "kernelspec": {
   "display_name": "Python 2",
   "language": "python",
   "name": "python2"
  },
  "language_info": {
   "codemirror_mode": {
    "name": "ipython",
    "version": 2
   },
   "file_extension": ".py",
   "mimetype": "text/x-python",
   "name": "python",
   "nbconvert_exporter": "python",
   "pygments_lexer": "ipython2",
   "version": "2.7.9"
  }
 },
 "nbformat": 4,
 "nbformat_minor": 0
}

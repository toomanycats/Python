{
 "cells": [
  {
   "cell_type": "markdown",
   "metadata": {},
   "source": [
    "http://jeroenjanssens.com/2013/09/19/seven-command-line-tools-for-data-science.html"
   ]
  },
  {
   "cell_type": "raw",
   "metadata": {},
   "source": [
    "data_dir=\"/home/daniel/git/Python2.7/DataScience/nlp_training_data\"\n",
    "\n",
    "curl -s http://www.gutenberg.org/cache/epub/28885/pg28885.txt > ${data_dir}/alice.txt\n",
    "\n",
    "grep -in \"chapter\" alice.txt | cut -d: -f1 > ${data_dir}/alice_chap_nums.txt\n",
    "\n",
    "grep -in \"the end\" alice.txt | tail -n 1 | cut -d: -f1 >> ${data_dir}/alice_chap_nums.txt\n"
   ]
  },
  {
   "cell_type": "code",
   "execution_count": 15,
   "metadata": {
    "collapsed": false
   },
   "outputs": [
    {
     "name": "stdout",
     "output_type": "stream",
     "text": [
      "[ 212  422  632  891 1160 1461 1792 2137 2454 2778 3077 3343 3637]\n"
     ]
    }
   ],
   "source": [
    "import numpy as np\n",
    "from os import path\n",
    "data_dir = \"/home/daniel/git/Python2.7/DataScience/nlp_training_data\"\n",
    "\n",
    "chap_line_nums = np.loadtxt(path.join(data_dir, 'alice_chap_nums.txt'), dtype='int', delimiter='\\n')\n",
    "\n",
    "f = open(path.join(data_dir,'alice.txt'), 'r')\n",
    "lines = f.readlines()\n",
    "f.close()\n",
    "     \n",
    "print chap_line_nums"
   ]
  },
  {
   "cell_type": "code",
   "execution_count": 62,
   "metadata": {
    "collapsed": false
   },
   "outputs": [],
   "source": [
    "for i in range(chap_line_nums.size - 1):\n",
    "    chap_num = i + 1\n",
    "    f = open(path.join(data_dir,'chap_%02i.txt' %chap_num), 'w')\n",
    "    \n",
    "    start = chap_line_nums[i]\n",
    "    end = chap_line_nums[i+1] - 1\n",
    "\n",
    "    for line in lines[start:end]:\n",
    "        f.write(line) \n",
    "    \n",
    "    f.close()\n",
    "    "
   ]
  },
  {
   "cell_type": "code",
   "execution_count": 28,
   "metadata": {
    "collapsed": true
   },
   "outputs": [],
   "source": [
    "from nltk import tokenize"
   ]
  },
  {
   "cell_type": "code",
   "execution_count": 29,
   "metadata": {
    "collapsed": false
   },
   "outputs": [],
   "source": [
    "def get_chap_sents(filename):\n",
    "    f = open(filename, 'r')\n",
    "    lines = f.read()\n",
    "    f.close()\n",
    "\n",
    "    sents = tokenize.sent_tokenize(lines)\n",
    "    sents = map(lambda s:s.replace('\\r\\n',' '), sents)\n",
    "    \n",
    "    return sents"
   ]
  },
  {
   "cell_type": "code",
   "execution_count": 68,
   "metadata": {
    "collapsed": false
   },
   "outputs": [],
   "source": [
    "import glob\n",
    "import pandas as pd\n",
    "\n",
    "chps = glob.glob(path.join(data_dir,\"chap_*.txt\"))\n",
    "chps.sort()\n",
    "\n",
    "sentences = get_chap_sents(chps[0])\n",
    "df = pd.DataFrame()\n",
    "\n",
    "df['lines'] = sentences\n",
    "df['chap'] = np.ones(len(sentences))"
   ]
  },
  {
   "cell_type": "code",
   "execution_count": 74,
   "metadata": {
    "collapsed": false
   },
   "outputs": [],
   "source": [
    "for ind, _file in enumerate(chps[1:], start=2):\n",
    "    sentences = get_chap_sents(_file)\n",
    "    n = len(sentences)\n",
    "    temp = pd.DataFrame({ 'lines':sentences, 'chap':np.ones(n)*ind })\n",
    "    #print temp\n",
    "    df = pd.concat([df, temp], axis=0)\n",
    "    "
   ]
  },
  {
   "cell_type": "code",
   "execution_count": null,
   "metadata": {
    "collapsed": true
   },
   "outputs": [],
   "source": [
    "from sklearn.feature_extraction.text import TfidfVectorizer\n",
    "from sklearn.cluster import KMeans"
   ]
  },
  {
   "cell_type": "code",
   "execution_count": null,
   "metadata": {
    "collapsed": true
   },
   "outputs": [],
   "source": [
    "# vectorize the \"docs\"\n",
    "# kmeans and store cluster in df"
   ]
  }
 ],
 "metadata": {
  "kernelspec": {
   "display_name": "Python 2",
   "language": "python",
   "name": "python2"
  },
  "language_info": {
   "codemirror_mode": {
    "name": "ipython",
    "version": 2
   },
   "file_extension": ".py",
   "mimetype": "text/x-python",
   "name": "python",
   "nbconvert_exporter": "python",
   "pygments_lexer": "ipython2",
   "version": "2.7.9"
  }
 },
 "nbformat": 4,
 "nbformat_minor": 0
}

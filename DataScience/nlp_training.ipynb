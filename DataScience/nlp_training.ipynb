{
 "cells": [
  {
   "cell_type": "markdown",
   "metadata": {},
   "source": [
    "http://jeroenjanssens.com/2013/09/19/seven-command-line-tools-for-data-science.html"
   ]
  },
  {
   "cell_type": "code",
   "execution_count": 1,
   "metadata": {
    "collapsed": false
   },
   "outputs": [
    {
     "ename": "IndentationError",
     "evalue": "unexpected indent (<ipython-input-1-cd8b32e6e41b>, line 6)",
     "output_type": "error",
     "traceback": [
      "\u001b[1;36m  File \u001b[1;32m\"<ipython-input-1-cd8b32e6e41b>\"\u001b[1;36m, line \u001b[1;32m6\u001b[0m\n\u001b[1;33m    sed -n \"$line,$((line+20))p\" alice.txt | sample -r 20% > chap_$i.txt\u001b[0m\n\u001b[1;37m    ^\u001b[0m\n\u001b[1;31mIndentationError\u001b[0m\u001b[1;31m:\u001b[0m unexpected indent\n"
     ]
    }
   ],
   "source": [
    "!curl -s http://www.gutenberg.org/cache/epub/28885/pg28885.txt > alice.txt\n",
    "!grep -in \"chapter\" alice.txt | cut -d: -f1 > alice_chap_num.txt\n",
    "\n",
    "!i=1\n",
    "!for line in $(cat chap_lines.txt);do\n",
    "    sed -n \"$line,$((line+20))p\" alice.txt | sample -r 20% > chap_$i.txt\n",
    "    i=$((i+1))\n",
    "done\n",
    "\n"
   ]
  },
  {
   "cell_type": "code",
   "execution_count": null,
   "metadata": {
    "collapsed": true
   },
   "outputs": [],
   "source": [
    "from sklearn import "
   ]
  }
 ],
 "metadata": {
  "kernelspec": {
   "display_name": "Python 2",
   "language": "python",
   "name": "python2"
  },
  "language_info": {
   "codemirror_mode": {
    "name": "ipython",
    "version": 2
   },
   "file_extension": ".py",
   "mimetype": "text/x-python",
   "name": "python",
   "nbconvert_exporter": "python",
   "pygments_lexer": "ipython2",
   "version": "2.7.9"
  }
 },
 "nbformat": 4,
 "nbformat_minor": 0
}

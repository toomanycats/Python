{
 "cells": [
  {
   "cell_type": "markdown",
   "metadata": {},
   "source": [
    "http://jeroenjanssens.com/2013/09/19/seven-command-line-tools-for-data-science.html"
   ]
  },
  {
   "cell_type": "raw",
   "metadata": {},
   "source": [
    "data_dir=\"/home/daniel/git/Python2.7/DataScience/nlp_training_data\"\n",
    "\n",
    "curl -s http://www.gutenberg.org/cache/epub/28885/pg28885.txt > ${data_dir}/alice.txt\n",
    "\n",
    "grep -in \"chapter\" alice.txt | cut -d: -f1 > ${data_dir}/alice_chap_nums.txt\n",
    "\n",
    "grep -in \"the end\" alice.txt | tail -n 1 | cut -d: -f1 >> ${data_dir}/alice_chap_nums.txt\n"
   ]
  },
  {
   "cell_type": "code",
   "execution_count": 197,
   "metadata": {
    "collapsed": false
   },
   "outputs": [
    {
     "name": "stdout",
     "output_type": "stream",
     "text": [
      "[ 212  422  632  891 1160 1461 1792 2137 2454 2778 3077 3343 3637]\n"
     ]
    }
   ],
   "source": [
    "import numpy as np\n",
    "from os import path\n",
    "data_dir = \"/home/daniel/git/Python2.7/DataScience/nlp_training_data\"\n",
    "\n",
    "chap_line_nums = np.loadtxt(path.join(data_dir, 'alice_chap_nums.txt'), dtype='int', delimiter='\\n')\n",
    "\n",
    "f = open(path.join(data_dir,'alice.txt'), 'r')\n",
    "lines = f.readlines()\n",
    "f.close()\n",
    "     \n",
    "print chap_line_nums"
   ]
  },
  {
   "cell_type": "code",
   "execution_count": 198,
   "metadata": {
    "collapsed": false
   },
   "outputs": [],
   "source": [
    "for i in range(chap_line_nums.size - 1):\n",
    "    chap_num = i + 1\n",
    "    f = open(path.join(data_dir,'chap_%02i.txt' %chap_num), 'w')\n",
    "    \n",
    "    start = chap_line_nums[i]\n",
    "    end = chap_line_nums[i+1] - 1\n",
    "\n",
    "    for line in lines[start:end]:\n",
    "        f.write(line) \n",
    "    \n",
    "    f.close()\n",
    "    "
   ]
  },
  {
   "cell_type": "code",
   "execution_count": 199,
   "metadata": {
    "collapsed": true
   },
   "outputs": [],
   "source": [
    "from nltk import tokenize\n",
    "import nltk\n",
    "import re"
   ]
  },
  {
   "cell_type": "code",
   "execution_count": 200,
   "metadata": {
    "collapsed": false
   },
   "outputs": [],
   "source": [
    "def get_chap_sents(filename):\n",
    "    f = open(filename, 'r')\n",
    "    lines = f.read()\n",
    "    f.close()\n",
    "\n",
    "    sents = tokenize.sent_tokenize(lines)\n",
    "    sents = map(lambda s:s.replace('\\r\\n',' '), sents)\n",
    "    sents = map(lambda s:s.replace('_',''), sents)\n",
    "    \n",
    "    return sents\n",
    "\n",
    "def join_n_sentences(sentences, n=6):\n",
    "    new_lines = []\n",
    "    num_sent = len(sentences)\n",
    "    index = np.arange(0, num_sent, n)\n",
    "    \n",
    "    for i in index:\n",
    "        concat_lines = ' '.join(sentences[i:i+n+1])\n",
    "        new_lines.append(concat_lines)\n",
    "        \n",
    "    return new_lines    \n",
    "\n",
    "def build_docs(filename):\n",
    "    sents = get_chap_sents(filename)\n",
    "    doc = join_n_sentences(sents)\n",
    "    \n",
    "    return doc\n",
    "\n",
    "def get_nltk_pos(string):\n",
    "    test = string.decode('ascii', 'ignore')\n",
    "    test = tokenize.word_tokenize(test)\n",
    "    pos = nltk.pos_tag(test)\n",
    "    \n",
    "    return pos\n",
    "\n",
    "#pat = \"^[NVJR]\"\n",
    "pat = \"^[NVJ]\"\n",
    "reg = re.compile(pat)\n",
    "def filter_pos(pos):\n",
    "    out = []\n",
    "    for item in pos:\n",
    "        if reg.match(item[1]):\n",
    "            out.append(item[0])\n",
    "            \n",
    "    return out        \n",
    "\n",
    "def get_pos(doc):\n",
    "    out = []\n",
    "    for string in doc:\n",
    "        pos = get_nltk_pos(string)\n",
    "        #print pos\n",
    "        temp = filter_pos(pos)\n",
    "        string = ' '.join(temp)\n",
    "        out.append(string)\n",
    "    \n",
    "    #out = [item for sub_list in out for item in sub_list]\n",
    "    return out\n",
    "\n",
    "def remove_short_words(pos, num_letters=4):\n",
    "    out = []\n",
    "    for word in pos.split(' '):\n",
    "        if len(word) < num_letters:\n",
    "            continue\n",
    "        else:\n",
    "            out.append(word)\n",
    "         \n",
    "    return ' '.join(out)    \n",
    "      \n",
    "        "
   ]
  },
  {
   "cell_type": "code",
   "execution_count": 201,
   "metadata": {
    "collapsed": false
   },
   "outputs": [
    {
     "name": "stdout",
     "output_type": "stream",
     "text": [
      "/home/daniel/git/Python2.7/DataScience/nlp_training_data/chap_01.txt\n",
      "/home/daniel/git/Python2.7/DataScience/nlp_training_data/chap_02.txt\n",
      "/home/daniel/git/Python2.7/DataScience/nlp_training_data/chap_03.txt\n",
      "/home/daniel/git/Python2.7/DataScience/nlp_training_data/chap_04.txt\n",
      "/home/daniel/git/Python2.7/DataScience/nlp_training_data/chap_05.txt\n",
      "/home/daniel/git/Python2.7/DataScience/nlp_training_data/chap_06.txt\n",
      "/home/daniel/git/Python2.7/DataScience/nlp_training_data/chap_07.txt\n",
      "/home/daniel/git/Python2.7/DataScience/nlp_training_data/chap_08.txt\n",
      "/home/daniel/git/Python2.7/DataScience/nlp_training_data/chap_09.txt\n",
      "/home/daniel/git/Python2.7/DataScience/nlp_training_data/chap_10.txt\n",
      "/home/daniel/git/Python2.7/DataScience/nlp_training_data/chap_11.txt\n",
      "/home/daniel/git/Python2.7/DataScience/nlp_training_data/chap_12.txt\n"
     ]
    }
   ],
   "source": [
    "import glob\n",
    "import pandas as pd\n",
    "\n",
    "chps = glob.glob(path.join(data_dir,\"chap_*.txt\"))\n",
    "chps.sort()\n",
    "\n",
    "for ch in chps:\n",
    "    print ch\n",
    "    "
   ]
  },
  {
   "cell_type": "code",
   "execution_count": 202,
   "metadata": {
    "collapsed": false
   },
   "outputs": [
    {
     "name": "stdout",
     "output_type": "stream",
     "text": [
      "Would the fall never come to an end? \"I wonder how many miles I've fallen by this time?\" she said aloud. \"I must be getting somewhere near the centre of the earth. Let me see: that would be four thousand miles down. I think--\" (for, you see, Alice had learnt several things of this sort in her lessons in the schoolroom, and though this was not a very good opportunity for showing off her knowledge, as there was no one to listen to her, still it was good practice to say it over) \"--yes, that's about the right distance--but then I wonder what Latitude or Longitude I've got to?\" (Alice had no idea what Latitude was, or Longitude either, but thought they were nice grand words to say.)\n",
      "\n",
      "15 docs\n",
      "\n",
      "Would fall never come end? wonder many miles I've fallen this time?\" said aloud. must getting somewhere near centre earth. see: that would four thousand miles down. think--\" (for, see, Alice learnt several things this sort lessons schoolroom, though this very good opportunity showing knowledge, there listen her, still good practice over) \"--yes, that's about right distance--but then wonder what Latitude Longitude I've to?\" (Alice idea what Latitude was, Longitude either, thought they were nice grand words say.)\n"
     ]
    }
   ],
   "source": [
    "docs = build_docs(chps[0])\n",
    "print docs[3] \n",
    "print '\\n' + str(len(docs)) + \" docs\" + '\\n'\n",
    "docs = map(remove_short_words, docs)\n",
    "print docs[3]"
   ]
  },
  {
   "cell_type": "code",
   "execution_count": 203,
   "metadata": {
    "collapsed": false
   },
   "outputs": [
    {
     "name": "stdout",
     "output_type": "stream",
     "text": [
      "[ Sidenote Down Rabbit-Hole ] ALICE beginning tired sitting sister bank having nothing twice peeped book sister reading pictures conversations book thought Alice pictures conversations considering mind made feel sleepy stupid ) pleasure making daisy-chain worth trouble getting picking daisies White Rabbit pink eyes nothing remarkable Alice think hear Rabbit dear dear late thought afterwards occurred ought have wondered time seemed natural ) Rabbit took watch waistcoat-pocket looked hurried Alice started feet flashed mind seen rabbit waistcoat-pocket watch take burning curiosity field time large rabbit-hole hedge moment went Alice considering world\n"
     ]
    }
   ],
   "source": [
    "pos = get_pos(docs)\n",
    "print pos[0]"
   ]
  },
  {
   "cell_type": "code",
   "execution_count": 204,
   "metadata": {
    "collapsed": false
   },
   "outputs": [
    {
     "data": {
      "text/html": [
       "<div style=\"max-height:1000px;max-width:1500px;overflow:auto;\">\n",
       "<table border=\"1\" class=\"dataframe\">\n",
       "  <thead>\n",
       "    <tr style=\"text-align: right;\">\n",
       "      <th></th>\n",
       "      <th>doc</th>\n",
       "      <th>chap</th>\n",
       "    </tr>\n",
       "  </thead>\n",
       "  <tbody>\n",
       "    <tr>\n",
       "      <th>0</th>\n",
       "      <td>[ Sidenote Down Rabbit-Hole ] ALICE beginning ...</td>\n",
       "      <td>1</td>\n",
       "    </tr>\n",
       "    <tr>\n",
       "      <th>1</th>\n",
       "      <td>moment went Alice considering world rabbit-hol...</td>\n",
       "      <td>1</td>\n",
       "    </tr>\n",
       "    <tr>\n",
       "      <th>2</th>\n",
       "      <td>thought Alice herself such fall think nothing ...</td>\n",
       "      <td>1</td>\n",
       "    </tr>\n",
       "    <tr>\n",
       "      <th>3</th>\n",
       "      <td>fall come end wonder many miles 've fallen tim...</td>\n",
       "      <td>1</td>\n",
       "    </tr>\n",
       "    <tr>\n",
       "      <th>4</th>\n",
       "      <td>( Alice idea Latitude was Longitude thought we...</td>\n",
       "      <td>1</td>\n",
       "    </tr>\n",
       "    <tr>\n",
       "      <th>5</th>\n",
       "      <td>( tried curtsey spoke fancy curtseying 're fal...</td>\n",
       "      <td>1</td>\n",
       "    </tr>\n",
       "    <tr>\n",
       "      <th>6</th>\n",
       "      <td>Dinah 'll miss to-night think Dinah cat ) hope...</td>\n",
       "      <td>1</td>\n",
       "    </tr>\n",
       "    <tr>\n",
       "      <th>7</th>\n",
       "      <td>Alice began sleepy went saying sort way cats b...</td>\n",
       "      <td>1</td>\n",
       "    </tr>\n",
       "    <tr>\n",
       "      <th>8</th>\n",
       "      <td>thump came heap sticks leaves fall Alice hurt ...</td>\n",
       "      <td>1</td>\n",
       "    </tr>\n",
       "    <tr>\n",
       "      <th>9</th>\n",
       "      <td>came little three-legged table made solid glas...</td>\n",
       "      <td>1</td>\n",
       "    </tr>\n",
       "    <tr>\n",
       "      <th>10</th>\n",
       "      <td>think knew begin For see many out-of-the-way t...</td>\n",
       "      <td>1</td>\n",
       "    </tr>\n",
       "    <tr>\n",
       "      <th>11</th>\n",
       "      <td>curious feeling said Alice shutting telescope ...</td>\n",
       "      <td>1</td>\n",
       "    </tr>\n",
       "    <tr>\n",
       "      <th>12</th>\n",
       "      <td>tried fancy flame candle looks candle blown re...</td>\n",
       "      <td>1</td>\n",
       "    </tr>\n",
       "    <tr>\n",
       "      <th>13</th>\n",
       "      <td>gave good advice seldom followed scolded bring...</td>\n",
       "      <td>1</td>\n",
       "    </tr>\n",
       "    <tr>\n",
       "      <th>14</th>\n",
       "      <td>way holding hand head feel growing surprised f...</td>\n",
       "      <td>1</td>\n",
       "    </tr>\n",
       "  </tbody>\n",
       "</table>\n",
       "</div>"
      ],
      "text/plain": [
       "                                                  doc  chap\n",
       "0   [ Sidenote Down Rabbit-Hole ] ALICE beginning ...     1\n",
       "1   moment went Alice considering world rabbit-hol...     1\n",
       "2   thought Alice herself such fall think nothing ...     1\n",
       "3   fall come end wonder many miles 've fallen tim...     1\n",
       "4   ( Alice idea Latitude was Longitude thought we...     1\n",
       "5   ( tried curtsey spoke fancy curtseying 're fal...     1\n",
       "6   Dinah 'll miss to-night think Dinah cat ) hope...     1\n",
       "7   Alice began sleepy went saying sort way cats b...     1\n",
       "8   thump came heap sticks leaves fall Alice hurt ...     1\n",
       "9   came little three-legged table made solid glas...     1\n",
       "10  think knew begin For see many out-of-the-way t...     1\n",
       "11  curious feeling said Alice shutting telescope ...     1\n",
       "12  tried fancy flame candle looks candle blown re...     1\n",
       "13  gave good advice seldom followed scolded bring...     1\n",
       "14  way holding hand head feel growing surprised f...     1"
      ]
     },
     "execution_count": 204,
     "metadata": {},
     "output_type": "execute_result"
    }
   ],
   "source": [
    "df = pd.DataFrame()\n",
    "\n",
    "df['doc'] = pos\n",
    "#df['doc'] = docs\n",
    "df['chap'] = np.ones(len(pos))\n",
    "df"
   ]
  },
  {
   "cell_type": "code",
   "execution_count": 205,
   "metadata": {
    "collapsed": false
   },
   "outputs": [
    {
     "data": {
      "text/html": [
       "<div style=\"max-height:1000px;max-width:1500px;overflow:auto;\">\n",
       "<table border=\"1\" class=\"dataframe\">\n",
       "  <thead>\n",
       "    <tr style=\"text-align: right;\">\n",
       "      <th></th>\n",
       "      <th>chap</th>\n",
       "      <th>doc</th>\n",
       "    </tr>\n",
       "  </thead>\n",
       "  <tbody>\n",
       "    <tr>\n",
       "      <th>0</th>\n",
       "      <td>1</td>\n",
       "      <td>[ Sidenote Down Rabbit-Hole ] ALICE beginning ...</td>\n",
       "    </tr>\n",
       "    <tr>\n",
       "      <th>1</th>\n",
       "      <td>1</td>\n",
       "      <td>moment went Alice considering world rabbit-hol...</td>\n",
       "    </tr>\n",
       "    <tr>\n",
       "      <th>2</th>\n",
       "      <td>1</td>\n",
       "      <td>thought Alice herself such fall think nothing ...</td>\n",
       "    </tr>\n",
       "    <tr>\n",
       "      <th>3</th>\n",
       "      <td>1</td>\n",
       "      <td>fall come end wonder many miles 've fallen tim...</td>\n",
       "    </tr>\n",
       "    <tr>\n",
       "      <th>4</th>\n",
       "      <td>1</td>\n",
       "      <td>( Alice idea Latitude was Longitude thought we...</td>\n",
       "    </tr>\n",
       "    <tr>\n",
       "      <th>5</th>\n",
       "      <td>1</td>\n",
       "      <td>( tried curtsey spoke fancy curtseying 're fal...</td>\n",
       "    </tr>\n",
       "    <tr>\n",
       "      <th>6</th>\n",
       "      <td>1</td>\n",
       "      <td>Dinah 'll miss to-night think Dinah cat ) hope...</td>\n",
       "    </tr>\n",
       "    <tr>\n",
       "      <th>7</th>\n",
       "      <td>1</td>\n",
       "      <td>Alice began sleepy went saying sort way cats b...</td>\n",
       "    </tr>\n",
       "    <tr>\n",
       "      <th>8</th>\n",
       "      <td>1</td>\n",
       "      <td>thump came heap sticks leaves fall Alice hurt ...</td>\n",
       "    </tr>\n",
       "    <tr>\n",
       "      <th>9</th>\n",
       "      <td>1</td>\n",
       "      <td>came little three-legged table made solid glas...</td>\n",
       "    </tr>\n",
       "    <tr>\n",
       "      <th>10</th>\n",
       "      <td>1</td>\n",
       "      <td>think knew begin For see many out-of-the-way t...</td>\n",
       "    </tr>\n",
       "    <tr>\n",
       "      <th>11</th>\n",
       "      <td>1</td>\n",
       "      <td>curious feeling said Alice shutting telescope ...</td>\n",
       "    </tr>\n",
       "    <tr>\n",
       "      <th>12</th>\n",
       "      <td>1</td>\n",
       "      <td>tried fancy flame candle looks candle blown re...</td>\n",
       "    </tr>\n",
       "    <tr>\n",
       "      <th>13</th>\n",
       "      <td>1</td>\n",
       "      <td>gave good advice seldom followed scolded bring...</td>\n",
       "    </tr>\n",
       "    <tr>\n",
       "      <th>14</th>\n",
       "      <td>1</td>\n",
       "      <td>way holding hand head feel growing surprised f...</td>\n",
       "    </tr>\n",
       "    <tr>\n",
       "      <th>0</th>\n",
       "      <td>2</td>\n",
       "      <td>[ Sidenote Pool Tears ] CURIOUSER curiouser cr...</td>\n",
       "    </tr>\n",
       "    <tr>\n",
       "      <th>1</th>\n",
       "      <td>2</td>\n",
       "      <td>shall great deal trouble myself manage best ki...</td>\n",
       "    </tr>\n",
       "    <tr>\n",
       "      <th>2</th>\n",
       "      <td>2</td>\n",
       "      <td>Hearthrug Fender ( Alice love dear nonsense ta...</td>\n",
       "    </tr>\n",
       "    <tr>\n",
       "      <th>3</th>\n",
       "      <td>2</td>\n",
       "      <td>Stop moment tell went same shedding gallons te...</td>\n",
       "    </tr>\n",
       "    <tr>\n",
       "      <th>4</th>\n",
       "      <td>2</td>\n",
       "      <td>savage 've kept waiting Alice felt desperate r...</td>\n",
       "    </tr>\n",
       "    <tr>\n",
       "      <th>5</th>\n",
       "      <td>2</td>\n",
       "      <td>wonder 've been changed night think same morni...</td>\n",
       "    </tr>\n",
       "    <tr>\n",
       "      <th>6</th>\n",
       "      <td>2</td>\n",
       "      <td>'m sure Ada said hair goes such long ringlets ...</td>\n",
       "    </tr>\n",
       "    <tr>\n",
       "      <th>7</th>\n",
       "      <td>2</td>\n",
       "      <td>Multiplication Table does signify let Geograph...</td>\n",
       "    </tr>\n",
       "    <tr>\n",
       "      <th>8</th>\n",
       "      <td>2</td>\n",
       "      <td>Mabel have live poky little house have next to...</td>\n",
       "    </tr>\n",
       "    <tr>\n",
       "      <th>9</th>\n",
       "      <td>2</td>\n",
       "      <td>cried Alice sudden burst tears wish heads tire...</td>\n",
       "    </tr>\n",
       "    <tr>\n",
       "      <th>10</th>\n",
       "      <td>2</td>\n",
       "      <td>went table measure found guess feet high going...</td>\n",
       "    </tr>\n",
       "    <tr>\n",
       "      <th>11</th>\n",
       "      <td>2</td>\n",
       "      <td>said words foot slipped moment splash chin sal...</td>\n",
       "    </tr>\n",
       "    <tr>\n",
       "      <th>12</th>\n",
       "      <td>2</td>\n",
       "      <td>said Alice swam trying find punished suppose b...</td>\n",
       "    </tr>\n",
       "    <tr>\n",
       "      <th>13</th>\n",
       "      <td>2</td>\n",
       "      <td>Everything out-of-the-way think likely talk ra...</td>\n",
       "    </tr>\n",
       "    <tr>\n",
       "      <th>14</th>\n",
       "      <td>2</td>\n",
       "      <td>( knowledge history Alice clear notion anythin...</td>\n",
       "    </tr>\n",
       "    <tr>\n",
       "      <th>...</th>\n",
       "      <td>...</td>\n",
       "      <td>...</td>\n",
       "    </tr>\n",
       "    <tr>\n",
       "      <th>11</th>\n",
       "      <td>11</td>\n",
       "      <td>take dunce 'm poor man Hatter went most things...</td>\n",
       "    </tr>\n",
       "    <tr>\n",
       "      <th>12</th>\n",
       "      <td>11</td>\n",
       "      <td>deny said March Hare denies said King leave pa...</td>\n",
       "    </tr>\n",
       "    <tr>\n",
       "      <th>13</th>\n",
       "      <td>11</td>\n",
       "      <td>remember said Hatter remember remarked King ha...</td>\n",
       "    </tr>\n",
       "    <tr>\n",
       "      <th>14</th>\n",
       "      <td>11</td>\n",
       "      <td>hard word explain done large canvas bag tied m...</td>\n",
       "    </tr>\n",
       "    <tr>\n",
       "      <th>15</th>\n",
       "      <td>11</td>\n",
       "      <td>King replied other guinea-pig cheered suppress...</td>\n",
       "    </tr>\n",
       "    <tr>\n",
       "      <th>16</th>\n",
       "      <td>11</td>\n",
       "      <td>go said King Hatter left court waiting shoes t...</td>\n",
       "    </tr>\n",
       "    <tr>\n",
       "      <th>17</th>\n",
       "      <td>11</td>\n",
       "      <td>Give evidence said King said cook King looked ...</td>\n",
       "    </tr>\n",
       "    <tr>\n",
       "      <th>18</th>\n",
       "      <td>11</td>\n",
       "      <td>Collar Dormouse Queen shrieked Behead Dormouse...</td>\n",
       "    </tr>\n",
       "    <tr>\n",
       "      <th>19</th>\n",
       "      <td>11</td>\n",
       "      <td>minutes whole court confusion getting Dormouse...</td>\n",
       "    </tr>\n",
       "    <tr>\n",
       "      <th>20</th>\n",
       "      <td>11</td>\n",
       "      <td>Alice watched White Rabbit fumbled list feelin...</td>\n",
       "    </tr>\n",
       "    <tr>\n",
       "      <th>0</th>\n",
       "      <td>12</td>\n",
       "      <td>[ Sidenote Alice Evidence ] cried Alice forget...</td>\n",
       "    </tr>\n",
       "    <tr>\n",
       "      <th>1</th>\n",
       "      <td>12</td>\n",
       "      <td>signifies much said think quite much trial oth...</td>\n",
       "    </tr>\n",
       "    <tr>\n",
       "      <th>2</th>\n",
       "      <td>12</td>\n",
       "      <td>persisted King Nothing said Alice 's important...</td>\n",
       "    </tr>\n",
       "    <tr>\n",
       "      <th>3</th>\n",
       "      <td>12</td>\n",
       "      <td>Alice enough look slates does matter bit thoug...</td>\n",
       "    </tr>\n",
       "    <tr>\n",
       "      <th>4</th>\n",
       "      <td>12</td>\n",
       "      <td>miles high added Queen Well sha'n't rate said ...</td>\n",
       "    </tr>\n",
       "    <tr>\n",
       "      <th>5</th>\n",
       "      <td>12</td>\n",
       "      <td>'s more evidence come please Majesty said Whit...</td>\n",
       "    </tr>\n",
       "    <tr>\n",
       "      <th>6</th>\n",
       "      <td>12</td>\n",
       "      <td>said jurymen is directed said White Rabbit fac...</td>\n",
       "    </tr>\n",
       "    <tr>\n",
       "      <th>7</th>\n",
       "      <td>12</td>\n",
       "      <td>( jury looked puzzled have imitated somebody '...</td>\n",
       "    </tr>\n",
       "    <tr>\n",
       "      <th>8</th>\n",
       "      <td>12</td>\n",
       "      <td>general clapping hands first thing King said d...</td>\n",
       "    </tr>\n",
       "    <tr>\n",
       "      <th>9</th>\n",
       "      <td>12</td>\n",
       "      <td>begin please Majesty asked Begin beginning Kin...</td>\n",
       "    </tr>\n",
       "    <tr>\n",
       "      <th>10</th>\n",
       "      <td>12</td>\n",
       "      <td>chance Involved affair trusts free Exactly wer...</td>\n",
       "    </tr>\n",
       "    <tr>\n",
       "      <th>11</th>\n",
       "      <td>12</td>\n",
       "      <td>'s meaning said King saves world trouble know ...</td>\n",
       "    </tr>\n",
       "    <tr>\n",
       "      <th>12</th>\n",
       "      <td>12</td>\n",
       "      <td>said ( being made cardboard ) right said King ...</td>\n",
       "    </tr>\n",
       "    <tr>\n",
       "      <th>13</th>\n",
       "      <td>12</td>\n",
       "      <td>'before fit fits dear think said Queen said Qu...</td>\n",
       "    </tr>\n",
       "    <tr>\n",
       "      <th>14</th>\n",
       "      <td>12</td>\n",
       "      <td>dead silence 's pun King added angry tone ever...</td>\n",
       "    </tr>\n",
       "    <tr>\n",
       "      <th>15</th>\n",
       "      <td>12</td>\n",
       "      <td>Sentence verdict afterwards Stuff nonsense sai...</td>\n",
       "    </tr>\n",
       "    <tr>\n",
       "      <th>16</th>\n",
       "      <td>12</td>\n",
       "      <td>! said Alice head Queen shouted voice Nobody m...</td>\n",
       "    </tr>\n",
       "    <tr>\n",
       "      <th>17</th>\n",
       "      <td>12</td>\n",
       "      <td>said Alice ( grown full size time 're nothing ...</td>\n",
       "    </tr>\n",
       "    <tr>\n",
       "      <th>18</th>\n",
       "      <td>12</td>\n",
       "      <td>'ve such curious dream said Alice told sister ...</td>\n",
       "    </tr>\n",
       "    <tr>\n",
       "      <th>19</th>\n",
       "      <td>12</td>\n",
       "      <td>pictured same little sister hers after-time gr...</td>\n",
       "    </tr>\n",
       "  </tbody>\n",
       "</table>\n",
       "<p>277 rows × 2 columns</p>\n",
       "</div>"
      ],
      "text/plain": [
       "    chap                                                doc\n",
       "0      1  [ Sidenote Down Rabbit-Hole ] ALICE beginning ...\n",
       "1      1  moment went Alice considering world rabbit-hol...\n",
       "2      1  thought Alice herself such fall think nothing ...\n",
       "3      1  fall come end wonder many miles 've fallen tim...\n",
       "4      1  ( Alice idea Latitude was Longitude thought we...\n",
       "5      1  ( tried curtsey spoke fancy curtseying 're fal...\n",
       "6      1  Dinah 'll miss to-night think Dinah cat ) hope...\n",
       "7      1  Alice began sleepy went saying sort way cats b...\n",
       "8      1  thump came heap sticks leaves fall Alice hurt ...\n",
       "9      1  came little three-legged table made solid glas...\n",
       "10     1  think knew begin For see many out-of-the-way t...\n",
       "11     1  curious feeling said Alice shutting telescope ...\n",
       "12     1  tried fancy flame candle looks candle blown re...\n",
       "13     1  gave good advice seldom followed scolded bring...\n",
       "14     1  way holding hand head feel growing surprised f...\n",
       "0      2  [ Sidenote Pool Tears ] CURIOUSER curiouser cr...\n",
       "1      2  shall great deal trouble myself manage best ki...\n",
       "2      2  Hearthrug Fender ( Alice love dear nonsense ta...\n",
       "3      2  Stop moment tell went same shedding gallons te...\n",
       "4      2  savage 've kept waiting Alice felt desperate r...\n",
       "5      2  wonder 've been changed night think same morni...\n",
       "6      2  'm sure Ada said hair goes such long ringlets ...\n",
       "7      2  Multiplication Table does signify let Geograph...\n",
       "8      2  Mabel have live poky little house have next to...\n",
       "9      2  cried Alice sudden burst tears wish heads tire...\n",
       "10     2  went table measure found guess feet high going...\n",
       "11     2  said words foot slipped moment splash chin sal...\n",
       "12     2  said Alice swam trying find punished suppose b...\n",
       "13     2  Everything out-of-the-way think likely talk ra...\n",
       "14     2  ( knowledge history Alice clear notion anythin...\n",
       "..   ...                                                ...\n",
       "11    11  take dunce 'm poor man Hatter went most things...\n",
       "12    11  deny said March Hare denies said King leave pa...\n",
       "13    11  remember said Hatter remember remarked King ha...\n",
       "14    11  hard word explain done large canvas bag tied m...\n",
       "15    11  King replied other guinea-pig cheered suppress...\n",
       "16    11  go said King Hatter left court waiting shoes t...\n",
       "17    11  Give evidence said King said cook King looked ...\n",
       "18    11  Collar Dormouse Queen shrieked Behead Dormouse...\n",
       "19    11  minutes whole court confusion getting Dormouse...\n",
       "20    11  Alice watched White Rabbit fumbled list feelin...\n",
       "0     12  [ Sidenote Alice Evidence ] cried Alice forget...\n",
       "1     12  signifies much said think quite much trial oth...\n",
       "2     12  persisted King Nothing said Alice 's important...\n",
       "3     12  Alice enough look slates does matter bit thoug...\n",
       "4     12  miles high added Queen Well sha'n't rate said ...\n",
       "5     12  's more evidence come please Majesty said Whit...\n",
       "6     12  said jurymen is directed said White Rabbit fac...\n",
       "7     12  ( jury looked puzzled have imitated somebody '...\n",
       "8     12  general clapping hands first thing King said d...\n",
       "9     12  begin please Majesty asked Begin beginning Kin...\n",
       "10    12  chance Involved affair trusts free Exactly wer...\n",
       "11    12  's meaning said King saves world trouble know ...\n",
       "12    12  said ( being made cardboard ) right said King ...\n",
       "13    12  'before fit fits dear think said Queen said Qu...\n",
       "14    12  dead silence 's pun King added angry tone ever...\n",
       "15    12  Sentence verdict afterwards Stuff nonsense sai...\n",
       "16    12  ! said Alice head Queen shouted voice Nobody m...\n",
       "17    12  said Alice ( grown full size time 're nothing ...\n",
       "18    12  've such curious dream said Alice told sister ...\n",
       "19    12  pictured same little sister hers after-time gr...\n",
       "\n",
       "[277 rows x 2 columns]"
      ]
     },
     "execution_count": 205,
     "metadata": {},
     "output_type": "execute_result"
    }
   ],
   "source": [
    "for ind, _file in enumerate(chps[1:], start=2):\n",
    "    docs = build_docs(_file)\n",
    "    docs = map(remove_short_words, docs)\n",
    "    pos = get_pos(docs)\n",
    "    n = len(pos)\n",
    "    temp = pd.DataFrame({ 'doc':pos, 'chap':np.ones(n)*ind })\n",
    "    #print temp\n",
    "    df = pd.concat([df, temp], axis=0)\n",
    "\n",
    "df    "
   ]
  },
  {
   "cell_type": "code",
   "execution_count": 206,
   "metadata": {
    "collapsed": true
   },
   "outputs": [],
   "source": [
    "from sklearn.feature_extraction.text import TfidfVectorizer, ENGLISH_STOP_WORDS"
   ]
  },
  {
   "cell_type": "code",
   "execution_count": 234,
   "metadata": {
    "collapsed": false
   },
   "outputs": [
    {
     "name": "stdout",
     "output_type": "stream",
     "text": [
      "chap 1 :Num-chunks 15\n",
      "chap 2 :Num-chunks 20\n",
      "chap 3 :Num-chunks 20\n",
      "chap 4 :Num-chunks 25\n",
      "chap 5 :Num-chunks 23\n",
      "chap 6 :Num-chunks 25\n",
      "chap 7 :Num-chunks 30\n",
      "chap 8 :Num-chunks 24\n",
      "chap 9 :Num-chunks 28\n",
      "chap 10 :Num-chunks 26\n",
      "chap 11 :Num-chunks 21\n",
      "chap 12 :Num-chunks 20\n"
     ]
    }
   ],
   "source": [
    "for i in range(1, 13):\n",
    "    print \"chap\", i, \":Num-chunks\", df[df.chap == i].doc.count()"
   ]
  },
  {
   "cell_type": "code",
   "execution_count": 226,
   "metadata": {
    "collapsed": false
   },
   "outputs": [],
   "source": [
    "stop_words = ENGLISH_STOP_WORDS.union(['alice', 'illustration', 'thing', 'things'])"
   ]
  },
  {
   "cell_type": "code",
   "execution_count": 318,
   "metadata": {
    "collapsed": false,
    "scrolled": true
   },
   "outputs": [
    {
     "name": "stdout",
     "output_type": "stream",
     "text": [
      "(277, 96)\n",
      "[u'added', u'afraid', u'air', u'asked', u'begin', u'beginning', u'best', u'better', u'called', u'cat', u'caterpillar', u'change', u'child', u'coming', u'course', u'court', u'cried', u'curious', u'day', u'deal', u'dear', u'did', u'door', u'dormouse', u'duchess', u'face', u'feet', u'felt', u'garden', u'gave', u'getting', u'going', u'gone', u'good', u'half', u'hand', u'hands', u'hear', u'heard', u'high', u'house', u'idea', u'jury', u'kept', u'knew', u'left', u'life', u'like', u'long', u'majesty', u'make', u'matter', u'mind', u'minute', u'minutes', u'mouse', u'oh', u'pool', u'poor', u'question', u'remember', u'repeated', u'said duchess', u'said gryphon', u'said hatter', u'said king', u'said mock', u'say', u'saying', u'seen', u'silence', u'size', u'sort', u'speak', u'spoke', u'suppose', u'sure', u'table', u'talk', u'talking', u'tea', u'tears', u'till', u'took', u'tried', u'trying', u'turn', u'turned', u'used', u'way', u'white', u'white rabbit', u'wish', u'wonder', u'words', u'yes']\n"
     ]
    }
   ],
   "source": [
    "vectorizer = TfidfVectorizer(max_features=200,\n",
    "                             lowercase=True,\n",
    "                             max_df=28,\n",
    "                             min_df=13,\n",
    "                             use_idf=False,\n",
    "                             stop_words=stop_words,\n",
    "                             norm='l2',\n",
    "                             ngram_range=(1, 2),\n",
    "                             analyzer='word',\n",
    "                             decode_error='ignore',\n",
    "                             strip_accents='unicode'\n",
    "                             )\n",
    "\n",
    "\n",
    "matrix = vectorizer.fit_transform(df['doc'])\n",
    "features = vectorizer.get_feature_names()\n",
    "       \n",
    "print matrix.shape \n",
    "print features\n",
    "# vectorize the \"docs\"\n",
    "# kmeans and store cluster in df"
   ]
  },
  {
   "cell_type": "code",
   "execution_count": 319,
   "metadata": {
    "collapsed": false
   },
   "outputs": [
    {
     "name": "stdout",
     "output_type": "stream",
     "text": [
      "[ 0  1  2  3  4  5  6  7  8  9 10 11]\n"
     ]
    }
   ],
   "source": [
    "from sklearn.cluster import KMeans\n",
    "k = len(chps)\n",
    "km = KMeans(k)\n",
    "assignments = km.fit_predict(matrix)\n",
    "\n",
    "print np.unique(assignments)\n",
    "    \n"
   ]
  },
  {
   "cell_type": "code",
   "execution_count": 320,
   "metadata": {
    "collapsed": true
   },
   "outputs": [],
   "source": [
    "df['cluster_chaps'] = assignments + 1"
   ]
  },
  {
   "cell_type": "code",
   "execution_count": 321,
   "metadata": {
    "collapsed": false
   },
   "outputs": [
    {
     "name": "stdout",
     "output_type": "stream",
     "text": [
      "    chap                                                doc  cluster_chaps\n",
      "0      4  [ Sidenote Rabbit sends Little Bill ] White Ra...              5\n",
      "1      4  Alice guessed moment looking pair white gloves...              2\n",
      "2      4  surprised finds take gloves find said came nea...              2\n",
      "3      4  began fancying sort thing happen 'Miss Alice C...             12\n",
      "4      4  label time words DRINK nevertheless uncorked l...              2\n",
      "5      4  wish went growing growing kneel floor minute r...              2\n",
      "6      4  wish had gone rabbit-hole 's curious know sort...              2\n",
      "7      4  comfort way woman have lessons learn like Oh f...             11\n",
      "8      4  went taking first side other making conversati...             11\n",
      "9      4  Alice knew Rabbit coming look trembled till sh...             11\n",
      "10     4  Pat voice heard Sure Digging apples Digging ap...             11\n",
      "11     4  Come help Sounds more broken glass ) tell Pat ...              6\n",
      "12     4  arm goose size fills whole window Sure does 's...              6\n",
      "13     4  silence Alice hear whispers such Sure do like ...              6\n",
      "14     4  wonder next pulling window wish ! sure do want...              6\n",
      "15     4  catch hold rope Will bear Mind slate Oh 's com...              6\n",
      "16     4  Bill come chimney said Alice herself seem ever...             11\n",
      "17     4  first thing heard general chorus goes Bill Rab...             11\n",
      "18     4  did fellow said others burn house said Rabbit ...              6\n",
      "19     4  sense take roof After minute began moving Alic...             11\n",
      "20     4  produced dead silence Alice noticed surprise p...             10\n",
      "21     4  made rush Alice moment appeared hard found saf...              6\n",
      "22     4  said Alice coaxing tone tried whistle frighten...              6\n",
      "23     4  dear forgotten 've grow see managed suppose dr...             10\n",
      "24     4  large mushroom growing same height looked side...              4\n"
     ]
    }
   ],
   "source": [
    "print df[df.chap == 4]"
   ]
  },
  {
   "cell_type": "code",
   "execution_count": 322,
   "metadata": {
    "collapsed": false
   },
   "outputs": [
    {
     "data": {
      "image/png": "[encoded data removed]",
      "text/plain": [
       "<matplotlib.figure.Figure at 0x7f187bc4b150>"
      ]
     },
     "metadata": {},
     "output_type": "display_data"
    }
   ],
   "source": [
    "%matplotlib inline\n",
    "for i in range(1, 7):\n",
    "    df[df.chap == i]['cluster_chaps'].hist(figsize=(16,5), alpha=0.5, width=0.5)"
   ]
  },
  {
   "cell_type": "code",
   "execution_count": null,
   "metadata": {
    "collapsed": false
   },
   "outputs": [],
   "source": []
  },
  {
   "cell_type": "code",
   "execution_count": null,
   "metadata": {
    "collapsed": true
   },
   "outputs": [],
   "source": []
  }
 ],
 "metadata": {
  "kernelspec": {
   "display_name": "Python 2",
   "language": "python",
   "name": "python2"
  },
  "language_info": {
   "codemirror_mode": {
    "name": "ipython",
    "version": 2
   },
   "file_extension": ".py",
   "mimetype": "text/x-python",
   "name": "python",
   "nbconvert_exporter": "python",
   "pygments_lexer": "ipython2",
   "version": "2.7.9"
  }
 },
 "nbformat": 4,
 "nbformat_minor": 0
}

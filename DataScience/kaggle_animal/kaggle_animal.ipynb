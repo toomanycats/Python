{
 "cells": [
  {
   "cell_type": "code",
   "execution_count": 794,
   "metadata": {
    "collapsed": true
   },
   "outputs": [],
   "source": [
    "import pandas as pd\n",
    "import numpy as np\n",
    "import re\n",
    "\n",
    "from sklearn.ensemble import RandomForestClassifier, GradientBoostingClassifier\n",
    "from sklearn.metrics import roc_curve,auc\n",
    "from sklearn import metrics\n",
    "from sklearn.grid_search import GridSearchCV, RandomizedSearchCV\n",
    "from sklearn import cross_validation"
   ]
  },
  {
   "cell_type": "code",
   "execution_count": 795,
   "metadata": {
    "collapsed": false
   },
   "outputs": [
    {
     "name": "stdout",
     "output_type": "stream",
     "text": [
      "The watermark extension is already loaded. To reload it, use:\n",
      "  %reload_ext watermark\n",
      "CPython 2.7.10\n",
      "IPython 3.1.0\n",
      "\n",
      "pandas 0.16.2\n",
      "scikit-learn 0.16.0\n",
      "\n",
      "compiler   : GCC 4.4.7 20120313 (Red Hat 4.4.7-1)\n",
      "system     : Linux\n",
      "release    : 3.16.0-67-generic\n",
      "machine    : x86_64\n",
      "processor  : x86_64\n",
      "CPU cores  : 8\n",
      "interpreter: 64bit\n",
      "Git hash   : 948874e37b6f8bebff81ce56569be23254686efd\n"
     ]
    }
   ],
   "source": [
    "#%install_ext https://raw.githubusercontent.com/rasbt/watermark/master/watermark.py\n",
    "%load_ext watermark\n",
    "%watermark -g -m -v -p pandas,scikit-learn"
   ]
  },
  {
   "cell_type": "code",
   "execution_count": 796,
   "metadata": {
    "collapsed": false,
    "scrolled": false
   },
   "outputs": [
    {
     "data": {
      "text/plain": [
       "(26729, 10)"
      ]
     },
     "execution_count": 796,
     "metadata": {},
     "output_type": "execute_result"
    }
   ],
   "source": [
    "df = pd.read_csv(\"train.csv\")\n",
    "df.shape"
   ]
  },
  {
   "cell_type": "code",
   "execution_count": 797,
   "metadata": {
    "collapsed": false
   },
   "outputs": [],
   "source": [
    "format = '%Y-%m-%d %H:%M:%S'\n",
    "df['DateTime'] = df['DateTime'].apply(lambda x: pd.to_datetime(x, format=format))\n",
    "df['Hour'] = df['DateTime'].apply(lambda x: x.hour).astype(np.int16)\n",
    "df['Day_of_week'] = df['DateTime'].apply(lambda x: x.dayofweek).astype(np.int16)"
   ]
  },
  {
   "cell_type": "markdown",
   "metadata": {},
   "source": [
    "# Age"
   ]
  },
  {
   "cell_type": "code",
   "execution_count": 798,
   "metadata": {
    "collapsed": false
   },
   "outputs": [],
   "source": [
    "obj = re.compile(\"(?P<num>\\d+)\\s*(?P<word>\\w+)\")\n",
    "def convert_age(string):\n",
    "    match = obj.search(string)\n",
    "    if match:\n",
    "        return match.groups()\n",
    "    else:\n",
    "        None, None"
   ]
  },
  {
   "cell_type": "code",
   "execution_count": 799,
   "metadata": {
    "collapsed": false
   },
   "outputs": [
    {
     "name": "stdout",
     "output_type": "stream",
     "text": [
      "     18 \n",
      "      1 AgeuponOutcome\n",
      "     66 day\n",
      "    332 days\n",
      "   1281 month\n",
      "   8339 months\n",
      "    146 week\n",
      "   1704 weeks\n",
      "   3969 year\n",
      "  10874 years\n"
     ]
    }
   ],
   "source": [
    "%%bash\n",
    "cat train.csv | cut -d, -f 8 | cut -d' ' -f 2 | sort | uniq -c"
   ]
  },
  {
   "cell_type": "code",
   "execution_count": 800,
   "metadata": {
    "collapsed": true
   },
   "outputs": [],
   "source": [
    "convert_dict = {None:0, \n",
    "                'day':1, \n",
    "                'days':1, \n",
    "                'month':30, \n",
    "                'months':30, \n",
    "                'year':365, \n",
    "                'years':365, \n",
    "                'week':7, \n",
    "                'weeks':7\n",
    "               }"
   ]
  },
  {
   "cell_type": "code",
   "execution_count": 801,
   "metadata": {
    "collapsed": false
   },
   "outputs": [],
   "source": [
    "df['AgeuponOutcome_inDays'] = np.zeros((df.shape[0], 1), dtype=np.int16)\n",
    "\n",
    "for i in range(df.shape[0]):\n",
    "    try:\n",
    "        string = df.loc[i, 'AgeuponOutcome']\n",
    "        num, word = convert_age(string)\n",
    "        num_days = int(num) * convert_dict[word]\n",
    "        df.loc[i, 'AgeuponOutcome_inDays'] = num_days\n",
    "    \n",
    "    except:\n",
    "        continue"
   ]
  },
  {
   "cell_type": "code",
   "execution_count": 802,
   "metadata": {
    "collapsed": false
   },
   "outputs": [
    {
     "data": {
      "text/html": [
       "<div>\n",
       "<table border=\"1\" class=\"dataframe\">\n",
       "  <thead>\n",
       "    <tr style=\"text-align: right;\">\n",
       "      <th></th>\n",
       "      <th>AnimalID</th>\n",
       "      <th>Name</th>\n",
       "      <th>DateTime</th>\n",
       "      <th>OutcomeType</th>\n",
       "      <th>OutcomeSubtype</th>\n",
       "      <th>AnimalType</th>\n",
       "      <th>SexuponOutcome</th>\n",
       "      <th>AgeuponOutcome</th>\n",
       "      <th>Breed</th>\n",
       "      <th>Color</th>\n",
       "      <th>Hour</th>\n",
       "      <th>Day_of_week</th>\n",
       "      <th>AgeuponOutcome_inDays</th>\n",
       "    </tr>\n",
       "  </thead>\n",
       "  <tbody>\n",
       "    <tr>\n",
       "      <th>0</th>\n",
       "      <td>A671945</td>\n",
       "      <td>Hambone</td>\n",
       "      <td>2014-02-12 18:22:00</td>\n",
       "      <td>Return_to_owner</td>\n",
       "      <td>NaN</td>\n",
       "      <td>Dog</td>\n",
       "      <td>Neutered Male</td>\n",
       "      <td>1 year</td>\n",
       "      <td>Shetland Sheepdog Mix</td>\n",
       "      <td>Brown/White</td>\n",
       "      <td>18</td>\n",
       "      <td>2</td>\n",
       "      <td>365</td>\n",
       "    </tr>\n",
       "    <tr>\n",
       "      <th>1</th>\n",
       "      <td>A656520</td>\n",
       "      <td>Emily</td>\n",
       "      <td>2013-10-13 12:44:00</td>\n",
       "      <td>Euthanasia</td>\n",
       "      <td>Suffering</td>\n",
       "      <td>Cat</td>\n",
       "      <td>Spayed Female</td>\n",
       "      <td>1 year</td>\n",
       "      <td>Domestic Shorthair Mix</td>\n",
       "      <td>Cream Tabby</td>\n",
       "      <td>12</td>\n",
       "      <td>6</td>\n",
       "      <td>365</td>\n",
       "    </tr>\n",
       "    <tr>\n",
       "      <th>2</th>\n",
       "      <td>A686464</td>\n",
       "      <td>Pearce</td>\n",
       "      <td>2015-01-31 12:28:00</td>\n",
       "      <td>Adoption</td>\n",
       "      <td>Foster</td>\n",
       "      <td>Dog</td>\n",
       "      <td>Neutered Male</td>\n",
       "      <td>2 years</td>\n",
       "      <td>Pit Bull Mix</td>\n",
       "      <td>Blue/White</td>\n",
       "      <td>12</td>\n",
       "      <td>5</td>\n",
       "      <td>730</td>\n",
       "    </tr>\n",
       "  </tbody>\n",
       "</table>\n",
       "</div>"
      ],
      "text/plain": [
       "  AnimalID     Name            DateTime      OutcomeType OutcomeSubtype  \\\n",
       "0  A671945  Hambone 2014-02-12 18:22:00  Return_to_owner            NaN   \n",
       "1  A656520    Emily 2013-10-13 12:44:00       Euthanasia      Suffering   \n",
       "2  A686464   Pearce 2015-01-31 12:28:00         Adoption         Foster   \n",
       "\n",
       "  AnimalType SexuponOutcome AgeuponOutcome                   Breed  \\\n",
       "0        Dog  Neutered Male         1 year   Shetland Sheepdog Mix   \n",
       "1        Cat  Spayed Female         1 year  Domestic Shorthair Mix   \n",
       "2        Dog  Neutered Male        2 years            Pit Bull Mix   \n",
       "\n",
       "         Color  Hour  Day_of_week  AgeuponOutcome_inDays  \n",
       "0  Brown/White    18            2                    365  \n",
       "1  Cream Tabby    12            6                    365  \n",
       "2   Blue/White    12            5                    730  "
      ]
     },
     "execution_count": 802,
     "metadata": {},
     "output_type": "execute_result"
    }
   ],
   "source": [
    "df.head(n=3)"
   ]
  },
  {
   "cell_type": "markdown",
   "metadata": {},
   "source": [
    "# Name"
   ]
  },
  {
   "cell_type": "code",
   "execution_count": 803,
   "metadata": {
    "collapsed": false
   },
   "outputs": [],
   "source": [
    "df['has_name_bool'] = df['Name'].apply(lambda x: 1 if x is not None else 0)\n",
    "df['has_name_bool'] = df['has_name_bool'].astype(np.int16)"
   ]
  },
  {
   "cell_type": "markdown",
   "metadata": {},
   "source": [
    "# Color"
   ]
  },
  {
   "cell_type": "code",
   "execution_count": 804,
   "metadata": {
    "collapsed": false
   },
   "outputs": [],
   "source": [
    "color = df.groupby('Color').count()['AnimalID'].sort(inplace=False)"
   ]
  },
  {
   "cell_type": "code",
   "execution_count": 805,
   "metadata": {
    "collapsed": false
   },
   "outputs": [
    {
     "data": {
      "text/plain": [
       "Color\n",
       "Cream/Brown          2\n",
       "Blue Tick           18\n",
       "Seal Point/White    19\n",
       "Fawn/Black          19\n",
       "White/White         12\n",
       "Name: AnimalID, dtype: int64"
      ]
     },
     "execution_count": 805,
     "metadata": {},
     "output_type": "execute_result"
    }
   ],
   "source": [
    "color.sample(n=10).head()"
   ]
  },
  {
   "cell_type": "code",
   "execution_count": 806,
   "metadata": {
    "collapsed": true
   },
   "outputs": [],
   "source": [
    "obj = re.compile('(\\w+)\\s*(\\w+)*/*(\\w+)*')\n",
    "def break_up_colors(string):\n",
    "    match = obj.search(string)\n",
    "    if match:\n",
    "        colors = match.groups()\n",
    "        return colors\n",
    "    else:\n",
    "        return None"
   ]
  },
  {
   "cell_type": "code",
   "execution_count": 807,
   "metadata": {
    "collapsed": false
   },
   "outputs": [
    {
     "name": "stdout",
     "output_type": "stream",
     "text": [
      "[None 'Agouti' 'Apricot' 'Black' 'Blue' 'Brindle' 'Brown' 'Buff' 'Calico'\n",
      " 'Chocolate' 'Cream' 'Fawn' 'Flame' 'Gold' 'Gray' 'Lilac' 'Liver' 'Lynx'\n",
      " 'Merle' 'Orange' 'Pink' 'Point' 'Red' 'Ruddy' 'Sable' 'Seal' 'Silver'\n",
      " 'Smoke' 'Tabby' 'Tan' 'Tick' 'Tiger' 'Torbie' 'Tortie' 'Tricolor' 'White'\n",
      " 'Yellow']\n"
     ]
    }
   ],
   "source": [
    "colors = []\n",
    "for c in color.index:\n",
    "    colors +=break_up_colors(c)\n",
    "\n",
    "colors = np.unique(colors)\n",
    "print (colors)"
   ]
  },
  {
   "cell_type": "code",
   "execution_count": 808,
   "metadata": {
    "collapsed": false
   },
   "outputs": [],
   "source": [
    "df_colors = pd.DataFrame(columns=colors, data=np.zeros((df.shape[0], colors.shape[0]), np.int16))"
   ]
  },
  {
   "cell_type": "code",
   "execution_count": 809,
   "metadata": {
    "collapsed": false
   },
   "outputs": [],
   "source": [
    "for i in range(df.shape[0]):\n",
    "    color_string = df.loc[i, 'Color']\n",
    "    color_string_tuple = break_up_colors(color_string)\n",
    "    df_colors.loc[i, color_string_tuple] = 1"
   ]
  },
  {
   "cell_type": "markdown",
   "metadata": {},
   "source": [
    "# Breed"
   ]
  },
  {
   "cell_type": "code",
   "execution_count": 939,
   "metadata": {
    "collapsed": false
   },
   "outputs": [
    {
     "name": "stdout",
     "output_type": "stream",
     "text": [
      "[None 'Airedale' 'Anatol' 'Australian' 'Bay' 'Bedlington' 'Bichon'\n",
      " 'Bluetick' 'Border' 'Boykin' 'Bruss' 'Burmese' 'Cane' 'Cattle' 'Chin'\n",
      " 'Coated' 'Coonhound' 'Cur' 'Dane' 'Dog' 'Dutch' 'Eskimo' 'Finnish'\n",
      " 'Foxhound' 'Giant' 'Greater' 'Hairless' 'Heeler' 'Hovawart' 'Irish'\n",
      " 'Japanese' 'Kelpie' 'Landseer' 'Lowchen' 'Maltese' 'Medium' 'Mountain'\n",
      " 'Newfoundland' 'Nova' 'Otterhound' 'Pbgv' 'Persian' 'Pinscher' 'Podengo'\n",
      " 'Poodle' 'Pyrenees' 'Redbone' 'Ridgeback' 'Russian' 'Schnauzer' 'Setter'\n",
      " 'Shetland' 'Siamese' 'Smooth' 'Spaniel' 'Spitz' 'Standard' 'Tennesse'\n",
      " 'Tibetan' 'Turkish' 'Van' 'Weimaraner' 'Wire' 'Yorkshire']\n"
     ]
    }
   ],
   "source": [
    "breed = df.groupby('Breed').count()['AnimalID']\n",
    "\n",
    "breeds = []\n",
    "for b in breed.index:\n",
    "    breeds +=break_up_colors(b)\n",
    "\n",
    "breeds = np.unique(breeds)\n",
    "print breeds[0::4]"
   ]
  },
  {
   "cell_type": "code",
   "execution_count": 940,
   "metadata": {
    "collapsed": false
   },
   "outputs": [],
   "source": [
    "df_breed = pd.DataFrame(columns=breeds, data=np.zeros((df.shape[0], breeds.shape[0]), np.int8))"
   ]
  },
  {
   "cell_type": "code",
   "execution_count": 941,
   "metadata": {
    "collapsed": false
   },
   "outputs": [],
   "source": [
    "for i in range(df.shape[0]):\n",
    "    breed_string = df.loc[i, 'Breed']\n",
    "    breed_string_tuple = break_up_colors(breed_string)\n",
    "    df_breed.loc[i, breed_string_tuple] = 1"
   ]
  },
  {
   "cell_type": "code",
   "execution_count": 944,
   "metadata": {
    "collapsed": false
   },
   "outputs": [],
   "source": [
    "df_breed.drop(['Mix', 'Unknown', 'Dog'], axis=1, inplace=True)"
   ]
  },
  {
   "cell_type": "markdown",
   "metadata": {},
   "source": [
    "# Breed Outcomesubtype"
   ]
  },
  {
   "cell_type": "code",
   "execution_count": 971,
   "metadata": {
    "collapsed": false
   },
   "outputs": [
    {
     "name": "stdout",
     "output_type": "stream",
     "text": [
      "OutcomeSubtype\n",
      "Aggressive     320\n",
      "Foster        1800\n",
      "Partner       7816\n",
      "SCRP          1599\n",
      "Suffering     1002\n",
      "Name: AnimalID, dtype: int64\n"
     ]
    }
   ],
   "source": [
    "grp = df.groupby(['OutcomeSubtype'])\n",
    "breed_outcome = grp.count()['AnimalID']\n",
    "ind = breed_outcome >= 200\n",
    "print breed_outcome[ind]"
   ]
  },
  {
   "cell_type": "code",
   "execution_count": 958,
   "metadata": {
    "collapsed": false
   },
   "outputs": [
    {
     "name": "stdout",
     "output_type": "stream",
     "text": [
      "                                 Aggressive  Foster  Partner  SCRP  Suffering\n",
      "Breed                                                                        \n",
      "Maine Coon Mix                            0      10        7     4          0\n",
      "Great Dane/Pit Bull                       0       0        0     0          0\n",
      "English Springer Spaniel/Beagle           0       0        0     0          0\n"
     ]
    }
   ],
   "source": [
    "df_sub = pd.get_dummies(df['OutcomeSubtype'])\n",
    "df_sub = df_sub[['Aggressive', 'Foster', 'Partner', 'SCRP', 'Suffering']]\n",
    "df_sub['Breed'] = df['Breed']\n",
    "\n",
    "count = df_sub.groupby(\"Breed\").sum()\n",
    "print count.sample(n=3)"
   ]
  },
  {
   "cell_type": "code",
   "execution_count": 961,
   "metadata": {
    "collapsed": false
   },
   "outputs": [],
   "source": [
    "zeros = np.zeros((len(breeds)), dtype=np.int16)\n",
    "breed_sub_df = pd.DataFrame({'Breed': breeds,\n",
    "                             'Aggressive': zeros,\n",
    "                             'Foster': zeros,\n",
    "                             'Partner': zeros,\n",
    "                             'SCRP': zeros,\n",
    "                             'Suffering': zeros,\n",
    "                            })\n",
    "\n",
    "for b in count.index:\n",
    "    tuple_ = break_up_colors(b)\n",
    "    for i in range(breed_sub_df.shape[0]):\n",
    "        if breed_sub_df.loc[i, 'Breed'] in tuple_:\n",
    "            breed_sub_df.loc[i, 'Aggressive'] = 1 \n",
    "            breed_sub_df.loc[i, 'Foster'] = 1 \n",
    "            breed_sub_df.loc[i, 'Partner'] = 1 \n",
    "            breed_sub_df.loc[i, 'SCRP'] = 1 \n",
    "            breed_sub_df.loc[i, 'Suffering'] = 1 "
   ]
  },
  {
   "cell_type": "code",
   "execution_count": 980,
   "metadata": {
    "collapsed": false
   },
   "outputs": [
    {
     "data": {
      "text/html": [
       "<div>\n",
       "<table border=\"1\" class=\"dataframe\">\n",
       "  <thead>\n",
       "    <tr style=\"text-align: right;\">\n",
       "      <th></th>\n",
       "      <th>Aggressive</th>\n",
       "      <th>Breed</th>\n",
       "      <th>Foster</th>\n",
       "      <th>Partner</th>\n",
       "      <th>SCRP</th>\n",
       "      <th>Suffering</th>\n",
       "    </tr>\n",
       "  </thead>\n",
       "  <tbody>\n",
       "    <tr>\n",
       "      <th>45</th>\n",
       "      <td>1</td>\n",
       "      <td>Cairn</td>\n",
       "      <td>1</td>\n",
       "      <td>1</td>\n",
       "      <td>1</td>\n",
       "      <td>1</td>\n",
       "    </tr>\n",
       "    <tr>\n",
       "      <th>153</th>\n",
       "      <td>1</td>\n",
       "      <td>Ocicat</td>\n",
       "      <td>1</td>\n",
       "      <td>1</td>\n",
       "      <td>1</td>\n",
       "      <td>1</td>\n",
       "    </tr>\n",
       "    <tr>\n",
       "      <th>192</th>\n",
       "      <td>1</td>\n",
       "      <td>Russian</td>\n",
       "      <td>1</td>\n",
       "      <td>1</td>\n",
       "      <td>1</td>\n",
       "      <td>1</td>\n",
       "    </tr>\n",
       "    <tr>\n",
       "      <th>97</th>\n",
       "      <td>1</td>\n",
       "      <td>Glen</td>\n",
       "      <td>1</td>\n",
       "      <td>1</td>\n",
       "      <td>1</td>\n",
       "      <td>1</td>\n",
       "    </tr>\n",
       "    <tr>\n",
       "      <th>77</th>\n",
       "      <td>1</td>\n",
       "      <td>Dogo</td>\n",
       "      <td>1</td>\n",
       "      <td>1</td>\n",
       "      <td>1</td>\n",
       "      <td>1</td>\n",
       "    </tr>\n",
       "  </tbody>\n",
       "</table>\n",
       "</div>"
      ],
      "text/plain": [
       "     Aggressive    Breed  Foster  Partner  SCRP  Suffering\n",
       "45            1    Cairn       1        1     1          1\n",
       "153           1   Ocicat       1        1     1          1\n",
       "192           1  Russian       1        1     1          1\n",
       "97            1     Glen       1        1     1          1\n",
       "77            1     Dogo       1        1     1          1"
      ]
     },
     "execution_count": 980,
     "metadata": {},
     "output_type": "execute_result"
    }
   ],
   "source": [
    "breed_sub_df = breed_sub_df.ix[1:, :] # drop the 'None' row\n",
    "breed_sub_df.reset_index(inplace=True)\n",
    "breed_sub_df.sample(n=5)"
   ]
  },
  {
   "cell_type": "code",
   "execution_count": 979,
   "metadata": {
    "collapsed": false
   },
   "outputs": [],
   "source": [
    "zeros = np.zeros(df.shape[0], dtype=np.int16)\n",
    "\n",
    "df['Aggressive'] = zeros\n",
    "df['Foster'] = zeros\n",
    "df['Partner'] = zeros\n",
    "df['SCRP']= zeros\n",
    "df['Suffering'] = zeros\n",
    "                       \n",
    "for i in range(df.shape[0]):\n",
    "    string = df.loc[i, 'Breed']\n",
    "    tuple_ = break_up_colors(string)\n",
    "    for j in range(1, breed_sub_df.shape[0]):\n",
    "        word = breed_sub_df.loc[j, 'Breed']\n",
    "        if word in tuple_ and not np.all(df.loc[i, ['Aggressive', 'Foster', 'Partner', 'SCRP', 'Suffering']]):\n",
    "            df.loc[i, 'Aggressive'] += breed_sub_df.loc[j, 'Aggressive']\n",
    "            df.loc[i, 'Foster'] += breed_sub_df.loc[j, 'Foster']\n",
    "            df.loc[i, 'Partner'] += breed_sub_df.loc[j, 'Partner']\n",
    "            df.loc[i, 'SCRP'] += breed_sub_df.loc[j, 'SCRP']\n",
    "            df.loc[i, 'Suffering'] += breed_sub_df.loc[j, 'Suffering']"
   ]
  },
  {
   "cell_type": "markdown",
   "metadata": {},
   "source": [
    "## Mix"
   ]
  },
  {
   "cell_type": "code",
   "execution_count": 983,
   "metadata": {
    "collapsed": true
   },
   "outputs": [],
   "source": [
    "obj = re.compile('(?i)mix')\n",
    "df['mix'] = df['Breed'].apply(lambda x: 1 if obj.search(x) else 0)"
   ]
  },
  {
   "cell_type": "markdown",
   "metadata": {},
   "source": [
    "## Put it all together"
   ]
  },
  {
   "cell_type": "code",
   "execution_count": 984,
   "metadata": {
    "collapsed": false
   },
   "outputs": [],
   "source": [
    "df_final = pd.get_dummies(df[['OutcomeType', 'AnimalType', 'SexuponOutcome']])\n",
    "df_final = pd.concat([df_final, \n",
    "                      df_colors, \n",
    "                      df_breed, \n",
    "                      df['AgeuponOutcome_inDays'],\n",
    "                      df['has_name_bool'], \n",
    "                      df['Hour'], \n",
    "                      df['Day_of_week'],\n",
    "                      df['mix'],\n",
    "                      df['Aggressive'],\n",
    "                      df['Foster'],\n",
    "                      df['Partner'],\n",
    "                      df['SCRP'],\n",
    "                      df['Suffering']\n",
    "                     ], axis=1)"
   ]
  },
  {
   "cell_type": "code",
   "execution_count": 985,
   "metadata": {
    "collapsed": false
   },
   "outputs": [
    {
     "name": "stdout",
     "output_type": "stream",
     "text": [
      "[12 49]\n",
      "(26729, 307)\n"
     ]
    }
   ],
   "source": [
    "indices = np.where(df_final.columns == None)[0]\n",
    "print indices\n",
    "df_final = pd.concat([df_final.ix[:, 0:12], df_final.ix[:, 13:49],df_final.ix[:, 50:]], axis=1)\n",
    "print df_final.shape"
   ]
  },
  {
   "cell_type": "code",
   "execution_count": 986,
   "metadata": {
    "collapsed": false
   },
   "outputs": [
    {
     "name": "stdout",
     "output_type": "stream",
     "text": [
      "[]\n"
     ]
    }
   ],
   "source": [
    "print np.where(df_final.columns == None)[0]\n",
    "\n",
    "for col in df_final:\n",
    "    df_final[col] = df_final[col].astype(np.int16)"
   ]
  },
  {
   "cell_type": "code",
   "execution_count": 987,
   "metadata": {
    "collapsed": false
   },
   "outputs": [
    {
     "name": "stdout",
     "output_type": "stream",
     "text": [
      "<class 'pandas.core.frame.DataFrame'>\n",
      "Int64Index: 26729 entries, 0 to 26728\n",
      "Columns: 307 entries, OutcomeType_Adoption to Suffering\n",
      "dtypes: int16(307)\n",
      "memory usage: 15.9 MB\n"
     ]
    }
   ],
   "source": [
    "df_final.info()"
   ]
  },
  {
   "cell_type": "code",
   "execution_count": 988,
   "metadata": {
    "collapsed": false
   },
   "outputs": [
    {
     "name": "stdout",
     "output_type": "stream",
     "text": [
      "(26729, 37)\n",
      "(26729, 250)\n",
      "(26729, 307)\n"
     ]
    }
   ],
   "source": [
    "print df_colors.shape\n",
    "print df_breed.shape\n",
    "print df_final.shape"
   ]
  },
  {
   "cell_type": "code",
   "execution_count": 989,
   "metadata": {
    "collapsed": false
   },
   "outputs": [],
   "source": [
    "Y = df_final[['OutcomeType_Adoption', \n",
    "              'OutcomeType_Died', \n",
    "              'OutcomeType_Euthanasia', \n",
    "              'OutcomeType_Return_to_owner', \n",
    "              'OutcomeType_Transfer']]\n",
    "\n",
    "X = df_final.drop(Y.columns, axis=1)"
   ]
  },
  {
   "cell_type": "code",
   "execution_count": 990,
   "metadata": {
    "collapsed": false
   },
   "outputs": [
    {
     "data": {
      "text/plain": [
       "(26729, 302)"
      ]
     },
     "execution_count": 990,
     "metadata": {},
     "output_type": "execute_result"
    }
   ],
   "source": [
    "X.shape"
   ]
  },
  {
   "cell_type": "code",
   "execution_count": 991,
   "metadata": {
    "collapsed": false
   },
   "outputs": [],
   "source": [
    "X_train, X_test, y_train, y_test = cross_validation.train_test_split(X, Y, train_size=0.3, random_state=0)"
   ]
  },
  {
   "cell_type": "code",
   "execution_count": 992,
   "metadata": {
    "collapsed": false
   },
   "outputs": [
    {
     "data": {
      "text/plain": [
       "RandomForestClassifier(bootstrap=True, class_weight=None, criterion='gini',\n",
       "            max_depth=None, max_features='sqrt', max_leaf_nodes=None,\n",
       "            min_samples_leaf=1, min_samples_split=1,\n",
       "            min_weight_fraction_leaf=0.0, n_estimators=614, n_jobs=4,\n",
       "            oob_score=False, random_state=0, verbose=0, warm_start=False)"
      ]
     },
     "execution_count": 992,
     "metadata": {},
     "output_type": "execute_result"
    }
   ],
   "source": [
    "clf = RandomForestClassifier(random_state=0, \n",
    "                             n_jobs=4, \n",
    "                             n_estimators=df_final.shape[1]*2, \n",
    "                             max_features='sqrt',\n",
    "                             min_samples_split=1\n",
    "                            )\n",
    "clf.fit(X_train, y_train)"
   ]
  },
  {
   "cell_type": "code",
   "execution_count": 993,
   "metadata": {
    "collapsed": false,
    "scrolled": false
   },
   "outputs": [
    {
     "name": "stdout",
     "output_type": "stream",
     "text": [
      "             precision    recall  f1-score   support\n",
      "\n",
      "          0       0.72      0.69      0.71      7617\n",
      "          1       0.36      0.03      0.06       125\n",
      "          2       0.21      0.02      0.03      1090\n",
      "          3       0.46      0.20      0.28      3291\n",
      "          4       0.77      0.61      0.68      6588\n",
      "\n",
      "avg / total       0.66      0.53      0.58     18711\n",
      "\n"
     ]
    }
   ],
   "source": [
    "y_pred = clf.predict(X_test)\n",
    "error = metrics.classification_report(y_test, y_pred)\n",
    "print error"
   ]
  },
  {
   "cell_type": "code",
   "execution_count": 994,
   "metadata": {
    "collapsed": false
   },
   "outputs": [
    {
     "name": "stdout",
     "output_type": "stream",
     "text": [
      "(1)'Wire' - 0.207449\n",
      "(2)'Wirehaired' - 0.151398\n",
      "(3)'Wolfhound' - 0.106470\n",
      "(4)'AnimalType_Cat' - 0.038842\n",
      "(5)'OutcomeType_Euthanasia' - 0.034575\n",
      "(6)'OutcomeType_Transfer' - 0.033893\n",
      "(7)'OutcomeType_Return_to_owner' - 0.033314\n",
      "(8)'Tick' - 0.026938\n",
      "(9)'SexuponOutcome_Neutered Male' - 0.020544\n",
      "(10)'Agouti' - 0.017814\n",
      "(11)'Yorkshire' - 0.015282\n",
      "(12)'AnimalType_Dog' - 0.014183\n",
      "(13)'Sable' - 0.012298\n",
      "(14)'Sheepdog' - 0.011520\n",
      "(15)'OutcomeType_Adoption' - 0.009975\n",
      "(16)'SexuponOutcome_Spayed Female' - 0.009688\n",
      "(17)'OutcomeType_Died' - 0.008847\n",
      "(18)'De' - 0.008583\n",
      "(19)'Ruddy' - 0.006673\n",
      "(20)'Lynx' - 0.006162\n",
      "(21)'SexuponOutcome_Unknown' - 0.006005\n",
      "(22)'Carolina' - 0.005690\n",
      "(23)'Persian' - 0.005644\n",
      "(24)'Javanese' - 0.005461\n",
      "(25)'Cornish' - 0.005313\n",
      "(26)'Boykin' - 0.005299\n",
      "(27)'Tan' - 0.004956\n",
      "(28)'Pyrenees' - 0.004716\n",
      "(29)'Blue' - 0.004694\n",
      "(30)'Labrador' - 0.004669\n",
      "(31)'Swedish' - 0.004448\n",
      "(32)'American' - 0.004231\n",
      "(33)'Scottish' - 0.004162\n",
      "(34)'Chocolate' - 0.004084\n",
      "(35)'Forest' - 0.003971\n",
      "(36)'Brindle' - 0.003756\n",
      "(37)'Gray' - 0.003545\n",
      "(38)'Manchester' - 0.003448\n",
      "(39)'Apricot' - 0.003165\n",
      "(40)'Boerboel' - 0.003164\n",
      "(41)'Affenpinscher' - 0.003070\n",
      "(42)'Malinois' - 0.002802\n",
      "(43)'Orange' - 0.002720\n",
      "(44)'Blue' - 0.002694\n",
      "(45)'Tiger' - 0.002602\n",
      "(46)'Plott' - 0.002554\n",
      "(47)'Canario' - 0.002487\n",
      "(48)'British' - 0.002368\n",
      "(49)'Brown' - 0.002357\n",
      "(50)'Sphynx' - 0.002256\n",
      "(51)'Australian' - 0.002217\n",
      "(52)'Whippet' - 0.002184\n",
      "(53)'Pinscher' - 0.002119\n",
      "(54)'Tabby' - 0.002112\n",
      "(55)'Chinese' - 0.002109\n",
      "(56)'Presa' - 0.002104\n",
      "(57)'Redbone' - 0.002076\n",
      "(58)'Black' - 0.002048\n",
      "(59)'Pointing' - 0.001983\n",
      "(60)'Canaan' - 0.001968\n",
      "(61)'Ibizan' - 0.001908\n",
      "(62)'Russell' - 0.001879\n",
      "(63)'Bruss' - 0.001855\n",
      "(64)'Sharpei' - 0.001797\n",
      "(65)'Gold' - 0.001788\n",
      "(66)'Shetland' - 0.001728\n",
      "(67)'Rex' - 0.001709\n",
      "(68)'Heeler' - 0.001683\n",
      "(69)'Tibetan' - 0.001663\n",
      "(70)'Frise' - 0.001648\n",
      "(71)'Longhair' - 0.001607\n",
      "(72)'Pixiebob' - 0.001536\n",
      "(73)'Smoke' - 0.001509\n",
      "(74)'Cavalier' - 0.001482\n",
      "(75)'Point' - 0.001462\n",
      "(76)'Calico' - 0.001458\n",
      "(77)'Apso' - 0.001421\n",
      "(78)'Liver' - 0.001416\n",
      "(79)'Havana' - 0.001265\n",
      "(80)'Pomeranian' - 0.001229\n",
      "(81)'Bobtail' - 0.001229\n",
      "(82)'Van' - 0.001178\n",
      "(83)'French' - 0.001128\n",
      "(84)'Burmese' - 0.001091\n",
      "(85)'Jack' - 0.001062\n",
      "(86)'Dachshund' - 0.001055\n",
      "(87)'Shepherd' - 0.001053\n",
      "(88)'Dogo' - 0.001049\n",
      "(89)'Pembroke' - 0.001037\n",
      "(90)'Lowchen' - 0.000969\n",
      "(91)'Kuvasz' - 0.000964\n",
      "(92)'Flame' - 0.000964\n",
      "(93)'Akita' - 0.000954\n",
      "(94)'Red' - 0.000942\n",
      "(95)'Picardy' - 0.000906\n",
      "(96)'Pink' - 0.000897\n",
      "(97)'Pequeno' - 0.000889\n",
      "(98)'Bedlington' - 0.000839\n",
      "(99)'SexuponOutcome_Intact Male' - 0.000815\n",
      "(100)'Chin' - 0.000803\n",
      "(101)'Bengal' - 0.000791\n",
      "(102)'Cairn' - 0.000784\n",
      "(103)'Walker' - 0.000721\n",
      "(104)'Afghan' - 0.000717\n",
      "(105)'Cattle' - 0.000717\n",
      "(106)'Spinone' - 0.000711\n",
      "(107)'Seal' - 0.000665\n",
      "(108)'Abyssinian' - 0.000658\n",
      "(109)'Skye' - 0.000654\n",
      "(110)'Eskimo' - 0.000635\n",
      "(111)'Otterhound' - 0.000617\n",
      "(112)'Silver' - 0.000610\n",
      "(113)'Weimaraner' - 0.000588\n",
      "(114)'Ragdoll' - 0.000579\n",
      "(115)'Rat' - 0.000576\n",
      "(116)'Sealyham' - 0.000567\n",
      "(117)'Buff' - 0.000566\n",
      "(118)'Siberian' - 0.000535\n",
      "(119)'Poodle' - 0.000529\n",
      "(120)'Crested' - 0.000525\n",
      "(121)'Terr' - 0.000521\n",
      "(122)'Chesa' - 0.000514\n",
      "(123)'Angora' - 0.000493\n",
      "(124)'Malamute' - 0.000478\n",
      "(125)'Chihuahua' - 0.000462\n",
      "(126)'Jindo' - 0.000461\n",
      "(127)'Greater' - 0.000454\n",
      "(128)'Mastiff' - 0.000439\n",
      "(129)'Papillon' - 0.000428\n",
      "(130)'St' - 0.000424\n",
      "(131)'Scotia' - 0.000422\n",
      "(132)'Old' - 0.000408\n",
      "(133)'Maine' - 0.000406\n",
      "(134)'Mountain' - 0.000389\n",
      "(135)'Shorthair' - 0.000382\n",
      "(136)'Rhod' - 0.000379\n",
      "(137)'Water' - 0.000363\n",
      "(138)'Landseer' - 0.000345\n",
      "(139)'Chow' - 0.000344\n",
      "(140)'Nova' - 0.000332\n",
      "(141)'Boxer' - 0.000331\n",
      "(142)'Siamese' - 0.000330\n",
      "(143)'Schnauzer' - 0.000328\n",
      "(144)'Patterdale' - 0.000326\n",
      "(145)'Vizsla' - 0.000302\n",
      "(146)'Ocicat' - 0.000301\n",
      "(147)'Bay' - 0.000300\n",
      "(148)'Finnish' - 0.000288\n",
      "(149)'Glen' - 0.000285\n",
      "(150)'Bull' - 0.000273\n",
      "(151)'Giant' - 0.000254\n",
      "(152)'Hairless' - 0.000249\n",
      "(153)'Setter' - 0.000243\n",
      "(154)'Beauceron' - 0.000243\n",
      "(155)'Entlebucher' - 0.000237\n",
      "(156)'Cream' - 0.000235\n",
      "(157)'Himalayan' - 0.000235\n",
      "(158)'Vallhund' - 0.000234\n",
      "(159)'Rough' - 0.000234\n",
      "(160)'Hair' - 0.000229\n",
      "(161)'Fawn' - 0.000228\n",
      "(162)'Yellow' - 0.000225\n",
      "(163)'Golden' - 0.000223\n",
      "(164)'Domestic' - 0.000213\n",
      "(165)'Standard' - 0.000213\n",
      "(166)'Belgian' - 0.000202\n",
      "(167)'Devon' - 0.000198\n",
      "(168)'Inu' - 0.000198\n",
      "(169)'Pug' - 0.000197\n",
      "(170)'Cane' - 0.000195\n",
      "(171)'Springer' - 0.000194\n",
      "(172)'Spitz' - 0.000191\n",
      "(173)'Silky' - 0.000189\n",
      "(174)'German' - 0.000189\n",
      "(175)'Spanish' - 0.000185\n",
      "(176)'Leonberger' - 0.000185\n",
      "(177)'Hovawart' - 0.000176\n",
      "(178)'Corso' - 0.000172\n",
      "(179)'Munchkin' - 0.000159\n",
      "(180)'Of' - 0.000158\n",
      "(181)'Cardigan' - 0.000147\n",
      "(182)'Miniature' - 0.000144\n",
      "(183)'Lhasa' - 0.000138\n",
      "(184)'West' - 0.000138\n",
      "(185)'Shiba' - 0.000137\n",
      "(186)'Argentino' - 0.000135\n",
      "(187)'Flat' - 0.000135\n",
      "(188)'Feist' - 0.000134\n",
      "(189)'Hound' - 0.000132\n",
      "(190)'Swiss' - 0.000131\n",
      "(191)'Tan' - 0.000130\n",
      "(192)'Spaniel' - 0.000125\n",
      "(193)'Ridgeback' - 0.000124\n",
      "(194)'Mexican' - 0.000124\n",
      "(195)'Retriever' - 0.000123\n",
      "(196)'Beagle' - 0.000122\n",
      "(197)'Griffon' - 0.000122\n",
      "(198)'Bichon' - 0.000122\n",
      "(199)'Tonkinese' - 0.000120\n",
      "(200)'Italiano' - 0.000114\n",
      "(201)'Basenji' - 0.000113\n",
      "(202)'Norwegian' - 0.000111\n",
      "(203)'Cocker' - 0.000109\n",
      "(204)'Italian' - 0.000109\n",
      "(205)'Span' - 0.000108\n",
      "(206)'Saluki' - 0.000105\n",
      "(207)'Border' - 0.000104\n",
      "(208)'Black' - 0.000101\n",
      "(209)'Bullmastiff' - 0.000100\n",
      "(210)'Dane' - 0.000099\n",
      "(211)'Bloodhound' - 0.000096\n",
      "(212)'Borzoi' - 0.000095\n",
      "(213)'Lacy' - 0.000094\n",
      "(214)'Bombay' - 0.000091\n",
      "(215)'Tortie' - 0.000087\n",
      "(216)'Cur' - 0.000082\n",
      "(217)'Snowshoe' - 0.000080\n",
      "(218)'Queensland' - 0.000080\n",
      "(219)'Basset' - 0.000078\n",
      "(220)'Cymric' - 0.000076\n",
      "(221)'Terrier' - 0.000071\n",
      "(222)'Field' - 0.000068\n",
      "(223)'Treeing' - 0.000066\n",
      "(224)'White' - 0.000064\n",
      "(225)'Schipperke' - 0.000064\n",
      "(226)'Coonhound' - 0.000063\n",
      "(227)'Bernese' - 0.000061\n",
      "(228)'Catahoula' - 0.000055\n",
      "(229)'Medium' - 0.000054\n",
      "(230)'Husky' - 0.000051\n",
      "(231)'Havanese' - 0.000051\n",
      "(232)'Brittany' - 0.000049\n",
      "(233)'Harrier' - 0.000042\n",
      "(234)'Soft' - 0.000039\n",
      "(235)'Turkish' - 0.000034\n",
      "(236)'Airedale' - 0.000034\n",
      "(237)'Alaskan' - 0.000034\n",
      "(238)'Dalmatian' - 0.000032\n",
      "(239)'Kelpie' - 0.000031\n",
      "(240)'Norfolk' - 0.000031\n",
      "(241)'Shih' - 0.000031\n",
      "(242)'Port' - 0.000030\n",
      "(243)'Bulldog' - 0.000030\n",
      "(244)'Rottweiler' - 0.000029\n",
      "(245)'Pbgv' - 0.000028\n",
      "(246)'Foxhound' - 0.000027\n",
      "(247)'Pharaoh' - 0.000026\n",
      "(248)'Coat' - 0.000025\n",
      "(249)'Pointer' - 0.000024\n",
      "(250)'Keeshond' - 0.000019\n",
      "(251)'English' - 0.000017\n",
      "(252)'Bearded' - 0.000013\n",
      "(253)'Manx' - 0.000013\n",
      "(254)'Tennesse' - 0.000012\n",
      "(255)'Torbie' - 0.000012\n",
      "(256)'Doberman' - 0.000011\n",
      "(257)'Mouth' - 0.000010\n",
      "(258)'Bluetick' - 0.000009\n",
      "(259)'Lilac' - 0.000009\n",
      "(260)'Elkhound' - 0.000007\n",
      "(261)'Smooth' - 0.000007\n",
      "(262)'SexuponOutcome_Intact Female' - 0.000000\n",
      "(263)'Dutch' - 0.000000\n",
      "(264)'Staffordshire' - 0.000000\n",
      "(265)'Hour' - 0.000000\n",
      "(266)'Exotic' - 0.000000\n",
      "(267)'has_name_bool' - 0.000000\n",
      "(268)'AgeuponOutcome_inDays' - 0.000000\n",
      "(269)'Fox' - 0.000000\n",
      "(270)'Wirehair' - 0.000000\n",
      "(271)'Day_of_week' - 0.000000\n",
      "(272)'Greyhound' - 0.000000\n",
      "(273)'Tervuren' - 0.000000\n",
      "(274)'Dogue' - 0.000000\n",
      "(275)'Highland' - 0.000000\n",
      "(276)'Great' - 0.000000\n",
      "(277)'Tzu' - 0.000000\n",
      "(278)'Welsh' - 0.000000\n",
      "(279)'Toy' - 0.000000\n",
      "(280)'Collie' - 0.000000\n",
      "(281)'Irish' - 0.000000\n",
      "(282)'Japanese' - 0.000000\n",
      "(283)'Podengo' - 0.000000\n",
      "(284)'Pit' - 0.000000\n",
      "(285)'Balinese' - 0.000000\n",
      "(286)'Pinsch' - 0.000000\n",
      "(287)'Pekingese' - 0.000000\n",
      "(288)'Parson' - 0.000000\n",
      "(289)'Tricolor' - 0.000000\n",
      "(290)'Boston' - 0.000000\n",
      "(291)'Norwich' - 0.000000\n",
      "(292)'Brown' - 0.000000\n",
      "(293)'Russian' - 0.000000\n",
      "(294)'Newfoundland' - 0.000000\n",
      "(295)'Samoyed' - 0.000000\n",
      "(296)'Neapolitan' - 0.000000\n",
      "(297)'Maltese' - 0.000000\n",
      "(298)'Coated' - 0.000000\n",
      "(299)'Merle' - 0.000000\n",
      "(300)'Anatol' - 0.000000\n",
      "(301)'Coon' - 0.000000\n",
      "(302)'mix' - 0.000000\n"
     ]
    },
    {
     "ename": "IndexError",
     "evalue": "index 302 is out of bounds for axis 0 with size 302",
     "output_type": "error",
     "traceback": [
      "\u001b[1;31m---------------------------------------------------------------------------\u001b[0m",
      "\u001b[1;31mIndexError\u001b[0m                                Traceback (most recent call last)",
      "\u001b[1;32m<ipython-input-994-5a1225be3980>\u001b[0m in \u001b[0;36m<module>\u001b[1;34m()\u001b[0m\n\u001b[0;32m      3\u001b[0m \u001b[1;33m\u001b[0m\u001b[0m\n\u001b[0;32m      4\u001b[0m \u001b[1;32mfor\u001b[0m \u001b[0mf\u001b[0m \u001b[1;32min\u001b[0m \u001b[0mrange\u001b[0m\u001b[1;33m(\u001b[0m\u001b[0mdf_final\u001b[0m\u001b[1;33m.\u001b[0m\u001b[0mcolumns\u001b[0m\u001b[1;33m.\u001b[0m\u001b[0mshape\u001b[0m\u001b[1;33m[\u001b[0m\u001b[1;36m0\u001b[0m\u001b[1;33m]\u001b[0m\u001b[1;33m)\u001b[0m\u001b[1;33m:\u001b[0m\u001b[1;33m\u001b[0m\u001b[0m\n\u001b[1;32m----> 5\u001b[1;33m     print(\"(%d)'%s' - %f\" % (f + 1, df_final.columns[indices[f]], \n\u001b[0m\u001b[0;32m      6\u001b[0m           importances[indices[f]]))\n",
      "\u001b[1;31mIndexError\u001b[0m: index 302 is out of bounds for axis 0 with size 302"
     ]
    }
   ],
   "source": [
    "importances = clf.feature_importances_\n",
    "indices = np.argsort(importances)[::-1]\n",
    "\n",
    "for f in range(df_final.columns.shape[0]):\n",
    "    print(\"(%d)'%s' - %f\" % (f + 1, df_final.columns[indices[f]], \n",
    "          importances[indices[f]]))"
   ]
  },
  {
   "cell_type": "code",
   "execution_count": 762,
   "metadata": {
    "collapsed": false
   },
   "outputs": [
    {
     "data": {
      "text/plain": [
       "array([ 0.84081197,  0.8364511 ,  0.84500267,  0.84339925,  0.818279  ,\n",
       "        0.82469268,  0.8444682 ,  0.84607162,  0.8343132 ,  0.82576162])"
      ]
     },
     "execution_count": 762,
     "metadata": {},
     "output_type": "execute_result"
    }
   ],
   "source": [
    "cv = cross_validation.KFold(X_test.shape[0], 10, shuffle=True, random_state=0)\n",
    "cross_validation.cross_val_score(clf, X_test, y_test, cv=cv, n_jobs=7)"
   ]
  },
  {
   "cell_type": "code",
   "execution_count": 300,
   "metadata": {
    "collapsed": false
   },
   "outputs": [],
   "source": [
    "#params = {'min_samples_split': np.arange(1, 15)}\n",
    "#gs = Grid(clf, cv=cv, n_jobs=7)\n",
    "#gs.fit(X, Y)\n",
    "#best_parameters, score, _ = max(gs.grid_scores_, key=lambda x: x[1])\n",
    "#for param_name in sorted(params.keys()):\n",
    "#    print(\"%s: %r\" % (param_name, best_parameters[param_name]))"
   ]
  },
  {
   "cell_type": "markdown",
   "metadata": {},
   "source": [
    "# Test Data Set"
   ]
  },
  {
   "cell_type": "code",
   "execution_count": 763,
   "metadata": {
    "collapsed": false
   },
   "outputs": [
    {
     "data": {
      "text/plain": [
       "(11456, 8)"
      ]
     },
     "execution_count": 763,
     "metadata": {},
     "output_type": "execute_result"
    }
   ],
   "source": [
    "df_new = pd.read_csv(\"test.csv\")\n",
    "df_new.shape"
   ]
  },
  {
   "cell_type": "code",
   "execution_count": 764,
   "metadata": {
    "collapsed": false
   },
   "outputs": [],
   "source": [
    "format = '%Y-%m-%d %H:%M:%S'\n",
    "df_new['DateTime'] = df_new['DateTime'].apply(lambda x: pd.to_datetime(x, format=format)) \n",
    "df_new['Hour'] = df_new['DateTime'].apply(lambda x: x.hour).astype(np.int16)\n",
    "df_new['Day_of_week'] = df_new['DateTime'].apply(lambda x: x.dayofweek).astype(np.int16)"
   ]
  },
  {
   "cell_type": "code",
   "execution_count": 765,
   "metadata": {
    "collapsed": false
   },
   "outputs": [],
   "source": [
    "df_new['AgeuponOutcome_inDays'] = np.zeros((df_new.shape[0], 1), dtype=np.int16)\n",
    "for i in range(df_new.shape[0]):\n",
    "    try:\n",
    "        string = df_new.loc[i, 'AgeuponOutcome']\n",
    "        num, word = convert_age(string)\n",
    "        num_days = int(num) * convert_dict[word]\n",
    "        df_new.loc[i, 'AgeuponOutcome_inDays'] = num_days\n",
    "    \n",
    "    except:\n",
    "        continue"
   ]
  },
  {
   "cell_type": "code",
   "execution_count": 766,
   "metadata": {
    "collapsed": true
   },
   "outputs": [],
   "source": [
    "df_new['has_name_bool'] = df_new['Name'].apply(lambda x: 1 if x is not None else 0)\n",
    "df_new['has_name_bool'] = df_new['has_name_bool'].astype(np.int16)"
   ]
  },
  {
   "cell_type": "code",
   "execution_count": 767,
   "metadata": {
    "collapsed": true
   },
   "outputs": [],
   "source": [
    "df_colors = pd.DataFrame(columns=colors, data=np.zeros((df_new.shape[0], colors.shape[0]), np.int16))\n",
    "for i in range(df_new.shape[0]):\n",
    "    color_string = df_new.loc[i, 'Color']\n",
    "    color_string_tuple = break_up_colors(color_string)\n",
    "    df_colors.loc[i, color_string_tuple] = 1"
   ]
  },
  {
   "cell_type": "code",
   "execution_count": 768,
   "metadata": {
    "collapsed": false
   },
   "outputs": [],
   "source": [
    "df_breed = pd.DataFrame(columns=breeds, data=np.zeros((df_new.shape[0], breeds.shape[0]), np.int8))\n",
    "for i in range(df_new.shape[0]):\n",
    "    breed_string = df_new.loc[i, 'Breed']\n",
    "    breed_string_tuple = break_up_colors(breed_string)\n",
    "    \n",
    "    try: \n",
    "        df_breed.loc[i, breed_string_tuple] = 1\n",
    "    except:   \n",
    "        continue "
   ]
  },
  {
   "cell_type": "code",
   "execution_count": 769,
   "metadata": {
    "collapsed": true
   },
   "outputs": [],
   "source": [
    "obj = re.compile('(?i)mix')\n",
    "df_new['mix'] = df_new['Breed'].apply(lambda x: 1 if obj.search(x) else 0)"
   ]
  },
  {
   "cell_type": "code",
   "execution_count": 770,
   "metadata": {
    "collapsed": false
   },
   "outputs": [
    {
     "name": "stdout",
     "output_type": "stream",
     "text": [
      "(11456, 37)\n",
      "(11456, 253)\n"
     ]
    }
   ],
   "source": [
    "print df_colors.shape\n",
    "print df_breed.shape"
   ]
  },
  {
   "cell_type": "code",
   "execution_count": null,
   "metadata": {
    "collapsed": true
   },
   "outputs": [],
   "source": []
  },
  {
   "cell_type": "code",
   "execution_count": 588,
   "metadata": {
    "collapsed": false
   },
   "outputs": [],
   "source": [
    "df_new_final = pd.get_dummies(df_new[['AnimalType', 'SexuponOutcome']])\n",
    "df_new_final = pd.concat([df_new_final, \n",
    "                      df_colors, \n",
    "                      df_breed, \n",
    "                      df_new['AgeuponOutcome_inDays'],\n",
    "                      df_new['has_name_bool'], \n",
    "                      df_new['Hour'], \n",
    "                      df_new['Day_of_week'],\n",
    "                      df_new['mix']    \n",
    "                     ], axis=1)"
   ]
  },
  {
   "cell_type": "code",
   "execution_count": 589,
   "metadata": {
    "collapsed": false
   },
   "outputs": [
    {
     "data": {
      "text/plain": [
       "(11456, 301)"
      ]
     },
     "execution_count": 589,
     "metadata": {},
     "output_type": "execute_result"
    }
   ],
   "source": [
    "df_new_final.shape"
   ]
  },
  {
   "cell_type": "code",
   "execution_count": 590,
   "metadata": {
    "collapsed": false
   },
   "outputs": [
    {
     "name": "stdout",
     "output_type": "stream",
     "text": [
      "[ 7 44]\n",
      "(11456, 299)\n"
     ]
    }
   ],
   "source": [
    "indices = np.where(df_new_final.columns == None)[0]\n",
    "print indices\n",
    "df_new_final = pd.concat([df_new_final.ix[:, 0:7], df_new_final.ix[:, 8:44], df_new_final.ix[:, 45:]], axis=1)\n",
    "print df_new_final.shape"
   ]
  },
  {
   "cell_type": "code",
   "execution_count": 591,
   "metadata": {
    "collapsed": false
   },
   "outputs": [
    {
     "name": "stdout",
     "output_type": "stream",
     "text": [
      "[]\n"
     ]
    }
   ],
   "source": [
    "print np.where(df_new_final.columns == None)[0]\n",
    "for col in df_final:\n",
    "    df_final[col] = df_final[col].astype(np.int16)"
   ]
  },
  {
   "cell_type": "code",
   "execution_count": 592,
   "metadata": {
    "collapsed": false
   },
   "outputs": [
    {
     "data": {
      "text/plain": [
       "set()"
      ]
     },
     "execution_count": 592,
     "metadata": {},
     "output_type": "execute_result"
    }
   ],
   "source": [
    "x = set(X.columns)\n",
    "y = set(df_new_final.columns)\n",
    "x-y"
   ]
  },
  {
   "cell_type": "code",
   "execution_count": 593,
   "metadata": {
    "collapsed": false
   },
   "outputs": [
    {
     "data": {
      "text/plain": [
       "RandomForestClassifier(bootstrap=True, class_weight=None, criterion='gini',\n",
       "            max_depth=None, max_features='sqrt', max_leaf_nodes=None,\n",
       "            min_samples_leaf=1, min_samples_split=1,\n",
       "            min_weight_fraction_leaf=0.0, n_estimators=608, n_jobs=4,\n",
       "            oob_score=False, random_state=0, verbose=0, warm_start=False)"
      ]
     },
     "execution_count": 593,
     "metadata": {},
     "output_type": "execute_result"
    }
   ],
   "source": [
    "clf = RandomForestClassifier(random_state=0, \n",
    "                             n_jobs=4, \n",
    "                             n_estimators=df_final.shape[1]*2, \n",
    "                             max_features='sqrt',\n",
    "                             min_samples_split=1\n",
    "                            )\n",
    "clf.fit(X, Y)"
   ]
  },
  {
   "cell_type": "code",
   "execution_count": 594,
   "metadata": {
    "collapsed": false
   },
   "outputs": [],
   "source": [
    "final_pred = clf.predict(df_new_final)"
   ]
  },
  {
   "cell_type": "code",
   "execution_count": null,
   "metadata": {
    "collapsed": true
   },
   "outputs": [],
   "source": []
  }
 ],
 "metadata": {
  "kernelspec": {
   "display_name": "Python 2",
   "language": "python",
   "name": "python2"
  },
  "language_info": {
   "codemirror_mode": {
    "name": "ipython",
    "version": 2
   },
   "file_extension": ".py",
   "mimetype": "text/x-python",
   "name": "python",
   "nbconvert_exporter": "python",
   "pygments_lexer": "ipython2",
   "version": "2.7.10"
  }
 },
 "nbformat": 4,
 "nbformat_minor": 0
}

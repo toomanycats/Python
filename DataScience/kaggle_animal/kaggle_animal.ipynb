{
 "cells": [
  {
   "cell_type": "code",
   "execution_count": 540,
   "metadata": {
    "collapsed": true
   },
   "outputs": [],
   "source": [
    "import pandas as pd\n",
    "import numpy as np\n",
    "import re\n",
    "\n",
    "from sklearn.ensemble import RandomForestClassifier\n",
    "from sklearn.metrics import roc_curve,auc\n",
    "from sklearn import metrics\n",
    "from sklearn.grid_search import GridSearchCV, RandomizedSearchCV\n",
    "from sklearn import cross_validation"
   ]
  },
  {
   "cell_type": "code",
   "execution_count": 541,
   "metadata": {
    "collapsed": false
   },
   "outputs": [
    {
     "name": "stdout",
     "output_type": "stream",
     "text": [
      "The watermark extension is already loaded. To reload it, use:\n",
      "  %reload_ext watermark\n",
      "CPython 2.7.10\n",
      "IPython 3.1.0\n",
      "\n",
      "pandas 0.16.2\n",
      "scikit-learn 0.16.0\n",
      "\n",
      "compiler   : GCC 4.4.7 20120313 (Red Hat 4.4.7-1)\n",
      "system     : Linux\n",
      "release    : 3.16.0-67-generic\n",
      "machine    : x86_64\n",
      "processor  : x86_64\n",
      "CPU cores  : 8\n",
      "interpreter: 64bit\n",
      "Git hash   : c00d664fabd1c1ebed87c7b392c327a0f0eab982\n"
     ]
    }
   ],
   "source": [
    "#%install_ext https://raw.githubusercontent.com/rasbt/watermark/master/watermark.py\n",
    "%load_ext watermark\n",
    "%watermark -g -m -v -p pandas,scikit-learn"
   ]
  },
  {
   "cell_type": "code",
   "execution_count": 542,
   "metadata": {
    "collapsed": false,
    "scrolled": false
   },
   "outputs": [
    {
     "data": {
      "text/plain": [
       "(26729, 10)"
      ]
     },
     "execution_count": 542,
     "metadata": {},
     "output_type": "execute_result"
    }
   ],
   "source": [
    "df = pd.read_csv(\"train.csv\")\n",
    "df.shape"
   ]
  },
  {
   "cell_type": "code",
   "execution_count": 543,
   "metadata": {
    "collapsed": false
   },
   "outputs": [],
   "source": [
    "format = '%Y-%m-%d %H:%M:%S'\n",
    "df['DateTime'] = df['DateTime'].apply(lambda x: pd.to_datetime(x, format=format))\n",
    "df['Hour'] = df['DateTime'].apply(lambda x: x.hour).astype(np.int16)\n",
    "df['Day_of_week'] = df['DateTime'].apply(lambda x: x.dayofweek).astype(np.int16)"
   ]
  },
  {
   "cell_type": "code",
   "execution_count": 544,
   "metadata": {
    "collapsed": false
   },
   "outputs": [],
   "source": [
    "obj = re.compile(\"(?P<num>\\d+)\\s*(?P<word>\\w+)\")\n",
    "def convert_age(string):\n",
    "    match = obj.search(string)\n",
    "    if match:\n",
    "        return match.groups()\n",
    "    else:\n",
    "        None, None"
   ]
  },
  {
   "cell_type": "code",
   "execution_count": 545,
   "metadata": {
    "collapsed": false
   },
   "outputs": [
    {
     "name": "stdout",
     "output_type": "stream",
     "text": [
      "     18 \n",
      "      1 AgeuponOutcome\n",
      "     66 day\n",
      "    332 days\n",
      "   1281 month\n",
      "   8339 months\n",
      "    146 week\n",
      "   1704 weeks\n",
      "   3969 year\n",
      "  10874 years\n"
     ]
    }
   ],
   "source": [
    "%%bash\n",
    "cat train.csv | cut -d, -f 8 | cut -d' ' -f 2 | sort | uniq -c"
   ]
  },
  {
   "cell_type": "code",
   "execution_count": 546,
   "metadata": {
    "collapsed": true
   },
   "outputs": [],
   "source": [
    "convert_dict = {None:0, \n",
    "                'day':1, \n",
    "                'days':1, \n",
    "                'month':30, \n",
    "                'months':30, \n",
    "                'year':365, \n",
    "                'years':365, \n",
    "                'week':7, \n",
    "                'weeks':7\n",
    "               }"
   ]
  },
  {
   "cell_type": "code",
   "execution_count": 547,
   "metadata": {
    "collapsed": false
   },
   "outputs": [],
   "source": [
    "df['AgeuponOutcome_inDays'] = np.zeros((df.shape[0], 1), dtype=np.int16)\n",
    "\n",
    "for i in range(df.shape[0]):\n",
    "    try:\n",
    "        string = df.loc[i, 'AgeuponOutcome']\n",
    "        num, word = convert_age(string)\n",
    "        num_days = int(num) * convert_dict[word]\n",
    "        df.loc[i, 'AgeuponOutcome_inDays'] = num_days\n",
    "    \n",
    "    except:\n",
    "        continue"
   ]
  },
  {
   "cell_type": "code",
   "execution_count": 548,
   "metadata": {
    "collapsed": false
   },
   "outputs": [
    {
     "data": {
      "text/html": [
       "<div>\n",
       "<table border=\"1\" class=\"dataframe\">\n",
       "  <thead>\n",
       "    <tr style=\"text-align: right;\">\n",
       "      <th></th>\n",
       "      <th>AnimalID</th>\n",
       "      <th>Name</th>\n",
       "      <th>DateTime</th>\n",
       "      <th>OutcomeType</th>\n",
       "      <th>OutcomeSubtype</th>\n",
       "      <th>AnimalType</th>\n",
       "      <th>SexuponOutcome</th>\n",
       "      <th>AgeuponOutcome</th>\n",
       "      <th>Breed</th>\n",
       "      <th>Color</th>\n",
       "      <th>Hour</th>\n",
       "      <th>Day_of_week</th>\n",
       "      <th>AgeuponOutcome_inDays</th>\n",
       "    </tr>\n",
       "  </thead>\n",
       "  <tbody>\n",
       "    <tr>\n",
       "      <th>0</th>\n",
       "      <td>A671945</td>\n",
       "      <td>Hambone</td>\n",
       "      <td>2014-02-12 18:22:00</td>\n",
       "      <td>Return_to_owner</td>\n",
       "      <td>NaN</td>\n",
       "      <td>Dog</td>\n",
       "      <td>Neutered Male</td>\n",
       "      <td>1 year</td>\n",
       "      <td>Shetland Sheepdog Mix</td>\n",
       "      <td>Brown/White</td>\n",
       "      <td>18</td>\n",
       "      <td>2</td>\n",
       "      <td>365</td>\n",
       "    </tr>\n",
       "    <tr>\n",
       "      <th>1</th>\n",
       "      <td>A656520</td>\n",
       "      <td>Emily</td>\n",
       "      <td>2013-10-13 12:44:00</td>\n",
       "      <td>Euthanasia</td>\n",
       "      <td>Suffering</td>\n",
       "      <td>Cat</td>\n",
       "      <td>Spayed Female</td>\n",
       "      <td>1 year</td>\n",
       "      <td>Domestic Shorthair Mix</td>\n",
       "      <td>Cream Tabby</td>\n",
       "      <td>12</td>\n",
       "      <td>6</td>\n",
       "      <td>365</td>\n",
       "    </tr>\n",
       "    <tr>\n",
       "      <th>2</th>\n",
       "      <td>A686464</td>\n",
       "      <td>Pearce</td>\n",
       "      <td>2015-01-31 12:28:00</td>\n",
       "      <td>Adoption</td>\n",
       "      <td>Foster</td>\n",
       "      <td>Dog</td>\n",
       "      <td>Neutered Male</td>\n",
       "      <td>2 years</td>\n",
       "      <td>Pit Bull Mix</td>\n",
       "      <td>Blue/White</td>\n",
       "      <td>12</td>\n",
       "      <td>5</td>\n",
       "      <td>730</td>\n",
       "    </tr>\n",
       "  </tbody>\n",
       "</table>\n",
       "</div>"
      ],
      "text/plain": [
       "  AnimalID     Name            DateTime      OutcomeType OutcomeSubtype  \\\n",
       "0  A671945  Hambone 2014-02-12 18:22:00  Return_to_owner            NaN   \n",
       "1  A656520    Emily 2013-10-13 12:44:00       Euthanasia      Suffering   \n",
       "2  A686464   Pearce 2015-01-31 12:28:00         Adoption         Foster   \n",
       "\n",
       "  AnimalType SexuponOutcome AgeuponOutcome                   Breed  \\\n",
       "0        Dog  Neutered Male         1 year   Shetland Sheepdog Mix   \n",
       "1        Cat  Spayed Female         1 year  Domestic Shorthair Mix   \n",
       "2        Dog  Neutered Male        2 years            Pit Bull Mix   \n",
       "\n",
       "         Color  Hour  Day_of_week  AgeuponOutcome_inDays  \n",
       "0  Brown/White    18            2                    365  \n",
       "1  Cream Tabby    12            6                    365  \n",
       "2   Blue/White    12            5                    730  "
      ]
     },
     "execution_count": 548,
     "metadata": {},
     "output_type": "execute_result"
    }
   ],
   "source": [
    "df.head(n=3)"
   ]
  },
  {
   "cell_type": "code",
   "execution_count": 549,
   "metadata": {
    "collapsed": false
   },
   "outputs": [],
   "source": [
    "df['has_name_bool'] = df['Name'].apply(lambda x: 1 if x is not None else 0)\n",
    "df['has_name_bool'] = df['has_name_bool'].astype(np.int16)"
   ]
  },
  {
   "cell_type": "code",
   "execution_count": 550,
   "metadata": {
    "collapsed": false
   },
   "outputs": [],
   "source": [
    "color = df.groupby('Color').count()['AnimalID'].sort(inplace=False)"
   ]
  },
  {
   "cell_type": "code",
   "execution_count": 551,
   "metadata": {
    "collapsed": false
   },
   "outputs": [
    {
     "data": {
      "text/plain": [
       "Color\n",
       "Tortie/Brown     1\n",
       "Tan/Apricot      1\n",
       "Gold/Tan         1\n",
       "Black/Red       17\n",
       "Red/Tricolor     2\n",
       "Name: AnimalID, dtype: int64"
      ]
     },
     "execution_count": 551,
     "metadata": {},
     "output_type": "execute_result"
    }
   ],
   "source": [
    "color.sample(n=10).head()"
   ]
  },
  {
   "cell_type": "code",
   "execution_count": 552,
   "metadata": {
    "collapsed": true
   },
   "outputs": [],
   "source": [
    "obj = re.compile('(\\w+)\\s*(\\w+)*/*(\\w+)*')\n",
    "def break_up_colors(string):\n",
    "    match = obj.search(string)\n",
    "    if match:\n",
    "        colors = match.groups()\n",
    "        return colors\n",
    "    else:\n",
    "        return None"
   ]
  },
  {
   "cell_type": "code",
   "execution_count": 553,
   "metadata": {
    "collapsed": false
   },
   "outputs": [
    {
     "name": "stdout",
     "output_type": "stream",
     "text": [
      "[None 'Agouti' 'Apricot' 'Black' 'Blue' 'Brindle' 'Brown' 'Buff' 'Calico'\n",
      " 'Chocolate' 'Cream' 'Fawn' 'Flame' 'Gold' 'Gray' 'Lilac' 'Liver' 'Lynx'\n",
      " 'Merle' 'Orange' 'Pink' 'Point' 'Red' 'Ruddy' 'Sable' 'Seal' 'Silver'\n",
      " 'Smoke' 'Tabby' 'Tan' 'Tick' 'Tiger' 'Torbie' 'Tortie' 'Tricolor' 'White'\n",
      " 'Yellow']\n"
     ]
    }
   ],
   "source": [
    "colors = []\n",
    "for c in color.index:\n",
    "    colors +=break_up_colors(c)\n",
    "\n",
    "colors = np.unique(colors)\n",
    "print (colors)"
   ]
  },
  {
   "cell_type": "code",
   "execution_count": 554,
   "metadata": {
    "collapsed": false
   },
   "outputs": [],
   "source": [
    "df_colors = pd.DataFrame(columns=colors, data=np.zeros((df.shape[0], colors.shape[0]), np.int16))"
   ]
  },
  {
   "cell_type": "code",
   "execution_count": 555,
   "metadata": {
    "collapsed": false
   },
   "outputs": [],
   "source": [
    "for i in range(df.shape[0]):\n",
    "    color_string = df.loc[i, 'Color']\n",
    "    color_string_tuple = break_up_colors(color_string)\n",
    "    df_colors.loc[i, color_string_tuple] = 1"
   ]
  },
  {
   "cell_type": "code",
   "execution_count": 556,
   "metadata": {
    "collapsed": false
   },
   "outputs": [],
   "source": [
    "breed = df.groupby('Breed').count()['AnimalID']\n",
    "\n",
    "breeds = []\n",
    "for b in breed.index:\n",
    "    breeds +=break_up_colors(b)\n",
    "\n",
    "breeds = np.unique(breeds)"
   ]
  },
  {
   "cell_type": "code",
   "execution_count": 557,
   "metadata": {
    "collapsed": false
   },
   "outputs": [],
   "source": [
    "df_breed = pd.DataFrame(columns=breeds, data=np.zeros((df.shape[0], breeds.shape[0]), np.int8))"
   ]
  },
  {
   "cell_type": "code",
   "execution_count": 558,
   "metadata": {
    "collapsed": false
   },
   "outputs": [],
   "source": [
    "for i in range(df.shape[0]):\n",
    "    breed_string = df.loc[i, 'Breed']\n",
    "    breed_string_tuple = break_up_colors(breed_string)\n",
    "    df_breed.loc[i, breed_string_tuple] = 1"
   ]
  },
  {
   "cell_type": "code",
   "execution_count": 566,
   "metadata": {
    "collapsed": false
   },
   "outputs": [],
   "source": [
    "df_final = pd.get_dummies(df[['OutcomeType', 'AnimalType', 'SexuponOutcome']])\n",
    "df_final = pd.concat([df_final, \n",
    "                      df_colors, \n",
    "                      df_breed, \n",
    "                      df['AgeuponOutcome_inDays'],\n",
    "                      df['has_name_bool'], \n",
    "                      df['Hour'], \n",
    "                      df['Day_of_week']\n",
    "                     ], axis=1)"
   ]
  },
  {
   "cell_type": "markdown",
   "metadata": {},
   "source": [
    "Name, OutcomeType, OutcomeSubtype, AnimalType, SexuponOutcom, Breed, (colors dummies), has_name_bool\n",
    "hour, Day_of_week, AgeuponOutcome_inDays, breeds"
   ]
  },
  {
   "cell_type": "code",
   "execution_count": 567,
   "metadata": {
    "collapsed": false
   },
   "outputs": [
    {
     "name": "stdout",
     "output_type": "stream",
     "text": [
      "[12 49]\n",
      "(26729, 304)\n"
     ]
    }
   ],
   "source": [
    "indices = np.where(df_final.columns == None)[0]\n",
    "print indices\n",
    "df_final = pd.concat([df_final.ix[:, 0:12], df_final.ix[:, 13:49],df_final.ix[:, 50:]], axis=1)\n",
    "print df_final.shape"
   ]
  },
  {
   "cell_type": "code",
   "execution_count": 568,
   "metadata": {
    "collapsed": false
   },
   "outputs": [
    {
     "name": "stdout",
     "output_type": "stream",
     "text": [
      "[]\n"
     ]
    }
   ],
   "source": [
    "print np.where(df_final.columns == None)[0]\n",
    "\n",
    "for col in df_final:\n",
    "    df_final[col] = df_final[col].astype(np.int16)"
   ]
  },
  {
   "cell_type": "code",
   "execution_count": 569,
   "metadata": {
    "collapsed": false
   },
   "outputs": [
    {
     "name": "stdout",
     "output_type": "stream",
     "text": [
      "<class 'pandas.core.frame.DataFrame'>\n",
      "Int64Index: 26729 entries, 0 to 26728\n",
      "Columns: 304 entries, OutcomeType_Adoption to Day_of_week\n",
      "dtypes: int16(304)\n",
      "memory usage: 15.7 MB\n"
     ]
    }
   ],
   "source": [
    "df_final.info()"
   ]
  },
  {
   "cell_type": "code",
   "execution_count": 570,
   "metadata": {
    "collapsed": false
   },
   "outputs": [
    {
     "name": "stdout",
     "output_type": "stream",
     "text": [
      "(26729, 37)\n",
      "(26729, 253)\n",
      "(26729, 304)\n"
     ]
    }
   ],
   "source": [
    "print df_colors.shape\n",
    "print df_breed.shape\n",
    "print df_final.shape"
   ]
  },
  {
   "cell_type": "code",
   "execution_count": 571,
   "metadata": {
    "collapsed": false
   },
   "outputs": [],
   "source": [
    "Y = df_final[['OutcomeType_Adoption', \n",
    "              'OutcomeType_Died', \n",
    "              'OutcomeType_Euthanasia', \n",
    "              'OutcomeType_Return_to_owner', \n",
    "              'OutcomeType_Transfer']]\n",
    "\n",
    "X = df_final.drop(Y.columns, axis=1)"
   ]
  },
  {
   "cell_type": "code",
   "execution_count": 572,
   "metadata": {
    "collapsed": false
   },
   "outputs": [
    {
     "data": {
      "text/plain": [
       "(26729, 299)"
      ]
     },
     "execution_count": 572,
     "metadata": {},
     "output_type": "execute_result"
    }
   ],
   "source": [
    "X.shape"
   ]
  },
  {
   "cell_type": "code",
   "execution_count": 573,
   "metadata": {
    "collapsed": false
   },
   "outputs": [],
   "source": [
    "X_train, X_test, y_train, y_test = cross_validation.train_test_split(X, Y, train_size=0.3, random_state=0)"
   ]
  },
  {
   "cell_type": "code",
   "execution_count": 574,
   "metadata": {
    "collapsed": false
   },
   "outputs": [
    {
     "data": {
      "text/plain": [
       "RandomForestClassifier(bootstrap=True, class_weight=None, criterion='gini',\n",
       "            max_depth=None, max_features='sqrt', max_leaf_nodes=None,\n",
       "            min_samples_leaf=1, min_samples_split=1,\n",
       "            min_weight_fraction_leaf=0.0, n_estimators=608, n_jobs=4,\n",
       "            oob_score=False, random_state=0, verbose=0, warm_start=False)"
      ]
     },
     "execution_count": 574,
     "metadata": {},
     "output_type": "execute_result"
    }
   ],
   "source": [
    "clf = RandomForestClassifier(random_state=0, \n",
    "                             n_jobs=4, \n",
    "                             n_estimators=df_final.shape[1]*2, \n",
    "                             max_features='sqrt',\n",
    "                             min_samples_split=1\n",
    "                            )\n",
    "clf.fit(X_train, y_train)"
   ]
  },
  {
   "cell_type": "code",
   "execution_count": 575,
   "metadata": {
    "collapsed": false,
    "scrolled": false
   },
   "outputs": [
    {
     "name": "stdout",
     "output_type": "stream",
     "text": [
      "             precision    recall  f1-score   support\n",
      "\n",
      "          0       0.72      0.69      0.71      7617\n",
      "          1       0.33      0.03      0.06       125\n",
      "          2       0.23      0.02      0.04      1090\n",
      "          3       0.45      0.21      0.28      3291\n",
      "          4       0.76      0.60      0.67      6588\n",
      "\n",
      "avg / total       0.66      0.53      0.58     18711\n",
      "\n"
     ]
    }
   ],
   "source": [
    "y_pred = clf.predict(X_test)\n",
    "error = metrics.classification_report(y_test, y_pred)\n",
    "print error"
   ]
  },
  {
   "cell_type": "code",
   "execution_count": 480,
   "metadata": {
    "collapsed": false
   },
   "outputs": [
    {
     "data": {
      "text/plain": [
       "array([ 0.86111111,  0.85301978,  0.85676109,  0.85515767,  0.83110636,\n",
       "        0.84019241,  0.86531267,  0.85355425,  0.85355425,  0.8423303 ])"
      ]
     },
     "execution_count": 480,
     "metadata": {},
     "output_type": "execute_result"
    }
   ],
   "source": [
    "cv = cross_validation.KFold(X_test.shape[0], 10, shuffle=True, random_state=0)\n",
    "cross_validation.cross_val_score(clf, X_test, y_test, cv=cv, n_jobs=7)"
   ]
  },
  {
   "cell_type": "code",
   "execution_count": 300,
   "metadata": {
    "collapsed": false
   },
   "outputs": [],
   "source": [
    "#params = {'min_samples_split': np.arange(1, 15)}\n",
    "#gs = Grid(clf, cv=cv, n_jobs=7)\n",
    "#gs.fit(X, Y)\n",
    "#best_parameters, score, _ = max(gs.grid_scores_, key=lambda x: x[1])\n",
    "#for param_name in sorted(params.keys()):\n",
    "#    print(\"%s: %r\" % (param_name, best_parameters[param_name]))"
   ]
  },
  {
   "cell_type": "markdown",
   "metadata": {},
   "source": [
    "# Test Data Set"
   ]
  },
  {
   "cell_type": "code",
   "execution_count": 581,
   "metadata": {
    "collapsed": false
   },
   "outputs": [
    {
     "data": {
      "text/plain": [
       "(11456, 8)"
      ]
     },
     "execution_count": 581,
     "metadata": {},
     "output_type": "execute_result"
    }
   ],
   "source": [
    "df_new = pd.read_csv(\"test.csv\")\n",
    "df_new.shape"
   ]
  },
  {
   "cell_type": "code",
   "execution_count": 582,
   "metadata": {
    "collapsed": false
   },
   "outputs": [],
   "source": [
    "format = '%Y-%m-%d %H:%M:%S'\n",
    "df_new['DateTime'] = df_new['DateTime'].apply(lambda x: pd.to_datetime(x, format=format)) \n",
    "df_new['Hour'] = df_new['DateTime'].apply(lambda x: x.hour).astype(np.int16)\n",
    "df_new['Day_of_week'] = df_new['DateTime'].apply(lambda x: x.dayofweek).astype(np.int16)"
   ]
  },
  {
   "cell_type": "code",
   "execution_count": 583,
   "metadata": {
    "collapsed": false
   },
   "outputs": [],
   "source": [
    "df_new['AgeuponOutcome_inDays'] = np.zeros((df_new.shape[0], 1), dtype=np.int16)\n",
    "for i in range(df_new.shape[0]):\n",
    "    try:\n",
    "        string = df_new.loc[i, 'AgeuponOutcome']\n",
    "        num, word = convert_age(string)\n",
    "        num_days = int(num) * convert_dict[word]\n",
    "        df_new.loc[i, 'AgeuponOutcome_inDays'] = num_days\n",
    "    \n",
    "    except:\n",
    "        continue"
   ]
  },
  {
   "cell_type": "code",
   "execution_count": 584,
   "metadata": {
    "collapsed": true
   },
   "outputs": [],
   "source": [
    "df_new['has_name_bool'] = df_new['Name'].apply(lambda x: 1 if x is not None else 0)\n",
    "df_new['has_name_bool'] = df_new['has_name_bool'].astype(np.int16)"
   ]
  },
  {
   "cell_type": "code",
   "execution_count": 585,
   "metadata": {
    "collapsed": true
   },
   "outputs": [],
   "source": [
    "df_colors = pd.DataFrame(columns=colors, data=np.zeros((df_new.shape[0], colors.shape[0]), np.int16))\n",
    "for i in range(df_new.shape[0]):\n",
    "    color_string = df_new.loc[i, 'Color']\n",
    "    color_string_tuple = break_up_colors(color_string)\n",
    "    df_colors.loc[i, color_string_tuple] = 1"
   ]
  },
  {
   "cell_type": "code",
   "execution_count": 586,
   "metadata": {
    "collapsed": false
   },
   "outputs": [],
   "source": [
    "df_breed = pd.DataFrame(columns=breeds, data=np.zeros((df_new.shape[0], breeds.shape[0]), np.int8))\n",
    "for i in range(df_new.shape[0]):\n",
    "    breed_string = df_new.loc[i, 'Breed']\n",
    "    breed_string_tuple = break_up_colors(breed_string)\n",
    "    \n",
    "    try: \n",
    "        df_breed.loc[i, breed_string_tuple] = 1\n",
    "    except:   \n",
    "        continue "
   ]
  },
  {
   "cell_type": "code",
   "execution_count": 587,
   "metadata": {
    "collapsed": false
   },
   "outputs": [
    {
     "name": "stdout",
     "output_type": "stream",
     "text": [
      "(11456, 37)\n",
      "(11456, 253)\n"
     ]
    }
   ],
   "source": [
    "print df_colors.shape\n",
    "print df_breed.shape"
   ]
  },
  {
   "cell_type": "code",
   "execution_count": 588,
   "metadata": {
    "collapsed": false
   },
   "outputs": [],
   "source": [
    "df_new_final = pd.get_dummies(df_new[['AnimalType', 'SexuponOutcome']])\n",
    "df_new_final = pd.concat([df_new_final, \n",
    "                      df_colors, \n",
    "                      df_breed, \n",
    "                      df_new['AgeuponOutcome_inDays'],\n",
    "                      df_new['has_name_bool'], \n",
    "                      df_new['Hour'], \n",
    "                      df_new['Day_of_week']\n",
    "                     ], axis=1)"
   ]
  },
  {
   "cell_type": "code",
   "execution_count": 589,
   "metadata": {
    "collapsed": false
   },
   "outputs": [
    {
     "data": {
      "text/plain": [
       "(11456, 301)"
      ]
     },
     "execution_count": 589,
     "metadata": {},
     "output_type": "execute_result"
    }
   ],
   "source": [
    "df_new_final.shape"
   ]
  },
  {
   "cell_type": "code",
   "execution_count": 590,
   "metadata": {
    "collapsed": false
   },
   "outputs": [
    {
     "name": "stdout",
     "output_type": "stream",
     "text": [
      "[ 7 44]\n",
      "(11456, 299)\n"
     ]
    }
   ],
   "source": [
    "indices = np.where(df_new_final.columns == None)[0]\n",
    "print indices\n",
    "df_new_final = pd.concat([df_new_final.ix[:, 0:7], df_new_final.ix[:, 8:44], df_new_final.ix[:, 45:]], axis=1)\n",
    "print df_new_final.shape"
   ]
  },
  {
   "cell_type": "code",
   "execution_count": 591,
   "metadata": {
    "collapsed": false
   },
   "outputs": [
    {
     "name": "stdout",
     "output_type": "stream",
     "text": [
      "[]\n"
     ]
    }
   ],
   "source": [
    "print np.where(df_new_final.columns == None)[0]\n",
    "for col in df_final:\n",
    "    df_final[col] = df_final[col].astype(np.int16)"
   ]
  },
  {
   "cell_type": "code",
   "execution_count": 592,
   "metadata": {
    "collapsed": false
   },
   "outputs": [
    {
     "data": {
      "text/plain": [
       "set()"
      ]
     },
     "execution_count": 592,
     "metadata": {},
     "output_type": "execute_result"
    }
   ],
   "source": [
    "x = set(X.columns)\n",
    "y = set(df_new_final.columns)\n",
    "x-y"
   ]
  },
  {
   "cell_type": "code",
   "execution_count": 593,
   "metadata": {
    "collapsed": false
   },
   "outputs": [
    {
     "data": {
      "text/plain": [
       "RandomForestClassifier(bootstrap=True, class_weight=None, criterion='gini',\n",
       "            max_depth=None, max_features='sqrt', max_leaf_nodes=None,\n",
       "            min_samples_leaf=1, min_samples_split=1,\n",
       "            min_weight_fraction_leaf=0.0, n_estimators=608, n_jobs=4,\n",
       "            oob_score=False, random_state=0, verbose=0, warm_start=False)"
      ]
     },
     "execution_count": 593,
     "metadata": {},
     "output_type": "execute_result"
    }
   ],
   "source": [
    "clf = RandomForestClassifier(random_state=0, \n",
    "                             n_jobs=4, \n",
    "                             n_estimators=df_final.shape[1]*2, \n",
    "                             max_features='sqrt',\n",
    "                             min_samples_split=1\n",
    "                            )\n",
    "clf.fit(X, Y)"
   ]
  },
  {
   "cell_type": "code",
   "execution_count": 594,
   "metadata": {
    "collapsed": false
   },
   "outputs": [],
   "source": [
    "final_pred = clf.predict(df_new_final)"
   ]
  },
  {
   "cell_type": "code",
   "execution_count": null,
   "metadata": {
    "collapsed": true
   },
   "outputs": [],
   "source": []
  }
 ],
 "metadata": {
  "kernelspec": {
   "display_name": "Python 2",
   "language": "python",
   "name": "python2"
  },
  "language_info": {
   "codemirror_mode": {
    "name": "ipython",
    "version": 2
   },
   "file_extension": ".py",
   "mimetype": "text/x-python",
   "name": "python",
   "nbconvert_exporter": "python",
   "pygments_lexer": "ipython2",
   "version": "2.7.10"
  }
 },
 "nbformat": 4,
 "nbformat_minor": 0
}

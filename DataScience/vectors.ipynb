{
 "cells": [
  {
   "cell_type": "markdown",
   "metadata": {},
   "source": [
    "# Vector Spaces \n",
    "\n",
    "### We will be making vectors from human language, and we'll need to know or review what a vector is. Most of us have probably studied math, physics or engineering and have seen this in school. Others might not have, perhaps being from a CS or other background."
   ]
  },
  {
   "cell_type": "markdown",
   "metadata": {},
   "source": [
    "### A vector is a special object and it only formally exists in a vector space. Since we are not in a physical space, we can relax the usual rules and not argue about math.\n",
    "\n",
    "There are two parts to a vector:\n",
    "\n",
    "* magnitude\n",
    "* direction\n",
    "\n",
    "The magnitude is the distance a vector describes. It could be in any direction. The distance from San Francisco to San Jose roughly 80 miles. Distance does not confer any information about direction. \n",
    "\n",
    "80 miles about a point covers a circle.\n",
    "\n",
    "Equation for a circle in cartesian system:\n",
    "$$r^2 = x^2 + y^2$$\n",
    "\n",
    "Equation for the radius:\n",
    "\n",
    "$$r = \\sqrt{x^2 + y^2}$$\n",
    "\n",
    "The distance formula:\n",
    "\n",
    "$$d = \\sqrt{x^2 + y^2}$$\n",
    "\n",
    "We see that a distance or magnitude of a vector, truly can define a circle."
   ]
  },
  {
   "cell_type": "code",
   "execution_count": 1,
   "metadata": {
    "collapsed": false
   },
   "outputs": [
    {
     "data": {
      "image/png": "[encoded data removed]",
      "text/plain": [
       "<IPython.core.display.Image object>"
      ]
     },
     "execution_count": 1,
     "metadata": {},
     "output_type": "execute_result"
    }
   ],
   "source": [
    "from IPython.display import Image\n",
    "Image(\"/home/daniel/git/Python2.7/DataScience/nlp_training_data/vector_comp.jpg\")\n",
    "# http://hyperphysics.phy-astr.gsu.edu/hbase/vect.html"
   ]
  },
  {
   "cell_type": "markdown",
   "metadata": {},
   "source": [
    "\"A\" is the magnitude, and the $A_x$ and $A_y$ are the components.\n",
    "\n",
    "$A_x$ means, the amount of the vector $\\vec{A}$, in the $\\hat{x}$ direction."
   ]
  },
  {
   "cell_type": "markdown",
   "metadata": {},
   "source": [
    "What is a \"hat\" direction...? That is a unit vector. A unit vector is the direction I mentioned above. Unit vectors form an orthogonal system. The word \"unit\" means, some amount equal to \"1\".\n",
    "\n",
    "You are already familiar with an orthogonal system, the Cartesian Co-ordinate system:"
   ]
  },
  {
   "cell_type": "code",
   "execution_count": 29,
   "metadata": {
    "collapsed": false
   },
   "outputs": [
    {
     "data": {
      "image/png": "[encoded data removed]",
      "text/plain": [
       "<IPython.core.display.Image object>"
      ]
     },
     "execution_count": 29,
     "metadata": {},
     "output_type": "execute_result"
    }
   ],
   "source": [
    "from IPython.display import Image\n",
    "Image(\"/home/daniel/git/Python2.7/DataScience/nlp_training_data/cart_example.png\")\n"
   ]
  },
  {
   "cell_type": "markdown",
   "metadata": {},
   "source": [
    "## Hyper Physics has a good primer\n",
    "http://hyperphysics.phy-astr.gsu.edu/hbase/vbas.html"
   ]
  },
  {
   "cell_type": "markdown",
   "metadata": {},
   "source": [
    "# Linearity\n",
    "\n",
    "A vector space is a linear space. That means, that a vector can be decomposed into it's components and that\n",
    "a new vector can be formed be adding components. \n",
    "\n",
    "## Linear Equations\n",
    "\n",
    "$y = mx +b$  is a familar linear equation. This another example written in a more careful notation, for a line in 3D space.\n",
    "\n",
    "\n",
    "In physics, we typically use the notation i,j and k for unit vectors:\n",
    "\n",
    "# $$ \\vec{r} = x\\hat{i} + y\\hat{j}+ z\\hat{k} $$\n",
    "\n",
    "## It can be generalized to  higher dimensions:\n",
    "\n",
    "## $$\\vec{r} = a_1\\hat{x_1} + a_2\\hat{x_2} + a_3\\hat{x_3} ... a_n\\hat{x_n}$$\n",
    "\n",
    "\n",
    "# In NLP, words are made into vectors with many dimensions. Recall, by definition, a dimension is the rank, or number of unique orthogonal directions which make up the space being described.\n",
    "\n",
    "## In face, words are chosen as \"features\" and each \"feature\" is a unit vector. The amount of a feature is the magnitude times the direction. \n",
    "\n"
   ]
  },
  {
   "cell_type": "markdown",
   "metadata": {},
   "source": [
    "# Bad News About NLP\n",
    "\n",
    "### We need numeric values to form vectors that our math and computers work on. We need to choose words from a corpus, to become features. These features are converted into a number by counting their frequency of occurance.  Yeah, it's that simple...\n",
    "\n",
    "Features can be words (1-grams) or n-gram, such as 3 words:\n",
    "\n",
    "* larry\n",
    "* larry walked\n",
    "* larry walked work\n",
    "\n",
    "If we decide that those three n-grams are featues, then they are also orthogonal to each other by definition, even though some words are repeated. "
   ]
  },
  {
   "cell_type": "markdown",
   "metadata": {},
   "source": [
    "# Some  NLP terminology\n",
    "\n",
    "* Corpus - the entire collection of text under consideration\n",
    "* document - a container of text if which, the corpus is made, i.e., a tweet from a corpus of tweets.\n",
    "* tokens - a discrete chunk of characters that we are considering to be a symbol.\n",
    "* tokenizing -  the act of finding and making a list of tokens from the corpus or a document. This is usually done by use of regular expressions.\n",
    "* stop words - words not considered at. Becare with these as you can abuse these and cause over fitting.\n",
    "* TF -  (Number of times term t appears in a document) / (Total number of terms in the document).\n"
   ]
  },
  {
   "cell_type": "markdown",
   "metadata": {},
   "source": [
    "# Choosing Features\n",
    "\n",
    "We will use the Count Vectorizer from Sci-kit Learn. We will also see the TF-IDF vectorizer. The Count vectorizer is pretty much what I wrote about above.\n",
    "\n",
    "## TF-IDF stands for: term frequency - inverse document frequency.\n",
    "When figuring out which words of a corpus to use as features, we often don't want to consider words like\n",
    "\"to\" or \"the\". They could be very useful in some cases. In a corpus composed of all the text in a newspaper though,\n",
    "these high frequency words would not be good choices for freatures. Bad choices for a feature, would be tokens, that occur often across all documents in the corpus.\n",
    "\n",
    "Those terms are counted, then reduced in weight, by means of an IDF function. A basic one could be:\n",
    "\n",
    "$$ \\frac{count}{n\\text{-}occurances} $$"
   ]
  },
  {
   "cell_type": "code",
   "execution_count": 6,
   "metadata": {
    "collapsed": false
   },
   "outputs": [
    {
     "data": {
      "text/plain": [
       "[<matplotlib.lines.Line2D at 0x7f042b11d290>]"
      ]
     },
     "execution_count": 6,
     "metadata": {},
     "output_type": "execute_result"
    },
    {
     "data": {
      "image/png": "[encoded data removed]",
      "text/plain": [
       "<matplotlib.figure.Figure at 0x7f042b325c10>"
      ]
     },
     "metadata": {},
     "output_type": "display_data"
    }
   ],
   "source": [
    "%matplotlib inline\n",
    "import numpy as np\n",
    "import matplotlib.pyplot as plt\n",
    "\n",
    "x = np.linspace(0.001, 1, 1000)\n",
    "plt.figure(figsize=(10,4))\n",
    "plt.xlim(0, 0.3)\n",
    "plt.plot(x, 1/x)"
   ]
  },
  {
   "cell_type": "markdown",
   "metadata": {},
   "source": [
    "That's kind of abrupt, lets flatten it out by taking the log."
   ]
  },
  {
   "cell_type": "code",
   "execution_count": 8,
   "metadata": {
    "collapsed": false
   },
   "outputs": [
    {
     "data": {
      "text/plain": [
       "[<matplotlib.lines.Line2D at 0x7f042b0c9910>]"
      ]
     },
     "execution_count": 8,
     "metadata": {},
     "output_type": "execute_result"
    },
    {
     "data": {
      "image/png": "[encoded data removed]",
      "text/plain": [
       "<matplotlib.figure.Figure at 0x7f042b100a10>"
      ]
     },
     "metadata": {},
     "output_type": "display_data"
    }
   ],
   "source": [
    "plt.figure(figsize=(10,4))\n",
    "plt.xlim(0, 0.3)\n",
    "plt.plot(x, np.log(1/x))"
   ]
  },
  {
   "cell_type": "markdown",
   "metadata": {},
   "source": [
    "## That's what I tried to do before I learned about IDF...of course there's a better way."
   ]
  },
  {
   "cell_type": "markdown",
   "metadata": {},
   "source": [
    "# Term Frequency and IDF\n",
    "\n",
    "http://www.tfidf.com/\n",
    "\n",
    "TF: Term Frequency, which measures how frequently a term occurs in a document. Since every document is different in length, it is possible that a term would appear much more times in long documents than shorter ones. Thus, the term frequency is often divided by the document length (aka. the total number of terms in the document) as a way of normalization: \n",
    "\n",
    "TF(t) = (Number of times term t appears in a document) / (Total number of terms in the document).\n",
    "\n",
    "IDF: Inverse Document Frequency, which measures how important a term is. While computing TF, all terms are considered equally important. However it is known that certain terms, such as \"is\", \"of\", and \"that\", may appear a lot of times but have little importance. Thus we need to weigh down the frequent terms while scale up the rare ones, by computing the following: \n",
    "\n",
    "IDF(t) = log_e(Total number of documents / Number of documents with term t in it)."
   ]
  },
  {
   "cell_type": "markdown",
   "metadata": {},
   "source": [
    "#Counts vs TF ( and IDF)\n",
    "\n",
    "If I'm vectoring human language into single words, perhaps a newspaper or other long form text, TF is the best bet with use of IDF.\n",
    "\n",
    "However, a count vectorizer can be useful for very short text like tweets. Or trying to vectorize a computer programming language. The programming language may have a lot of tokens, but they are chosen carefully, and not used so much as connecting phrases between larger ideas. \n",
    "\n",
    "If you're worried about tokens like, \"return\", then consider using n-grams.A collection of n-grams\n",
    "\n"
   ]
  },
  {
   "cell_type": "markdown",
   "metadata": {
    "collapsed": true
   },
   "source": [
    "## Another more interesting way to vectorize in NLP\n",
    "## We won't cover it in this Meetup... :(\n",
    "http://scikit-learn.org/stable/modules/generated/sklearn.feature_extraction.DictVectorizer.html#sklearn.feature_extraction.DictVectorizer\n",
    "\n",
    "When you build a classifier for text, you'll need a dictionary and this method in along those lines.\n"
   ]
  },
  {
   "cell_type": "code",
   "execution_count": null,
   "metadata": {
    "collapsed": true
   },
   "outputs": [],
   "source": []
  }
 ],
 "metadata": {
  "kernelspec": {
   "display_name": "Python 2",
   "language": "python",
   "name": "python2"
  },
  "language_info": {
   "codemirror_mode": {
    "name": "ipython",
    "version": 2
   },
   "file_extension": ".py",
   "mimetype": "text/x-python",
   "name": "python",
   "nbconvert_exporter": "python",
   "pygments_lexer": "ipython2",
   "version": "2.7.10"
  }
 },
 "nbformat": 4,
 "nbformat_minor": 0
}

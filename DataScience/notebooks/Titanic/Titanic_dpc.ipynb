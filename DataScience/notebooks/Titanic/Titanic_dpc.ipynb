{
 "cells": [
  {
   "cell_type": "markdown",
   "metadata": {
    "collapsed": false,
    "slideshow": {
     "slide_type": "-"
    }
   },
   "source": [
    "<img src='http://upload.wikimedia.org/wikipedia/commons/6/6e/St%C3%B6wer_Titanic.jpg'>\n"
   ]
  },
  {
   "cell_type": "code",
   "execution_count": 1,
   "metadata": {
    "collapsed": false,
    "slideshow": {
     "slide_type": "-"
    }
   },
   "outputs": [],
   "source": [
    "import numpy as np\n",
    "import pandas as pd\n",
    "import matplotlib.pyplot as plt\n",
    "%matplotlib inline\n",
    "import brewer2mpl\n",
    "import seaborn as sns"
   ]
  },
  {
   "cell_type": "code",
   "execution_count": 2,
   "metadata": {
    "collapsed": false,
    "slideshow": {
     "slide_type": "subslide"
    }
   },
   "outputs": [],
   "source": [
    "# Setting up better defaults for matplotlib\n",
    "from matplotlib import rcParams\n",
    "\n",
    "rcParams['axes.facecolor'] = 'white'\n",
    "rcParams['font.size'] = 18\n",
    "\n",
    "#colorbrewer2 Dark2 qualitative color table\n",
    "dark2_colors = brewer2mpl.get_map('Dark2', 'Qualitative', 7).mpl_colors"
   ]
  },
  {
   "cell_type": "code",
   "execution_count": 3,
   "metadata": {
    "collapsed": false
   },
   "outputs": [],
   "source": [
    "# Load data\n",
    "df= pd.read_csv('http://biostat.mc.vanderbilt.edu/wiki/pub/Main/DataSets/titanic3.csv')"
   ]
  },
  {
   "cell_type": "markdown",
   "metadata": {},
   "source": [
    "## Explore Data"
   ]
  },
  {
   "cell_type": "markdown",
   "metadata": {},
   "source": [
    "What values are missing and how many ?"
   ]
  },
  {
   "cell_type": "code",
   "execution_count": 4,
   "metadata": {
    "collapsed": false
   },
   "outputs": [
    {
     "name": "stdout",
     "output_type": "stream",
     "text": [
      "<class 'pandas.core.frame.DataFrame'>\n",
      "Int64Index: 1309 entries, 0 to 1308\n",
      "Data columns (total 14 columns):\n",
      "pclass       1309 non-null int64\n",
      "survived     1309 non-null int64\n",
      "name         1309 non-null object\n",
      "sex          1309 non-null object\n",
      "age          1046 non-null float64\n",
      "sibsp        1309 non-null int64\n",
      "parch        1309 non-null int64\n",
      "ticket       1309 non-null object\n",
      "fare         1308 non-null float64\n",
      "cabin        295 non-null object\n",
      "embarked     1307 non-null object\n",
      "boat         486 non-null object\n",
      "body         121 non-null float64\n",
      "home.dest    745 non-null object\n",
      "dtypes: float64(3), int64(4), object(7)\n",
      "memory usage: 153.4+ KB\n"
     ]
    }
   ],
   "source": [
    "df.info()"
   ]
  },
  {
   "cell_type": "code",
   "execution_count": 20,
   "metadata": {
    "collapsed": false
   },
   "outputs": [
    {
     "data": {
      "text/plain": [
       "body         1188\n",
       "cabin        1014\n",
       "boat          823\n",
       "home.dest     564\n",
       "age           263\n",
       "embarked        2\n",
       "fare            1\n",
       "ticket          0\n",
       "parch           0\n",
       "sibsp           0\n",
       "sex             0\n",
       "name            0\n",
       "survived        0\n",
       "pclass          0\n",
       "dtype: int64"
      ]
     },
     "execution_count": 20,
     "metadata": {},
     "output_type": "execute_result"
    }
   ],
   "source": [
    "out = df.shape[0] - df.count()\n",
    "out.sort_values(ascending=False)"
   ]
  },
  {
   "cell_type": "code",
   "execution_count": 21,
   "metadata": {
    "collapsed": false
   },
   "outputs": [
    {
     "data": {
      "image/png": "[encoded data removed]",
      "text/plain": [
       "<matplotlib.figure.Figure at 0x7f80d41187d0>"
      ]
     },
     "metadata": {},
     "output_type": "display_data"
    }
   ],
   "source": [
    "def age_binner(age):\n",
    "    if age is None or age is np.nan:\n",
    "        return None\n",
    "    if age < 16:\n",
    "        return 15\n",
    "    elif age >= 16 and age < 23:\n",
    "        return 23\n",
    "    elif age >= 23 and age < 30:\n",
    "        return 30\n",
    "    elif age >= 30 and age < 45:\n",
    "        return 45\n",
    "    elif age >= 45 and age < 55:\n",
    "        return 55\n",
    "    else:\n",
    "        return 65\n",
    "    \n",
    "dff = pd.get_dummies(data=df,columns=['pclass'])\n",
    "\n",
    "dff['age_bins'] = dff['age'].apply(lambda x:age_binner(x))\n",
    "dff = pd.get_dummies(data=dff,columns=['age_bins'])\n",
    "dff.drop(['age','body'], inplace=True, axis=1)\n",
    "dfff = dff.corr(min_periods=10)\n",
    "norm = dfff['survived'][1:].sum()\n",
    "Y = dfff['survived'][1:] / norm    \n",
    "\n",
    "\n",
    "x = np.arange(len(Y))\n",
    "labels = dfff.keys()[1:]\n",
    "plt.figure(figsize=(10,5))\n",
    "plt.bar(x, Y, align='center')\n",
    "plt.title(\"Correlation of Survival to Categoricals, Normed to Sum\")\n",
    "plt.xticks(x, labels, rotation='vertical');"
   ]
  },
  {
   "cell_type": "code",
   "execution_count": 24,
   "metadata": {
    "collapsed": false
   },
   "outputs": [
    {
     "data": {
      "image/png": "[encoded data removed]",
      "text/plain": [
       "<matplotlib.figure.Figure at 0x7f80eb646710>"
      ]
     },
     "metadata": {},
     "output_type": "display_data"
    }
   ],
   "source": [
    "sur = df[df['survived'] == 1]['age'].dropna()\n",
    "tot = df['age'].dropna()\n",
    "\n",
    "sy, sx = np.histogram(sur, bins=10, normed=1, range=(0,60))\n",
    "ty, tx = np.histogram(tot, bins=10, normed=1, range=(0,60))\n",
    "\n",
    "P = (sy / ty)\n",
    "P /= np.sum(P)\n",
    "tx = tx[0:-1]\n",
    "\n",
    "plt.figure(figsize=(10,5))\n",
    "plt.bar(tx, P, align=\"center\", width=3)\n",
    "plt.title(\"Probability of Survival Based Soley on Age\")\n",
    "plt.xlim(-1,60)\n",
    "plt.xticks(tx, tx);"
   ]
  },
  {
   "cell_type": "markdown",
   "metadata": {},
   "source": [
    "## NLP: Using the first and last names"
   ]
  },
  {
   "cell_type": "markdown",
   "metadata": {},
   "source": [
    "My guess, is that in 1911 racial profiling was common and there was a severe racism as well as classism.\n",
    "So my hypothsis, is that the first and last names will give insight into the ethnic background of the passengers.\n"
   ]
  },
  {
   "cell_type": "code",
   "execution_count": 38,
   "metadata": {
    "collapsed": false
   },
   "outputs": [
    {
     "name": "stdout",
     "output_type": "stream",
     "text": [
      "Allen, Miss. Elisabeth Walton\n"
     ]
    }
   ],
   "source": [
    "print df.name[0]"
   ]
  },
  {
   "cell_type": "code",
   "execution_count": 13,
   "metadata": {
    "collapsed": false
   },
   "outputs": [
    {
     "name": "stdout",
     "output_type": "stream",
     "text": [
      "['Elisabeth Allen' 'Hudson Allison' 'Helen Allison' 'Hudson Allison'\n",
      " 'Hudson Allison' 'Harry Anderson' 'Kornelia Andrews' 'Thomas Andrews'\n",
      " 'Edward Appleton' 'Ramon Artagaveytia']\n"
     ]
    },
    {
     "data": {
      "text/plain": [
       "array(['Elisabeth Allen', 'Hudson Allison', 'Harry Anderson',\n",
       "       'Kornelia Andrews', 'Edward Appleton', 'John Astor',\n",
       "       'Leontine Aubart', 'Ellen Barber', 'Algernon Barkworth',\n",
       "       'James Baxter'], \n",
       "      dtype='|S32')"
      ]
     },
     "execution_count": 13,
     "metadata": {},
     "output_type": "execute_result"
    }
   ],
   "source": [
    "first_name = map(lambda s:s.split(' ')[2], df.name)\n",
    "last_name = map(lambda s:s.split(',')[0], df.name)\n",
    "\n",
    "names = map(lambda tup:\"%s %s\" %(tup[0], tup[1]), zip(first_name, last_name))\n",
    "names = np.array(names)\n",
    "print names[0:10]\n",
    "\n",
    "sur_name_ind = df[df.survived == 1].index.tolist()\n",
    "sur_name = names[sur_name_ind]\n",
    "sur_name[0:10]"
   ]
  },
  {
   "cell_type": "code",
   "execution_count": 14,
   "metadata": {
    "collapsed": true
   },
   "outputs": [],
   "source": [
    "from sklearn.feature_extraction.text import CountVectorizer\n",
    "vec = CountVectorizer(max_features=150,\n",
    "                      decode_error='ignore',\n",
    "                      strip_accents='unicode',\n",
    "                      analyzer='char_wb',\n",
    "                      ngram_range=(3,3)\n",
    "                      )\n",
    "\n",
    "vec.fit(sur_name)\n",
    "name_vec = vec.transform(names)\n",
    "name_vec = name_vec.toarray()\n",
    "#name_fea = vec.get_feature_names()\n",
    "out = vec.inverse_transform(name_vec)"
   ]
  },
  {
   "cell_type": "code",
   "execution_count": 15,
   "metadata": {
    "collapsed": false
   },
   "outputs": [
    {
     "name": "stdout",
     "output_type": "stream",
     "text": [
      "(1309,)\n"
     ]
    }
   ],
   "source": [
    "count_sum = np.squeeze(name_vec.sum(axis=1))\n",
    "print count_sum.shape\n",
    "\n",
    "test = pd.DataFrame({'name':names, 'fea':out, 'count': count_sum, 'survived':df.survived})\n",
    "test.fillna(0, inplace=True)"
   ]
  },
  {
   "cell_type": "code",
   "execution_count": 16,
   "metadata": {
    "collapsed": false
   },
   "outputs": [
    {
     "data": {
      "text/plain": [
       "<matplotlib.axes._subplots.AxesSubplot at 0x7f731f678990>"
      ]
     },
     "execution_count": 16,
     "metadata": {},
     "output_type": "execute_result"
    },
    {
     "data": {
      "image/png": "[encoded data removed]",
      "text/plain": [
       "<matplotlib.figure.Figure at 0x7f7320527dd0>"
      ]
     },
     "metadata": {},
     "output_type": "display_data"
    }
   ],
   "source": [
    "sur = test[test.survived == 1]\n",
    "sur['count'].hist(histtype=\"stepfilled\", alpha=0.5, color='g',bins=10)\n",
    "\n",
    "died = test[test.survived == 0]\n",
    "died['count'].hist(histtype=\"step\", alpha=0.3, color='r', linewidth=3, bins=10)"
   ]
  },
  {
   "cell_type": "code",
   "execution_count": 17,
   "metadata": {
    "collapsed": false
   },
   "outputs": [],
   "source": [
    "df['name_match'] = test['count']"
   ]
  },
  {
   "cell_type": "markdown",
   "metadata": {
    "slideshow": {
     "slide_type": "slide"
    }
   },
   "source": [
    "# Cleaning Data"
   ]
  },
  {
   "cell_type": "markdown",
   "metadata": {},
   "source": [
    "##Missing  Ages "
   ]
  },
  {
   "cell_type": "markdown",
   "metadata": {},
   "source": [
    "A common approach to this type of situation is to replace with the average of the available values. In this case, that would mean replacing 177 missing Age values with 29.7.Taking such an approach would be fine if only a small fraction of the age values were missing. However, with missing values accounting for 20 percent of all age values in a relatively small data set (<900 records), it is better to search for a more refined method of imputation. "
   ]
  },
  {
   "cell_type": "code",
   "execution_count": 14,
   "metadata": {
    "collapsed": false
   },
   "outputs": [
    {
     "data": {
      "text/plain": [
       "0                      Allen, Miss. Elisabeth Walton\n",
       "1                     Allison, Master. Hudson Trevor\n",
       "2                       Allison, Miss. Helen Loraine\n",
       "3               Allison, Mr. Hudson Joshua Creighton\n",
       "4    Allison, Mrs. Hudson J C (Bessie Waldo Daniels)\n",
       "5                                Anderson, Mr. Harry\n",
       "6                  Andrews, Miss. Kornelia Theodosia\n",
       "7                             Andrews, Mr. Thomas Jr\n",
       "8      Appleton, Mrs. Edward Dale (Charlotte Lamson)\n",
       "9                            Artagaveytia, Mr. Ramon\n",
       "Name: name, dtype: object"
      ]
     },
     "execution_count": 14,
     "metadata": {},
     "output_type": "execute_result"
    }
   ],
   "source": [
    "df.name[:10]"
   ]
  },
  {
   "cell_type": "code",
   "execution_count": 15,
   "metadata": {
    "collapsed": false,
    "slideshow": {
     "slide_type": "subslide"
    }
   },
   "outputs": [
    {
     "data": {
      "text/plain": [
       "' Miss'"
      ]
     },
     "execution_count": 15,
     "metadata": {},
     "output_type": "execute_result"
    }
   ],
   "source": [
    "df.name.map(lambda x: x.split(','))[0][1].split('.')[0]"
   ]
  },
  {
   "cell_type": "code",
   "execution_count": 16,
   "metadata": {
    "collapsed": true,
    "slideshow": {
     "slide_type": "subslide"
    }
   },
   "outputs": [],
   "source": [
    "df['title'] = (df.name.map(lambda x: x.split(',')).map(lambda x: x[1].split('.')[0] ))"
   ]
  },
  {
   "cell_type": "code",
   "execution_count": 17,
   "metadata": {
    "collapsed": false,
    "slideshow": {
     "slide_type": "subslide"
    }
   },
   "outputs": [
    {
     "data": {
      "text/html": [
       "<div style=\"max-height:1000px;max-width:1500px;overflow:auto;\">\n",
       "<table border=\"1\" class=\"dataframe\">\n",
       "  <thead>\n",
       "    <tr style=\"text-align: right;\">\n",
       "      <th></th>\n",
       "      <th></th>\n",
       "      <th>survived</th>\n",
       "      <th>age</th>\n",
       "      <th>sibsp</th>\n",
       "      <th>parch</th>\n",
       "      <th>fare</th>\n",
       "      <th>body</th>\n",
       "      <th>name_match</th>\n",
       "    </tr>\n",
       "    <tr>\n",
       "      <th>pclass</th>\n",
       "      <th>title</th>\n",
       "      <th></th>\n",
       "      <th></th>\n",
       "      <th></th>\n",
       "      <th></th>\n",
       "      <th></th>\n",
       "      <th></th>\n",
       "      <th></th>\n",
       "    </tr>\n",
       "  </thead>\n",
       "  <tbody>\n",
       "    <tr>\n",
       "      <th rowspan=\"16\" valign=\"top\">1</th>\n",
       "      <th>Capt</th>\n",
       "      <td>0.000000</td>\n",
       "      <td>70.000000</td>\n",
       "      <td>1.000000</td>\n",
       "      <td>1.000000</td>\n",
       "      <td>71.000000</td>\n",
       "      <td>269.000000</td>\n",
       "      <td>5.000000</td>\n",
       "    </tr>\n",
       "    <tr>\n",
       "      <th>Col</th>\n",
       "      <td>0.500000</td>\n",
       "      <td>54.000000</td>\n",
       "      <td>0.250000</td>\n",
       "      <td>0.000000</td>\n",
       "      <td>79.518750</td>\n",
       "      <td>124.000000</td>\n",
       "      <td>3.500000</td>\n",
       "    </tr>\n",
       "    <tr>\n",
       "      <th>Don</th>\n",
       "      <td>0.000000</td>\n",
       "      <td>40.000000</td>\n",
       "      <td>0.000000</td>\n",
       "      <td>0.000000</td>\n",
       "      <td>27.720800</td>\n",
       "      <td>NaN</td>\n",
       "      <td>3.000000</td>\n",
       "    </tr>\n",
       "    <tr>\n",
       "      <th>Dona</th>\n",
       "      <td>1.000000</td>\n",
       "      <td>39.000000</td>\n",
       "      <td>0.000000</td>\n",
       "      <td>0.000000</td>\n",
       "      <td>108.900000</td>\n",
       "      <td>NaN</td>\n",
       "      <td>2.000000</td>\n",
       "    </tr>\n",
       "    <tr>\n",
       "      <th>Dr</th>\n",
       "      <td>0.666667</td>\n",
       "      <td>45.600000</td>\n",
       "      <td>0.833333</td>\n",
       "      <td>0.166667</td>\n",
       "      <td>66.922917</td>\n",
       "      <td>230.000000</td>\n",
       "      <td>6.166667</td>\n",
       "    </tr>\n",
       "    <tr>\n",
       "      <th>Jonkheer</th>\n",
       "      <td>0.000000</td>\n",
       "      <td>38.000000</td>\n",
       "      <td>0.000000</td>\n",
       "      <td>0.000000</td>\n",
       "      <td>0.000000</td>\n",
       "      <td>NaN</td>\n",
       "      <td>6.000000</td>\n",
       "    </tr>\n",
       "    <tr>\n",
       "      <th>Lady</th>\n",
       "      <td>1.000000</td>\n",
       "      <td>48.000000</td>\n",
       "      <td>1.000000</td>\n",
       "      <td>0.000000</td>\n",
       "      <td>39.600000</td>\n",
       "      <td>NaN</td>\n",
       "      <td>2.000000</td>\n",
       "    </tr>\n",
       "    <tr>\n",
       "      <th>Major</th>\n",
       "      <td>0.500000</td>\n",
       "      <td>48.500000</td>\n",
       "      <td>0.000000</td>\n",
       "      <td>0.000000</td>\n",
       "      <td>28.525000</td>\n",
       "      <td>NaN</td>\n",
       "      <td>3.000000</td>\n",
       "    </tr>\n",
       "    <tr>\n",
       "      <th>Master</th>\n",
       "      <td>1.000000</td>\n",
       "      <td>6.984000</td>\n",
       "      <td>0.800000</td>\n",
       "      <td>2.000000</td>\n",
       "      <td>150.056660</td>\n",
       "      <td>NaN</td>\n",
       "      <td>7.600000</td>\n",
       "    </tr>\n",
       "    <tr>\n",
       "      <th>Miss</th>\n",
       "      <td>0.950000</td>\n",
       "      <td>30.338983</td>\n",
       "      <td>0.350000</td>\n",
       "      <td>0.516667</td>\n",
       "      <td>130.218958</td>\n",
       "      <td>NaN</td>\n",
       "      <td>5.533333</td>\n",
       "    </tr>\n",
       "    <tr>\n",
       "      <th>Mlle</th>\n",
       "      <td>1.000000</td>\n",
       "      <td>24.000000</td>\n",
       "      <td>0.000000</td>\n",
       "      <td>0.000000</td>\n",
       "      <td>59.402100</td>\n",
       "      <td>NaN</td>\n",
       "      <td>4.000000</td>\n",
       "    </tr>\n",
       "    <tr>\n",
       "      <th>Mme</th>\n",
       "      <td>1.000000</td>\n",
       "      <td>24.000000</td>\n",
       "      <td>0.000000</td>\n",
       "      <td>0.000000</td>\n",
       "      <td>69.300000</td>\n",
       "      <td>NaN</td>\n",
       "      <td>5.000000</td>\n",
       "    </tr>\n",
       "    <tr>\n",
       "      <th>Mr</th>\n",
       "      <td>0.308176</td>\n",
       "      <td>41.450758</td>\n",
       "      <td>0.308176</td>\n",
       "      <td>0.238994</td>\n",
       "      <td>68.260090</td>\n",
       "      <td>158.625000</td>\n",
       "      <td>5.836478</td>\n",
       "    </tr>\n",
       "    <tr>\n",
       "      <th>Mrs</th>\n",
       "      <td>0.974026</td>\n",
       "      <td>43.208955</td>\n",
       "      <td>0.753247</td>\n",
       "      <td>0.480519</td>\n",
       "      <td>97.314448</td>\n",
       "      <td>NaN</td>\n",
       "      <td>6.220779</td>\n",
       "    </tr>\n",
       "    <tr>\n",
       "      <th>Sir</th>\n",
       "      <td>1.000000</td>\n",
       "      <td>49.000000</td>\n",
       "      <td>1.000000</td>\n",
       "      <td>0.000000</td>\n",
       "      <td>56.929200</td>\n",
       "      <td>NaN</td>\n",
       "      <td>2.000000</td>\n",
       "    </tr>\n",
       "    <tr>\n",
       "      <th>the Countess</th>\n",
       "      <td>1.000000</td>\n",
       "      <td>33.000000</td>\n",
       "      <td>0.000000</td>\n",
       "      <td>0.000000</td>\n",
       "      <td>86.500000</td>\n",
       "      <td>NaN</td>\n",
       "      <td>3.000000</td>\n",
       "    </tr>\n",
       "    <tr>\n",
       "      <th rowspan=\"7\" valign=\"top\">2</th>\n",
       "      <th>Dr</th>\n",
       "      <td>0.000000</td>\n",
       "      <td>38.500000</td>\n",
       "      <td>0.000000</td>\n",
       "      <td>0.000000</td>\n",
       "      <td>12.250000</td>\n",
       "      <td>NaN</td>\n",
       "      <td>3.500000</td>\n",
       "    </tr>\n",
       "    <tr>\n",
       "      <th>Master</th>\n",
       "      <td>1.000000</td>\n",
       "      <td>2.757273</td>\n",
       "      <td>0.818182</td>\n",
       "      <td>1.272727</td>\n",
       "      <td>27.386745</td>\n",
       "      <td>NaN</td>\n",
       "      <td>5.727273</td>\n",
       "    </tr>\n",
       "    <tr>\n",
       "      <th>Miss</th>\n",
       "      <td>0.940000</td>\n",
       "      <td>20.717083</td>\n",
       "      <td>0.400000</td>\n",
       "      <td>0.640000</td>\n",
       "      <td>22.571500</td>\n",
       "      <td>NaN</td>\n",
       "      <td>4.240000</td>\n",
       "    </tr>\n",
       "    <tr>\n",
       "      <th>Mr</th>\n",
       "      <td>0.093333</td>\n",
       "      <td>32.346715</td>\n",
       "      <td>0.300000</td>\n",
       "      <td>0.113333</td>\n",
       "      <td>19.527443</td>\n",
       "      <td>171.137931</td>\n",
       "      <td>5.113333</td>\n",
       "    </tr>\n",
       "    <tr>\n",
       "      <th>Mrs</th>\n",
       "      <td>0.836364</td>\n",
       "      <td>33.518519</td>\n",
       "      <td>0.600000</td>\n",
       "      <td>0.672727</td>\n",
       "      <td>24.023940</td>\n",
       "      <td>52.000000</td>\n",
       "      <td>5.690909</td>\n",
       "    </tr>\n",
       "    <tr>\n",
       "      <th>Ms</th>\n",
       "      <td>1.000000</td>\n",
       "      <td>28.000000</td>\n",
       "      <td>0.000000</td>\n",
       "      <td>0.000000</td>\n",
       "      <td>13.000000</td>\n",
       "      <td>NaN</td>\n",
       "      <td>2.000000</td>\n",
       "    </tr>\n",
       "    <tr>\n",
       "      <th>Rev</th>\n",
       "      <td>0.000000</td>\n",
       "      <td>41.250000</td>\n",
       "      <td>0.250000</td>\n",
       "      <td>0.250000</td>\n",
       "      <td>18.609375</td>\n",
       "      <td>174.000000</td>\n",
       "      <td>6.000000</td>\n",
       "    </tr>\n",
       "    <tr>\n",
       "      <th rowspan=\"5\" valign=\"top\">3</th>\n",
       "      <th>Master</th>\n",
       "      <td>0.333333</td>\n",
       "      <td>6.090000</td>\n",
       "      <td>2.488889</td>\n",
       "      <td>1.333333</td>\n",
       "      <td>25.443609</td>\n",
       "      <td>24.000000</td>\n",
       "      <td>4.511111</td>\n",
       "    </tr>\n",
       "    <tr>\n",
       "      <th>Miss</th>\n",
       "      <td>0.480000</td>\n",
       "      <td>17.360874</td>\n",
       "      <td>0.880000</td>\n",
       "      <td>0.453333</td>\n",
       "      <td>14.375697</td>\n",
       "      <td>229.333333</td>\n",
       "      <td>4.840000</td>\n",
       "    </tr>\n",
       "    <tr>\n",
       "      <th>Mr</th>\n",
       "      <td>0.133929</td>\n",
       "      <td>28.318910</td>\n",
       "      <td>0.267857</td>\n",
       "      <td>0.147321</td>\n",
       "      <td>11.103904</td>\n",
       "      <td>160.377778</td>\n",
       "      <td>4.236607</td>\n",
       "    </tr>\n",
       "    <tr>\n",
       "      <th>Mrs</th>\n",
       "      <td>0.523077</td>\n",
       "      <td>32.326531</td>\n",
       "      <td>0.600000</td>\n",
       "      <td>1.384615</td>\n",
       "      <td>17.629743</td>\n",
       "      <td>148.250000</td>\n",
       "      <td>4.630769</td>\n",
       "    </tr>\n",
       "    <tr>\n",
       "      <th>Ms</th>\n",
       "      <td>0.000000</td>\n",
       "      <td>NaN</td>\n",
       "      <td>0.000000</td>\n",
       "      <td>0.000000</td>\n",
       "      <td>7.750000</td>\n",
       "      <td>NaN</td>\n",
       "      <td>2.000000</td>\n",
       "    </tr>\n",
       "  </tbody>\n",
       "</table>\n",
       "</div>"
      ],
      "text/plain": [
       "                      survived        age     sibsp     parch        fare  \\\n",
       "pclass title                                                                \n",
       "1       Capt          0.000000  70.000000  1.000000  1.000000   71.000000   \n",
       "        Col           0.500000  54.000000  0.250000  0.000000   79.518750   \n",
       "        Don           0.000000  40.000000  0.000000  0.000000   27.720800   \n",
       "        Dona          1.000000  39.000000  0.000000  0.000000  108.900000   \n",
       "        Dr            0.666667  45.600000  0.833333  0.166667   66.922917   \n",
       "        Jonkheer      0.000000  38.000000  0.000000  0.000000    0.000000   \n",
       "        Lady          1.000000  48.000000  1.000000  0.000000   39.600000   \n",
       "        Major         0.500000  48.500000  0.000000  0.000000   28.525000   \n",
       "        Master        1.000000   6.984000  0.800000  2.000000  150.056660   \n",
       "        Miss          0.950000  30.338983  0.350000  0.516667  130.218958   \n",
       "        Mlle          1.000000  24.000000  0.000000  0.000000   59.402100   \n",
       "        Mme           1.000000  24.000000  0.000000  0.000000   69.300000   \n",
       "        Mr            0.308176  41.450758  0.308176  0.238994   68.260090   \n",
       "        Mrs           0.974026  43.208955  0.753247  0.480519   97.314448   \n",
       "        Sir           1.000000  49.000000  1.000000  0.000000   56.929200   \n",
       "        the Countess  1.000000  33.000000  0.000000  0.000000   86.500000   \n",
       "2       Dr            0.000000  38.500000  0.000000  0.000000   12.250000   \n",
       "        Master        1.000000   2.757273  0.818182  1.272727   27.386745   \n",
       "        Miss          0.940000  20.717083  0.400000  0.640000   22.571500   \n",
       "        Mr            0.093333  32.346715  0.300000  0.113333   19.527443   \n",
       "        Mrs           0.836364  33.518519  0.600000  0.672727   24.023940   \n",
       "        Ms            1.000000  28.000000  0.000000  0.000000   13.000000   \n",
       "        Rev           0.000000  41.250000  0.250000  0.250000   18.609375   \n",
       "3       Master        0.333333   6.090000  2.488889  1.333333   25.443609   \n",
       "        Miss          0.480000  17.360874  0.880000  0.453333   14.375697   \n",
       "        Mr            0.133929  28.318910  0.267857  0.147321   11.103904   \n",
       "        Mrs           0.523077  32.326531  0.600000  1.384615   17.629743   \n",
       "        Ms            0.000000        NaN  0.000000  0.000000    7.750000   \n",
       "\n",
       "                            body  name_match  \n",
       "pclass title                                  \n",
       "1       Capt          269.000000    5.000000  \n",
       "        Col           124.000000    3.500000  \n",
       "        Don                  NaN    3.000000  \n",
       "        Dona                 NaN    2.000000  \n",
       "        Dr            230.000000    6.166667  \n",
       "        Jonkheer             NaN    6.000000  \n",
       "        Lady                 NaN    2.000000  \n",
       "        Major                NaN    3.000000  \n",
       "        Master               NaN    7.600000  \n",
       "        Miss                 NaN    5.533333  \n",
       "        Mlle                 NaN    4.000000  \n",
       "        Mme                  NaN    5.000000  \n",
       "        Mr            158.625000    5.836478  \n",
       "        Mrs                  NaN    6.220779  \n",
       "        Sir                  NaN    2.000000  \n",
       "        the Countess         NaN    3.000000  \n",
       "2       Dr                   NaN    3.500000  \n",
       "        Master               NaN    5.727273  \n",
       "        Miss                 NaN    4.240000  \n",
       "        Mr            171.137931    5.113333  \n",
       "        Mrs            52.000000    5.690909  \n",
       "        Ms                   NaN    2.000000  \n",
       "        Rev           174.000000    6.000000  \n",
       "3       Master         24.000000    4.511111  \n",
       "        Miss          229.333333    4.840000  \n",
       "        Mr            160.377778    4.236607  \n",
       "        Mrs           148.250000    4.630769  \n",
       "        Ms                   NaN    2.000000  "
      ]
     },
     "execution_count": 17,
     "metadata": {},
     "output_type": "execute_result"
    }
   ],
   "source": [
    "grouped = df.groupby(['pclass','title'])\n",
    "grouped.mean()"
   ]
  },
  {
   "cell_type": "code",
   "execution_count": 18,
   "metadata": {
    "collapsed": false
   },
   "outputs": [
    {
     "data": {
      "text/html": [
       "<div style=\"max-height:1000px;max-width:1500px;overflow:auto;\">\n",
       "<table border=\"1\" class=\"dataframe\">\n",
       "  <thead>\n",
       "    <tr style=\"text-align: right;\">\n",
       "      <th></th>\n",
       "      <th>survived</th>\n",
       "      <th>age</th>\n",
       "      <th>sibsp</th>\n",
       "      <th>parch</th>\n",
       "      <th>fare</th>\n",
       "      <th>body</th>\n",
       "      <th>name_match</th>\n",
       "    </tr>\n",
       "  </thead>\n",
       "  <tbody>\n",
       "    <tr>\n",
       "      <th>1304</th>\n",
       "      <td>0</td>\n",
       "      <td>14.500000</td>\n",
       "      <td>1</td>\n",
       "      <td>0</td>\n",
       "      <td>14.4542</td>\n",
       "      <td>328.000000</td>\n",
       "      <td>1</td>\n",
       "    </tr>\n",
       "    <tr>\n",
       "      <th>1305</th>\n",
       "      <td>0</td>\n",
       "      <td>17.360874</td>\n",
       "      <td>1</td>\n",
       "      <td>0</td>\n",
       "      <td>14.4542</td>\n",
       "      <td>229.333333</td>\n",
       "      <td>5</td>\n",
       "    </tr>\n",
       "    <tr>\n",
       "      <th>1306</th>\n",
       "      <td>0</td>\n",
       "      <td>26.500000</td>\n",
       "      <td>0</td>\n",
       "      <td>0</td>\n",
       "      <td>7.2250</td>\n",
       "      <td>304.000000</td>\n",
       "      <td>7</td>\n",
       "    </tr>\n",
       "    <tr>\n",
       "      <th>1307</th>\n",
       "      <td>0</td>\n",
       "      <td>27.000000</td>\n",
       "      <td>0</td>\n",
       "      <td>0</td>\n",
       "      <td>7.2250</td>\n",
       "      <td>160.377778</td>\n",
       "      <td>3</td>\n",
       "    </tr>\n",
       "    <tr>\n",
       "      <th>1308</th>\n",
       "      <td>0</td>\n",
       "      <td>29.000000</td>\n",
       "      <td>0</td>\n",
       "      <td>0</td>\n",
       "      <td>7.8750</td>\n",
       "      <td>160.377778</td>\n",
       "      <td>3</td>\n",
       "    </tr>\n",
       "  </tbody>\n",
       "</table>\n",
       "</div>"
      ],
      "text/plain": [
       "      survived        age  sibsp  parch     fare        body  name_match\n",
       "1304         0  14.500000      1      0  14.4542  328.000000           1\n",
       "1305         0  17.360874      1      0  14.4542  229.333333           5\n",
       "1306         0  26.500000      0      0   7.2250  304.000000           7\n",
       "1307         0  27.000000      0      0   7.2250  160.377778           3\n",
       "1308         0  29.000000      0      0   7.8750  160.377778           3"
      ]
     },
     "execution_count": 18,
     "metadata": {},
     "output_type": "execute_result"
    }
   ],
   "source": [
    "#f = lambda x: x.fillna(x.std() * np.random.randn() + x.mean())\n",
    "f = lambda x: x.fillna(x.mean())\n",
    "transformed = grouped.transform(f)\n",
    "transformed.tail()"
   ]
  },
  {
   "cell_type": "code",
   "execution_count": 19,
   "metadata": {
    "collapsed": false
   },
   "outputs": [
    {
     "data": {
      "text/html": [
       "<div style=\"max-height:1000px;max-width:1500px;overflow:auto;\">\n",
       "<table border=\"1\" class=\"dataframe\">\n",
       "  <thead>\n",
       "    <tr style=\"text-align: right;\">\n",
       "      <th></th>\n",
       "      <th>pclass</th>\n",
       "      <th>survived</th>\n",
       "      <th>name</th>\n",
       "      <th>sex</th>\n",
       "      <th>age</th>\n",
       "      <th>sibsp</th>\n",
       "      <th>parch</th>\n",
       "      <th>ticket</th>\n",
       "      <th>fare</th>\n",
       "      <th>cabin</th>\n",
       "      <th>embarked</th>\n",
       "      <th>boat</th>\n",
       "      <th>body</th>\n",
       "      <th>home.dest</th>\n",
       "      <th>name_match</th>\n",
       "      <th>title</th>\n",
       "    </tr>\n",
       "  </thead>\n",
       "  <tbody>\n",
       "    <tr>\n",
       "      <th>1304</th>\n",
       "      <td>3</td>\n",
       "      <td>0</td>\n",
       "      <td>Zabour, Miss. Hileni</td>\n",
       "      <td>female</td>\n",
       "      <td>14.5</td>\n",
       "      <td>1</td>\n",
       "      <td>0</td>\n",
       "      <td>2665</td>\n",
       "      <td>14.4542</td>\n",
       "      <td>NaN</td>\n",
       "      <td>C</td>\n",
       "      <td>NaN</td>\n",
       "      <td>328</td>\n",
       "      <td>NaN</td>\n",
       "      <td>1</td>\n",
       "      <td>Miss</td>\n",
       "    </tr>\n",
       "    <tr>\n",
       "      <th>1305</th>\n",
       "      <td>3</td>\n",
       "      <td>0</td>\n",
       "      <td>Zabour, Miss. Thamine</td>\n",
       "      <td>female</td>\n",
       "      <td>NaN</td>\n",
       "      <td>1</td>\n",
       "      <td>0</td>\n",
       "      <td>2665</td>\n",
       "      <td>14.4542</td>\n",
       "      <td>NaN</td>\n",
       "      <td>C</td>\n",
       "      <td>NaN</td>\n",
       "      <td>NaN</td>\n",
       "      <td>NaN</td>\n",
       "      <td>5</td>\n",
       "      <td>Miss</td>\n",
       "    </tr>\n",
       "    <tr>\n",
       "      <th>1306</th>\n",
       "      <td>3</td>\n",
       "      <td>0</td>\n",
       "      <td>Zakarian, Mr. Mapriededer</td>\n",
       "      <td>male</td>\n",
       "      <td>26.5</td>\n",
       "      <td>0</td>\n",
       "      <td>0</td>\n",
       "      <td>2656</td>\n",
       "      <td>7.2250</td>\n",
       "      <td>NaN</td>\n",
       "      <td>C</td>\n",
       "      <td>NaN</td>\n",
       "      <td>304</td>\n",
       "      <td>NaN</td>\n",
       "      <td>7</td>\n",
       "      <td>Mr</td>\n",
       "    </tr>\n",
       "    <tr>\n",
       "      <th>1307</th>\n",
       "      <td>3</td>\n",
       "      <td>0</td>\n",
       "      <td>Zakarian, Mr. Ortin</td>\n",
       "      <td>male</td>\n",
       "      <td>27.0</td>\n",
       "      <td>0</td>\n",
       "      <td>0</td>\n",
       "      <td>2670</td>\n",
       "      <td>7.2250</td>\n",
       "      <td>NaN</td>\n",
       "      <td>C</td>\n",
       "      <td>NaN</td>\n",
       "      <td>NaN</td>\n",
       "      <td>NaN</td>\n",
       "      <td>3</td>\n",
       "      <td>Mr</td>\n",
       "    </tr>\n",
       "    <tr>\n",
       "      <th>1308</th>\n",
       "      <td>3</td>\n",
       "      <td>0</td>\n",
       "      <td>Zimmerman, Mr. Leo</td>\n",
       "      <td>male</td>\n",
       "      <td>29.0</td>\n",
       "      <td>0</td>\n",
       "      <td>0</td>\n",
       "      <td>315082</td>\n",
       "      <td>7.8750</td>\n",
       "      <td>NaN</td>\n",
       "      <td>S</td>\n",
       "      <td>NaN</td>\n",
       "      <td>NaN</td>\n",
       "      <td>NaN</td>\n",
       "      <td>3</td>\n",
       "      <td>Mr</td>\n",
       "    </tr>\n",
       "  </tbody>\n",
       "</table>\n",
       "</div>"
      ],
      "text/plain": [
       "      pclass  survived                       name     sex   age  sibsp  parch  \\\n",
       "1304       3         0       Zabour, Miss. Hileni  female  14.5      1      0   \n",
       "1305       3         0      Zabour, Miss. Thamine  female   NaN      1      0   \n",
       "1306       3         0  Zakarian, Mr. Mapriededer    male  26.5      0      0   \n",
       "1307       3         0        Zakarian, Mr. Ortin    male  27.0      0      0   \n",
       "1308       3         0         Zimmerman, Mr. Leo    male  29.0      0      0   \n",
       "\n",
       "      ticket     fare cabin embarked boat  body home.dest  name_match  title  \n",
       "1304    2665  14.4542   NaN        C  NaN   328       NaN           1   Miss  \n",
       "1305    2665  14.4542   NaN        C  NaN   NaN       NaN           5   Miss  \n",
       "1306    2656   7.2250   NaN        C  NaN   304       NaN           7     Mr  \n",
       "1307    2670   7.2250   NaN        C  NaN   NaN       NaN           3     Mr  \n",
       "1308  315082   7.8750   NaN        S  NaN   NaN       NaN           3     Mr  "
      ]
     },
     "execution_count": 19,
     "metadata": {},
     "output_type": "execute_result"
    }
   ],
   "source": [
    "df.tail()"
   ]
  },
  {
   "cell_type": "code",
   "execution_count": 20,
   "metadata": {
    "collapsed": false
   },
   "outputs": [
    {
     "data": {
      "text/html": [
       "<div style=\"max-height:1000px;max-width:1500px;overflow:auto;\">\n",
       "<table border=\"1\" class=\"dataframe\">\n",
       "  <thead>\n",
       "    <tr style=\"text-align: right;\">\n",
       "      <th></th>\n",
       "      <th>pclass</th>\n",
       "      <th>age</th>\n",
       "    </tr>\n",
       "  </thead>\n",
       "  <tbody>\n",
       "    <tr>\n",
       "      <th>1076</th>\n",
       "      <td>3</td>\n",
       "      <td>NaN</td>\n",
       "    </tr>\n",
       "  </tbody>\n",
       "</table>\n",
       "</div>"
      ],
      "text/plain": [
       "      pclass  age\n",
       "1076       3  NaN"
      ]
     },
     "execution_count": 20,
     "metadata": {},
     "output_type": "execute_result"
    }
   ],
   "source": [
    "df.age = transformed.age\n",
    "df[ df['age'].isnull() ]  [['pclass','age']].head()"
   ]
  },
  {
   "cell_type": "markdown",
   "metadata": {},
   "source": [
    "##Missing Values:Cabin"
   ]
  },
  {
   "cell_type": "code",
   "execution_count": 138,
   "metadata": {
    "collapsed": false
   },
   "outputs": [
    {
     "data": {
      "text/plain": [
       "pclass  deck\n",
       "1       A        22\n",
       "        B        65\n",
       "        C        94\n",
       "        D        40\n",
       "        E        34\n",
       "        T         1\n",
       "        U        67\n",
       "2       D         6\n",
       "        E         4\n",
       "        F        13\n",
       "        U       254\n",
       "3       E         3\n",
       "        F         8\n",
       "        G         5\n",
       "        U       693\n",
       "Name: deck, dtype: int64"
      ]
     },
     "execution_count": 138,
     "metadata": {},
     "output_type": "execute_result"
    }
   ],
   "source": [
    "df[\"deck\"] = df.cabin.str[0]\n",
    "df['deck'].fillna(\"U\", inplace=True)\n",
    "df.deck.value_counts()\n",
    "df.groupby([\"pclass\", \"deck\"])[\"deck\"].count()"
   ]
  },
  {
   "cell_type": "markdown",
   "metadata": {},
   "source": [
    "##Data Value Validation:Fare\n",
    ">While there are no missing Fare values, a summary does show at least one Fare=0"
   ]
  },
  {
   "cell_type": "code",
   "execution_count": 22,
   "metadata": {
    "collapsed": false
   },
   "outputs": [
    {
     "data": {
      "text/html": [
       "<div style=\"max-height:1000px;max-width:1500px;overflow:auto;\">\n",
       "<table border=\"1\" class=\"dataframe\">\n",
       "  <thead>\n",
       "    <tr style=\"text-align: right;\">\n",
       "      <th></th>\n",
       "      <th>pclass</th>\n",
       "      <th>survived</th>\n",
       "      <th>name</th>\n",
       "      <th>sex</th>\n",
       "      <th>age</th>\n",
       "      <th>sibsp</th>\n",
       "      <th>parch</th>\n",
       "      <th>ticket</th>\n",
       "      <th>fare</th>\n",
       "      <th>cabin</th>\n",
       "      <th>embarked</th>\n",
       "      <th>boat</th>\n",
       "      <th>body</th>\n",
       "      <th>home.dest</th>\n",
       "      <th>name_match</th>\n",
       "      <th>title</th>\n",
       "      <th>deck</th>\n",
       "    </tr>\n",
       "  </thead>\n",
       "  <tbody>\n",
       "    <tr>\n",
       "      <th>7</th>\n",
       "      <td>1</td>\n",
       "      <td>0</td>\n",
       "      <td>Andrews, Mr. Thomas Jr</td>\n",
       "      <td>male</td>\n",
       "      <td>39.000000</td>\n",
       "      <td>0</td>\n",
       "      <td>0</td>\n",
       "      <td>112050</td>\n",
       "      <td>0.0000</td>\n",
       "      <td>A36</td>\n",
       "      <td>S</td>\n",
       "      <td>NaN</td>\n",
       "      <td>NaN</td>\n",
       "      <td>Belfast, NI</td>\n",
       "      <td>8</td>\n",
       "      <td>Mr</td>\n",
       "      <td>A</td>\n",
       "    </tr>\n",
       "    <tr>\n",
       "      <th>70</th>\n",
       "      <td>1</td>\n",
       "      <td>0</td>\n",
       "      <td>Chisholm, Mr. Roderick Robert Crispin</td>\n",
       "      <td>male</td>\n",
       "      <td>41.450758</td>\n",
       "      <td>0</td>\n",
       "      <td>0</td>\n",
       "      <td>112051</td>\n",
       "      <td>0.0000</td>\n",
       "      <td>NaN</td>\n",
       "      <td>S</td>\n",
       "      <td>NaN</td>\n",
       "      <td>NaN</td>\n",
       "      <td>Liverpool, England / Belfast</td>\n",
       "      <td>7</td>\n",
       "      <td>Mr</td>\n",
       "      <td>U</td>\n",
       "    </tr>\n",
       "    <tr>\n",
       "      <th>125</th>\n",
       "      <td>1</td>\n",
       "      <td>0</td>\n",
       "      <td>Fry, Mr. Richard</td>\n",
       "      <td>male</td>\n",
       "      <td>41.450758</td>\n",
       "      <td>0</td>\n",
       "      <td>0</td>\n",
       "      <td>112058</td>\n",
       "      <td>0.0000</td>\n",
       "      <td>B102</td>\n",
       "      <td>S</td>\n",
       "      <td>NaN</td>\n",
       "      <td>NaN</td>\n",
       "      <td>NaN</td>\n",
       "      <td>8</td>\n",
       "      <td>Mr</td>\n",
       "      <td>B</td>\n",
       "    </tr>\n",
       "    <tr>\n",
       "      <th>150</th>\n",
       "      <td>1</td>\n",
       "      <td>0</td>\n",
       "      <td>Harrison, Mr. William</td>\n",
       "      <td>male</td>\n",
       "      <td>40.000000</td>\n",
       "      <td>0</td>\n",
       "      <td>0</td>\n",
       "      <td>112059</td>\n",
       "      <td>0.0000</td>\n",
       "      <td>B94</td>\n",
       "      <td>S</td>\n",
       "      <td>NaN</td>\n",
       "      <td>110</td>\n",
       "      <td>NaN</td>\n",
       "      <td>12</td>\n",
       "      <td>Mr</td>\n",
       "      <td>B</td>\n",
       "    </tr>\n",
       "    <tr>\n",
       "      <th>170</th>\n",
       "      <td>1</td>\n",
       "      <td>1</td>\n",
       "      <td>Ismay, Mr. Joseph Bruce</td>\n",
       "      <td>male</td>\n",
       "      <td>49.000000</td>\n",
       "      <td>0</td>\n",
       "      <td>0</td>\n",
       "      <td>112058</td>\n",
       "      <td>0.0000</td>\n",
       "      <td>B52 B54 B56</td>\n",
       "      <td>S</td>\n",
       "      <td>C</td>\n",
       "      <td>NaN</td>\n",
       "      <td>Liverpool</td>\n",
       "      <td>1</td>\n",
       "      <td>Mr</td>\n",
       "      <td>B</td>\n",
       "    </tr>\n",
       "    <tr>\n",
       "      <th>223</th>\n",
       "      <td>1</td>\n",
       "      <td>0</td>\n",
       "      <td>Parr, Mr. William Henry Marsh</td>\n",
       "      <td>male</td>\n",
       "      <td>41.450758</td>\n",
       "      <td>0</td>\n",
       "      <td>0</td>\n",
       "      <td>112052</td>\n",
       "      <td>0.0000</td>\n",
       "      <td>NaN</td>\n",
       "      <td>S</td>\n",
       "      <td>NaN</td>\n",
       "      <td>NaN</td>\n",
       "      <td>Belfast</td>\n",
       "      <td>8</td>\n",
       "      <td>Mr</td>\n",
       "      <td>U</td>\n",
       "    </tr>\n",
       "    <tr>\n",
       "      <th>234</th>\n",
       "      <td>1</td>\n",
       "      <td>0</td>\n",
       "      <td>Reuchlin, Jonkheer. John George</td>\n",
       "      <td>male</td>\n",
       "      <td>38.000000</td>\n",
       "      <td>0</td>\n",
       "      <td>0</td>\n",
       "      <td>19972</td>\n",
       "      <td>0.0000</td>\n",
       "      <td>NaN</td>\n",
       "      <td>S</td>\n",
       "      <td>NaN</td>\n",
       "      <td>NaN</td>\n",
       "      <td>Rotterdam, Netherlands</td>\n",
       "      <td>6</td>\n",
       "      <td>Jonkheer</td>\n",
       "      <td>U</td>\n",
       "    </tr>\n",
       "    <tr>\n",
       "      <th>363</th>\n",
       "      <td>2</td>\n",
       "      <td>0</td>\n",
       "      <td>Campbell, Mr. William</td>\n",
       "      <td>male</td>\n",
       "      <td>32.346715</td>\n",
       "      <td>0</td>\n",
       "      <td>0</td>\n",
       "      <td>239853</td>\n",
       "      <td>0.0000</td>\n",
       "      <td>NaN</td>\n",
       "      <td>S</td>\n",
       "      <td>NaN</td>\n",
       "      <td>NaN</td>\n",
       "      <td>Belfast</td>\n",
       "      <td>10</td>\n",
       "      <td>Mr</td>\n",
       "      <td>U</td>\n",
       "    </tr>\n",
       "    <tr>\n",
       "      <th>384</th>\n",
       "      <td>2</td>\n",
       "      <td>0</td>\n",
       "      <td>Cunningham, Mr. Alfred Fleming</td>\n",
       "      <td>male</td>\n",
       "      <td>32.346715</td>\n",
       "      <td>0</td>\n",
       "      <td>0</td>\n",
       "      <td>239853</td>\n",
       "      <td>0.0000</td>\n",
       "      <td>NaN</td>\n",
       "      <td>S</td>\n",
       "      <td>NaN</td>\n",
       "      <td>NaN</td>\n",
       "      <td>Belfast</td>\n",
       "      <td>6</td>\n",
       "      <td>Mr</td>\n",
       "      <td>U</td>\n",
       "    </tr>\n",
       "    <tr>\n",
       "      <th>410</th>\n",
       "      <td>2</td>\n",
       "      <td>0</td>\n",
       "      <td>Frost, Mr. Anthony Wood \"Archie\"</td>\n",
       "      <td>male</td>\n",
       "      <td>32.346715</td>\n",
       "      <td>0</td>\n",
       "      <td>0</td>\n",
       "      <td>239854</td>\n",
       "      <td>0.0000</td>\n",
       "      <td>NaN</td>\n",
       "      <td>S</td>\n",
       "      <td>NaN</td>\n",
       "      <td>NaN</td>\n",
       "      <td>Belfast</td>\n",
       "      <td>4</td>\n",
       "      <td>Mr</td>\n",
       "      <td>U</td>\n",
       "    </tr>\n",
       "    <tr>\n",
       "      <th>473</th>\n",
       "      <td>2</td>\n",
       "      <td>0</td>\n",
       "      <td>Knight, Mr. Robert J</td>\n",
       "      <td>male</td>\n",
       "      <td>32.346715</td>\n",
       "      <td>0</td>\n",
       "      <td>0</td>\n",
       "      <td>239855</td>\n",
       "      <td>0.0000</td>\n",
       "      <td>NaN</td>\n",
       "      <td>S</td>\n",
       "      <td>NaN</td>\n",
       "      <td>NaN</td>\n",
       "      <td>Belfast</td>\n",
       "      <td>4</td>\n",
       "      <td>Mr</td>\n",
       "      <td>U</td>\n",
       "    </tr>\n",
       "    <tr>\n",
       "      <th>528</th>\n",
       "      <td>2</td>\n",
       "      <td>0</td>\n",
       "      <td>Parkes, Mr. Francis \"Frank\"</td>\n",
       "      <td>male</td>\n",
       "      <td>32.346715</td>\n",
       "      <td>0</td>\n",
       "      <td>0</td>\n",
       "      <td>239853</td>\n",
       "      <td>0.0000</td>\n",
       "      <td>NaN</td>\n",
       "      <td>S</td>\n",
       "      <td>NaN</td>\n",
       "      <td>NaN</td>\n",
       "      <td>Belfast</td>\n",
       "      <td>2</td>\n",
       "      <td>Mr</td>\n",
       "      <td>U</td>\n",
       "    </tr>\n",
       "    <tr>\n",
       "      <th>581</th>\n",
       "      <td>2</td>\n",
       "      <td>0</td>\n",
       "      <td>Watson, Mr. Ennis Hastings</td>\n",
       "      <td>male</td>\n",
       "      <td>32.346715</td>\n",
       "      <td>0</td>\n",
       "      <td>0</td>\n",
       "      <td>239856</td>\n",
       "      <td>0.0000</td>\n",
       "      <td>NaN</td>\n",
       "      <td>S</td>\n",
       "      <td>NaN</td>\n",
       "      <td>NaN</td>\n",
       "      <td>Belfast</td>\n",
       "      <td>3</td>\n",
       "      <td>Mr</td>\n",
       "      <td>U</td>\n",
       "    </tr>\n",
       "    <tr>\n",
       "      <th>673</th>\n",
       "      <td>3</td>\n",
       "      <td>0</td>\n",
       "      <td>Betros, Mr. Tannous</td>\n",
       "      <td>male</td>\n",
       "      <td>20.000000</td>\n",
       "      <td>0</td>\n",
       "      <td>0</td>\n",
       "      <td>2648</td>\n",
       "      <td>4.0125</td>\n",
       "      <td>NaN</td>\n",
       "      <td>C</td>\n",
       "      <td>NaN</td>\n",
       "      <td>NaN</td>\n",
       "      <td>Syria</td>\n",
       "      <td>4</td>\n",
       "      <td>Mr</td>\n",
       "      <td>U</td>\n",
       "    </tr>\n",
       "    <tr>\n",
       "      <th>896</th>\n",
       "      <td>3</td>\n",
       "      <td>0</td>\n",
       "      <td>Johnson, Mr. Alfred</td>\n",
       "      <td>male</td>\n",
       "      <td>49.000000</td>\n",
       "      <td>0</td>\n",
       "      <td>0</td>\n",
       "      <td>LINE</td>\n",
       "      <td>0.0000</td>\n",
       "      <td>NaN</td>\n",
       "      <td>S</td>\n",
       "      <td>NaN</td>\n",
       "      <td>NaN</td>\n",
       "      <td>NaN</td>\n",
       "      <td>8</td>\n",
       "      <td>Mr</td>\n",
       "      <td>U</td>\n",
       "    </tr>\n",
       "    <tr>\n",
       "      <th>898</th>\n",
       "      <td>3</td>\n",
       "      <td>0</td>\n",
       "      <td>Johnson, Mr. William Cahoone Jr</td>\n",
       "      <td>male</td>\n",
       "      <td>19.000000</td>\n",
       "      <td>0</td>\n",
       "      <td>0</td>\n",
       "      <td>LINE</td>\n",
       "      <td>0.0000</td>\n",
       "      <td>NaN</td>\n",
       "      <td>S</td>\n",
       "      <td>NaN</td>\n",
       "      <td>NaN</td>\n",
       "      <td>NaN</td>\n",
       "      <td>12</td>\n",
       "      <td>Mr</td>\n",
       "      <td>U</td>\n",
       "    </tr>\n",
       "    <tr>\n",
       "      <th>963</th>\n",
       "      <td>3</td>\n",
       "      <td>0</td>\n",
       "      <td>Leonard, Mr. Lionel</td>\n",
       "      <td>male</td>\n",
       "      <td>36.000000</td>\n",
       "      <td>0</td>\n",
       "      <td>0</td>\n",
       "      <td>LINE</td>\n",
       "      <td>0.0000</td>\n",
       "      <td>NaN</td>\n",
       "      <td>S</td>\n",
       "      <td>NaN</td>\n",
       "      <td>NaN</td>\n",
       "      <td>NaN</td>\n",
       "      <td>4</td>\n",
       "      <td>Mr</td>\n",
       "      <td>U</td>\n",
       "    </tr>\n",
       "    <tr>\n",
       "      <th>1082</th>\n",
       "      <td>3</td>\n",
       "      <td>1</td>\n",
       "      <td>Olsen, Master. Artur Karl</td>\n",
       "      <td>male</td>\n",
       "      <td>9.000000</td>\n",
       "      <td>0</td>\n",
       "      <td>1</td>\n",
       "      <td>C 17368</td>\n",
       "      <td>3.1708</td>\n",
       "      <td>NaN</td>\n",
       "      <td>S</td>\n",
       "      <td>13</td>\n",
       "      <td>NaN</td>\n",
       "      <td>NaN</td>\n",
       "      <td>2</td>\n",
       "      <td>Master</td>\n",
       "      <td>U</td>\n",
       "    </tr>\n",
       "    <tr>\n",
       "      <th>1254</th>\n",
       "      <td>3</td>\n",
       "      <td>1</td>\n",
       "      <td>Tornquist, Mr. William Henry</td>\n",
       "      <td>male</td>\n",
       "      <td>25.000000</td>\n",
       "      <td>0</td>\n",
       "      <td>0</td>\n",
       "      <td>LINE</td>\n",
       "      <td>0.0000</td>\n",
       "      <td>NaN</td>\n",
       "      <td>S</td>\n",
       "      <td>15</td>\n",
       "      <td>NaN</td>\n",
       "      <td>NaN</td>\n",
       "      <td>8</td>\n",
       "      <td>Mr</td>\n",
       "      <td>U</td>\n",
       "    </tr>\n",
       "  </tbody>\n",
       "</table>\n",
       "</div>"
      ],
      "text/plain": [
       "      pclass  survived                                   name   sex  \\\n",
       "7          1         0                 Andrews, Mr. Thomas Jr  male   \n",
       "70         1         0  Chisholm, Mr. Roderick Robert Crispin  male   \n",
       "125        1         0                       Fry, Mr. Richard  male   \n",
       "150        1         0                  Harrison, Mr. William  male   \n",
       "170        1         1                Ismay, Mr. Joseph Bruce  male   \n",
       "223        1         0          Parr, Mr. William Henry Marsh  male   \n",
       "234        1         0        Reuchlin, Jonkheer. John George  male   \n",
       "363        2         0                  Campbell, Mr. William  male   \n",
       "384        2         0         Cunningham, Mr. Alfred Fleming  male   \n",
       "410        2         0       Frost, Mr. Anthony Wood \"Archie\"  male   \n",
       "473        2         0                   Knight, Mr. Robert J  male   \n",
       "528        2         0            Parkes, Mr. Francis \"Frank\"  male   \n",
       "581        2         0             Watson, Mr. Ennis Hastings  male   \n",
       "673        3         0                    Betros, Mr. Tannous  male   \n",
       "896        3         0                    Johnson, Mr. Alfred  male   \n",
       "898        3         0        Johnson, Mr. William Cahoone Jr  male   \n",
       "963        3         0                    Leonard, Mr. Lionel  male   \n",
       "1082       3         1              Olsen, Master. Artur Karl  male   \n",
       "1254       3         1           Tornquist, Mr. William Henry  male   \n",
       "\n",
       "            age  sibsp  parch   ticket    fare        cabin embarked boat  \\\n",
       "7     39.000000      0      0   112050  0.0000          A36        S  NaN   \n",
       "70    41.450758      0      0   112051  0.0000          NaN        S  NaN   \n",
       "125   41.450758      0      0   112058  0.0000         B102        S  NaN   \n",
       "150   40.000000      0      0   112059  0.0000          B94        S  NaN   \n",
       "170   49.000000      0      0   112058  0.0000  B52 B54 B56        S    C   \n",
       "223   41.450758      0      0   112052  0.0000          NaN        S  NaN   \n",
       "234   38.000000      0      0    19972  0.0000          NaN        S  NaN   \n",
       "363   32.346715      0      0   239853  0.0000          NaN        S  NaN   \n",
       "384   32.346715      0      0   239853  0.0000          NaN        S  NaN   \n",
       "410   32.346715      0      0   239854  0.0000          NaN        S  NaN   \n",
       "473   32.346715      0      0   239855  0.0000          NaN        S  NaN   \n",
       "528   32.346715      0      0   239853  0.0000          NaN        S  NaN   \n",
       "581   32.346715      0      0   239856  0.0000          NaN        S  NaN   \n",
       "673   20.000000      0      0     2648  4.0125          NaN        C  NaN   \n",
       "896   49.000000      0      0     LINE  0.0000          NaN        S  NaN   \n",
       "898   19.000000      0      0     LINE  0.0000          NaN        S  NaN   \n",
       "963   36.000000      0      0     LINE  0.0000          NaN        S  NaN   \n",
       "1082   9.000000      0      1  C 17368  3.1708          NaN        S   13   \n",
       "1254  25.000000      0      0     LINE  0.0000          NaN        S   15   \n",
       "\n",
       "      body                     home.dest  name_match      title deck  \n",
       "7      NaN                   Belfast, NI           8         Mr    A  \n",
       "70     NaN  Liverpool, England / Belfast           7         Mr    U  \n",
       "125    NaN                           NaN           8         Mr    B  \n",
       "150    110                           NaN          12         Mr    B  \n",
       "170    NaN                     Liverpool           1         Mr    B  \n",
       "223    NaN                       Belfast           8         Mr    U  \n",
       "234    NaN        Rotterdam, Netherlands           6   Jonkheer    U  \n",
       "363    NaN                       Belfast          10         Mr    U  \n",
       "384    NaN                       Belfast           6         Mr    U  \n",
       "410    NaN                       Belfast           4         Mr    U  \n",
       "473    NaN                       Belfast           4         Mr    U  \n",
       "528    NaN                       Belfast           2         Mr    U  \n",
       "581    NaN                       Belfast           3         Mr    U  \n",
       "673    NaN                         Syria           4         Mr    U  \n",
       "896    NaN                           NaN           8         Mr    U  \n",
       "898    NaN                           NaN          12         Mr    U  \n",
       "963    NaN                           NaN           4         Mr    U  \n",
       "1082   NaN                           NaN           2     Master    U  \n",
       "1254   NaN                           NaN           8         Mr    U  "
      ]
     },
     "execution_count": 22,
     "metadata": {},
     "output_type": "execute_result"
    }
   ],
   "source": [
    "df[df['fare'] < 5] "
   ]
  },
  {
   "cell_type": "code",
   "execution_count": 23,
   "metadata": {
    "collapsed": false
   },
   "outputs": [
    {
     "name": "stderr",
     "output_type": "stream",
     "text": [
      "/home/daniel/anaconda/envs/py27/lib/python2.7/site-packages/pandas/core/index.py:667: FutureWarning: scalar indexers for index type Int64Index should be integers and not floating point\n",
      "  type(self).__name__),FutureWarning)\n"
     ]
    }
   ],
   "source": [
    "# first we set those fares of 0 to nan\n",
    "df.fare = df.fare.map(lambda x: np.nan if x==0 else x)\n",
    "\n",
    "# calculate the mean fare for each class\n",
    "class_mean = df.pivot_table('fare', index='pclass', aggfunc='mean')\n",
    "\n",
    "# replace fare with mean fare for class where fare value was zero\n",
    "df.fare = df[['fare', 'pclass']].apply(lambda x: class_mean[x['pclass']] if pd.isnull(x['fare']) else x['fare'], axis=1 )\n"
   ]
  },
  {
   "cell_type": "markdown",
   "metadata": {},
   "source": [
    "###Creating a new column: fare_per_passenger"
   ]
  },
  {
   "cell_type": "markdown",
   "metadata": {},
   "source": [
    "> when we were investigating 'cabin' we found out that ticket price included group price, we will be better off creating a new variable representative of price per person"
   ]
  },
  {
   "cell_type": "code",
   "execution_count": 24,
   "metadata": {
    "collapsed": false
   },
   "outputs": [
    {
     "data": {
      "text/plain": [
       "3    709\n",
       "1    323\n",
       "2    277\n",
       "dtype: int64"
      ]
     },
     "execution_count": 24,
     "metadata": {},
     "output_type": "execute_result"
    }
   ],
   "source": [
    "df.pclass.value_counts()"
   ]
  },
  {
   "cell_type": "code",
   "execution_count": 25,
   "metadata": {
    "collapsed": true
   },
   "outputs": [],
   "source": [
    "df['family_size'] = df['sibsp'] + df['parch']\n",
    "df['fare_per_p'] = df['fare'] / (df['family_size'] + 1)"
   ]
  },
  {
   "cell_type": "code",
   "execution_count": 26,
   "metadata": {
    "collapsed": false
   },
   "outputs": [
    {
     "data": {
      "text/html": [
       "<div style=\"max-height:1000px;max-width:1500px;overflow:auto;\">\n",
       "<table border=\"1\" class=\"dataframe\">\n",
       "  <thead>\n",
       "    <tr style=\"text-align: right;\">\n",
       "      <th></th>\n",
       "      <th>fare</th>\n",
       "      <th>fare_per_p</th>\n",
       "    </tr>\n",
       "  </thead>\n",
       "  <tbody>\n",
       "    <tr>\n",
       "      <th>count</th>\n",
       "      <td>1309.000000</td>\n",
       "      <td>1309.000000</td>\n",
       "    </tr>\n",
       "    <tr>\n",
       "      <th>mean</th>\n",
       "      <td>33.898702</td>\n",
       "      <td>21.131198</td>\n",
       "    </tr>\n",
       "    <tr>\n",
       "      <th>std</th>\n",
       "      <td>51.779841</td>\n",
       "      <td>36.036161</td>\n",
       "    </tr>\n",
       "    <tr>\n",
       "      <th>min</th>\n",
       "      <td>3.170800</td>\n",
       "      <td>1.110714</td>\n",
       "    </tr>\n",
       "    <tr>\n",
       "      <th>25%</th>\n",
       "      <td>7.925000</td>\n",
       "      <td>7.650000</td>\n",
       "    </tr>\n",
       "    <tr>\n",
       "      <th>50%</th>\n",
       "      <td>14.500000</td>\n",
       "      <td>8.662500</td>\n",
       "    </tr>\n",
       "    <tr>\n",
       "      <th>75%</th>\n",
       "      <td>31.387500</td>\n",
       "      <td>25.929200</td>\n",
       "    </tr>\n",
       "    <tr>\n",
       "      <th>max</th>\n",
       "      <td>512.329200</td>\n",
       "      <td>512.329200</td>\n",
       "    </tr>\n",
       "  </tbody>\n",
       "</table>\n",
       "</div>"
      ],
      "text/plain": [
       "              fare   fare_per_p\n",
       "count  1309.000000  1309.000000\n",
       "mean     33.898702    21.131198\n",
       "std      51.779841    36.036161\n",
       "min       3.170800     1.110714\n",
       "25%       7.925000     7.650000\n",
       "50%      14.500000     8.662500\n",
       "75%      31.387500    25.929200\n",
       "max     512.329200   512.329200"
      ]
     },
     "execution_count": 26,
     "metadata": {},
     "output_type": "execute_result"
    }
   ],
   "source": [
    "df[['fare','fare_per_p']].describe()"
   ]
  },
  {
   "cell_type": "markdown",
   "metadata": {},
   "source": [
    "##Missing Values: Embarked"
   ]
  },
  {
   "cell_type": "code",
   "execution_count": 27,
   "metadata": {
    "collapsed": false
   },
   "outputs": [
    {
     "name": "stderr",
     "output_type": "stream",
     "text": [
      "/home/daniel/anaconda/envs/py27/lib/python2.7/site-packages/numpy/lib/arraysetops.py:198: FutureWarning: numpy not_equal will not check object identity in the future. The comparison did not return the same result as suggested by the identity (`is`)) and will change.\n",
      "  flag = np.concatenate(([True], aux[1:] != aux[:-1]))\n"
     ]
    }
   ],
   "source": [
    "from scipy.stats import mode\n",
    "\n",
    "mode_embarked = mode(df['embarked'])[0][0]\n",
    "df['embarked'] = df['embarked'].fillna(mode_embarked)"
   ]
  },
  {
   "cell_type": "markdown",
   "metadata": {},
   "source": []
  },
  {
   "cell_type": "markdown",
   "metadata": {},
   "source": [
    "#Derived variables"
   ]
  },
  {
   "cell_type": "code",
   "execution_count": 28,
   "metadata": {
    "collapsed": false
   },
   "outputs": [],
   "source": [
    "df['age*Class'] = (df.age) / (df.pclass)"
   ]
  },
  {
   "cell_type": "markdown",
   "metadata": {},
   "source": [
    "#Exploratory Data Visualization\n",
    "\n",
    "Let's look at overall distribution of the cleaned data"
   ]
  },
  {
   "cell_type": "code",
   "execution_count": 29,
   "metadata": {
    "collapsed": false
   },
   "outputs": [
    {
     "data": {
      "text/plain": [
       "array([[<matplotlib.axes._subplots.AxesSubplot object at 0x7f8bb9caf310>,\n",
       "        <matplotlib.axes._subplots.AxesSubplot object at 0x7f8bb9bb59d0>,\n",
       "        <matplotlib.axes._subplots.AxesSubplot object at 0x7f8bb9b45050>],\n",
       "       [<matplotlib.axes._subplots.AxesSubplot object at 0x7f8bb9ac61d0>,\n",
       "        <matplotlib.axes._subplots.AxesSubplot object at 0x7f8bb9a27850>,\n",
       "        <matplotlib.axes._subplots.AxesSubplot object at 0x7f8bb99a9b90>],\n",
       "       [<matplotlib.axes._subplots.AxesSubplot object at 0x7f8bb99913d0>,\n",
       "        <matplotlib.axes._subplots.AxesSubplot object at 0x7f8bb990f710>,\n",
       "        <matplotlib.axes._subplots.AxesSubplot object at 0x7f8bb99473d0>],\n",
       "       [<matplotlib.axes._subplots.AxesSubplot object at 0x7f8bb9802150>,\n",
       "        <matplotlib.axes._subplots.AxesSubplot object at 0x7f8bb9784390>,\n",
       "        <matplotlib.axes._subplots.AxesSubplot object at 0x7f8bb9744f90>]], dtype=object)"
      ]
     },
     "execution_count": 29,
     "metadata": {},
     "output_type": "execute_result"
    },
    {
     "data": {
      "image/png": "[encoded data removed]",
      "text/plain": [
       "<matplotlib.figure.Figure at 0x7f8bbaef8c90>"
      ]
     },
     "metadata": {},
     "output_type": "display_data"
    }
   ],
   "source": [
    "df.hist(figsize=(10,10))"
   ]
  },
  {
   "cell_type": "code",
   "execution_count": 30,
   "metadata": {
    "collapsed": false
   },
   "outputs": [
    {
     "data": {
      "image/png": "[encoded data removed]",
      "text/plain": [
       "<matplotlib.figure.Figure at 0x7f8bb9521e10>"
      ]
     },
     "metadata": {},
     "output_type": "display_data"
    }
   ],
   "source": [
    "# code in this namespace is adapted from https://triangleinequality.wordpress.com/2013/05/25/plotting-with-python/\n",
    "\n",
    "def proportionSurvived(discreteVar):\n",
    "    by_var = df.groupby([discreteVar,'survived'])\n",
    "    table = by_var.size().unstack()\n",
    "    normedtable = table.div(table.sum(1), axis=0)\n",
    "    return normedtable\n",
    "\n",
    "discreteVarList = ['sex', 'pclass', 'embarked']\n",
    "\n",
    "fig1, axes1 = plt.subplots(len(discreteVarList),1,figsize=(8,6))\n",
    "\n",
    "for i in range(len(discreteVarList)):\n",
    "    var = discreteVarList[i]\n",
    "    table = proportionSurvived(var)\n",
    "    table.plot(kind='barh', stacked=True, ax=axes1[i])\n"
   ]
  },
  {
   "cell_type": "markdown",
   "metadata": {},
   "source": [
    "#Preparing Data for Machine Learning"
   ]
  },
  {
   "cell_type": "code",
   "execution_count": 31,
   "metadata": {
    "collapsed": false
   },
   "outputs": [
    {
     "data": {
      "text/plain": [
       "pclass           int64\n",
       "survived         int64\n",
       "name            object\n",
       "sex             object\n",
       "age            float64\n",
       "sibsp            int64\n",
       "parch            int64\n",
       "ticket          object\n",
       "fare           float64\n",
       "cabin           object\n",
       "embarked        object\n",
       "boat            object\n",
       "body           float64\n",
       "home.dest       object\n",
       "name_match       int64\n",
       "title           object\n",
       "deck            object\n",
       "family_size      int64\n",
       "fare_per_p     float64\n",
       "age*Class      float64\n",
       "dtype: object"
      ]
     },
     "execution_count": 31,
     "metadata": {},
     "output_type": "execute_result"
    }
   ],
   "source": [
    "df.dtypes\n",
    "#df.dtypes[df.dtypes.map(lambda x: x=='object')]"
   ]
  },
  {
   "cell_type": "markdown",
   "metadata": {},
   "source": [
    "##Dummy Variables: Embarked, Deck, Gender"
   ]
  },
  {
   "cell_type": "code",
   "execution_count": 32,
   "metadata": {
    "collapsed": false
   },
   "outputs": [
    {
     "data": {
      "text/html": [
       "<div style=\"max-height:1000px;max-width:1500px;overflow:auto;\">\n",
       "<table border=\"1\" class=\"dataframe\">\n",
       "  <thead>\n",
       "    <tr style=\"text-align: right;\">\n",
       "      <th></th>\n",
       "      <th>embarked_C</th>\n",
       "      <th>embarked_Q</th>\n",
       "      <th>embarked_S</th>\n",
       "    </tr>\n",
       "  </thead>\n",
       "  <tbody>\n",
       "    <tr>\n",
       "      <th>0</th>\n",
       "      <td>0</td>\n",
       "      <td>0</td>\n",
       "      <td>1</td>\n",
       "    </tr>\n",
       "    <tr>\n",
       "      <th>1</th>\n",
       "      <td>0</td>\n",
       "      <td>0</td>\n",
       "      <td>1</td>\n",
       "    </tr>\n",
       "    <tr>\n",
       "      <th>2</th>\n",
       "      <td>0</td>\n",
       "      <td>0</td>\n",
       "      <td>1</td>\n",
       "    </tr>\n",
       "    <tr>\n",
       "      <th>3</th>\n",
       "      <td>0</td>\n",
       "      <td>0</td>\n",
       "      <td>1</td>\n",
       "    </tr>\n",
       "    <tr>\n",
       "      <th>4</th>\n",
       "      <td>0</td>\n",
       "      <td>0</td>\n",
       "      <td>1</td>\n",
       "    </tr>\n",
       "    <tr>\n",
       "      <th>5</th>\n",
       "      <td>0</td>\n",
       "      <td>0</td>\n",
       "      <td>1</td>\n",
       "    </tr>\n",
       "    <tr>\n",
       "      <th>6</th>\n",
       "      <td>0</td>\n",
       "      <td>0</td>\n",
       "      <td>1</td>\n",
       "    </tr>\n",
       "    <tr>\n",
       "      <th>7</th>\n",
       "      <td>0</td>\n",
       "      <td>0</td>\n",
       "      <td>1</td>\n",
       "    </tr>\n",
       "    <tr>\n",
       "      <th>8</th>\n",
       "      <td>0</td>\n",
       "      <td>0</td>\n",
       "      <td>1</td>\n",
       "    </tr>\n",
       "    <tr>\n",
       "      <th>9</th>\n",
       "      <td>1</td>\n",
       "      <td>0</td>\n",
       "      <td>0</td>\n",
       "    </tr>\n",
       "  </tbody>\n",
       "</table>\n",
       "</div>"
      ],
      "text/plain": [
       "   embarked_C  embarked_Q  embarked_S\n",
       "0           0           0           1\n",
       "1           0           0           1\n",
       "2           0           0           1\n",
       "3           0           0           1\n",
       "4           0           0           1\n",
       "5           0           0           1\n",
       "6           0           0           1\n",
       "7           0           0           1\n",
       "8           0           0           1\n",
       "9           1           0           0"
      ]
     },
     "execution_count": 32,
     "metadata": {},
     "output_type": "execute_result"
    }
   ],
   "source": [
    "pd.get_dummies(df['embarked'], prefix='embarked').head(10)"
   ]
  },
  {
   "cell_type": "code",
   "execution_count": 33,
   "metadata": {
    "collapsed": false
   },
   "outputs": [],
   "source": [
    "df = pd.concat([df, pd.get_dummies(df['embarked'], prefix='embarked')], axis=1)"
   ]
  },
  {
   "cell_type": "markdown",
   "metadata": {},
   "source": [
    "###Deck"
   ]
  },
  {
   "cell_type": "code",
   "execution_count": 34,
   "metadata": {
    "collapsed": false
   },
   "outputs": [],
   "source": [
    "df = pd.concat([df, pd.get_dummies(df['deck'], prefix='deck')], axis=1)"
   ]
  },
  {
   "cell_type": "markdown",
   "metadata": {},
   "source": [
    "###Gender"
   ]
  },
  {
   "cell_type": "code",
   "execution_count": 35,
   "metadata": {
    "collapsed": false
   },
   "outputs": [],
   "source": [
    "df['gender'] = df['sex'].map( {'female': 0, 'male': 1} ).astype(int)"
   ]
  },
  {
   "cell_type": "code",
   "execution_count": 36,
   "metadata": {
    "collapsed": true
   },
   "outputs": [],
   "source": [
    "df = df.drop(['name', 'deck', 'sex','ticket','fare','embarked','cabin','boat','body','home.dest','title'], axis=1) \n",
    "df = df.dropna()"
   ]
  },
  {
   "cell_type": "code",
   "execution_count": 37,
   "metadata": {
    "collapsed": false
   },
   "outputs": [
    {
     "data": {
      "text/plain": [
       "Index([u'pclass', u'survived', u'age', u'sibsp', u'parch', u'name_match', u'family_size', u'fare_per_p', u'age*Class', u'embarked_C', u'embarked_Q', u'embarked_S', u'deck_A', u'deck_B', u'deck_C', u'deck_D', u'deck_E', u'deck_F', u'deck_G', u'deck_T', u'deck_U', u'gender'], dtype='object')"
      ]
     },
     "execution_count": 37,
     "metadata": {},
     "output_type": "execute_result"
    }
   ],
   "source": [
    "df.columns"
   ]
  },
  {
   "cell_type": "markdown",
   "metadata": {},
   "source": [
    "## Data as needed by Sklearn"
   ]
  },
  {
   "cell_type": "code",
   "execution_count": 38,
   "metadata": {
    "collapsed": false
   },
   "outputs": [],
   "source": [
    "# place column to be predicted(survived) in a different dataframe for sklearn\n",
    "y = df['survived']\n",
    "X = df.drop(['survived'],axis=1)"
   ]
  },
  {
   "cell_type": "code",
   "execution_count": 39,
   "metadata": {
    "collapsed": true
   },
   "outputs": [],
   "source": [
    "from sklearn.cross_validation import train_test_split\n",
    "X_train, X_test, y_train, y_test = train_test_split(X,y, test_size=0.3, random_state=12)\n",
    "y = np.ravel(y)"
   ]
  },
  {
   "cell_type": "markdown",
   "metadata": {},
   "source": [
    "# Random Forests"
   ]
  },
  {
   "cell_type": "code",
   "execution_count": null,
   "metadata": {
    "collapsed": true
   },
   "outputs": [],
   "source": [
    "from sklearn.ensemble import RandomForestClassifier\n",
    "from sklearn.metrics import roc_curve,auc\n",
    "from sklearn import metrics\n",
    "from sklearn.metrics import confusion_matrix as sk_confusion_matrix"
   ]
  },
  {
   "cell_type": "code",
   "execution_count": 98,
   "metadata": {
    "collapsed": false
   },
   "outputs": [],
   "source": [
    "# https://www.kaggle.com/c/titanic/prospector#1254\n",
    "# https://www.stat.berkeley.edu/~breiman/RandomForests/cc_home.htm#ooberr\n",
    "\n",
    "oob = []\n",
    "test = []\n",
    "for i in range(1,26, 2):\n",
    "    clf = RandomForestClassifier(n_estimators=1000, \n",
    "                                criterion='gini', \n",
    "                                max_depth=None, \n",
    "                                min_samples_split=i, \n",
    "                                min_samples_leaf=5, \n",
    "                                min_weight_fraction_leaf=0.0, \n",
    "                                max_features=None, \n",
    "                                max_leaf_nodes=None, \n",
    "                                bootstrap=True, \n",
    "                                oob_score=True, \n",
    "                                n_jobs=-1, \n",
    "                                random_state=0, \n",
    "                                verbose=0,\n",
    "                                class_weight=\"subsample\"\n",
    "                                   )\n",
    "    clf.fit(X_train, y_train)\n",
    "    y_pred = clf.predict(X_test)\n",
    "    oob.append(clf.oob_score_)\n",
    "    test.append(metrics.accuracy_score(y_test, y_pred))"
   ]
  },
  {
   "cell_type": "code",
   "execution_count": 99,
   "metadata": {
    "collapsed": false
   },
   "outputs": [
    {
     "data": {
      "text/plain": [
       "[<matplotlib.lines.Line2D at 0x7efcbe48edd0>]"
      ]
     },
     "execution_count": 99,
     "metadata": {},
     "output_type": "execute_result"
    },
    {
     "data": {
      "image/png": "[encoded data removed]",
      "text/plain": [
       "<matplotlib.figure.Figure at 0x7efcbc5b9c90>"
      ]
     },
     "metadata": {},
     "output_type": "display_data"
    }
   ],
   "source": [
    "x = np.arange(1, 26, 2)\n",
    "plt.plot(x, oob, '-ro')\n",
    "plt.plot(x, test, '-bo')"
   ]
  },
  {
   "cell_type": "code",
   "execution_count": 100,
   "metadata": {
    "collapsed": false
   },
   "outputs": [
    {
     "name": "stdout",
     "output_type": "stream",
     "text": [
      "0.821857923497 0.821882951654\n"
     ]
    }
   ],
   "source": [
    "clf = RandomForestClassifier(n_estimators=1000, \n",
    "                                criterion='gini', \n",
    "                                max_depth=None, \n",
    "                                min_samples_split=19, \n",
    "                                min_samples_leaf=5, \n",
    "                                min_weight_fraction_leaf=0.0, \n",
    "                                max_features=None, \n",
    "                                max_leaf_nodes=None, \n",
    "                                bootstrap=True, \n",
    "                                oob_score=True, \n",
    "                                n_jobs=-1, \n",
    "                                random_state=0, \n",
    "                                verbose=0,\n",
    "                                class_weight=\"subsample\"\n",
    "                                   )\n",
    "clf.fit(X_train, y_train)\n",
    "y_pred = clf.predict(X_test)\n",
    "oob = clf.oob_score_\n",
    "print oob, metrics.accuracy_score(y_test, y_pred)"
   ]
  },
  {
   "cell_type": "code",
   "execution_count": 101,
   "metadata": {
    "collapsed": false
   },
   "outputs": [
    {
     "name": "stdout",
     "output_type": "stream",
     "text": [
      "Accuracy: 0.821882951654\n",
      "\n",
      "Confusion matrix:\n",
      "\n",
      "Predicted label    0    1\n",
      "True label               \n",
      "0                212   28\n",
      "1                 42  111\n"
     ]
    }
   ],
   "source": [
    "def confusion_matrix(y_test, y_pred):\n",
    "    cm = sk_confusion_matrix(y_test, y_pred)\n",
    "    cm = pd.DataFrame(data=cm, columns=[0, 1], index=[0, 1])\n",
    "    cm.columns.name = 'Predicted label'\n",
    "    cm.index.name = 'True label'\n",
    "    error_rate = (y_pred != y_test).mean()\n",
    "    return cm\n",
    "\n",
    "\n",
    "print \"Accuracy:\", metrics.accuracy_score(y_test, y_pred)\n",
    "#print \"\\nClassification report:\\n\", metrics.classification_report(y_test, y_pred)\n",
    "print \"\\nConfusion matrix:\\n\\n\", confusion_matrix(y_test, y_pred)"
   ]
  },
  {
   "cell_type": "code",
   "execution_count": 102,
   "metadata": {
    "collapsed": true
   },
   "outputs": [],
   "source": [
    "#Below code to perform feature importance is adapted from \n",
    "#http://scikit-learn.org/stable/auto_examples/ensemble/plot_forest_importances.html\n",
    "\n",
    "forest = RandomForestClassifier(n_estimators=250,\n",
    "                              random_state=0)\n",
    "\n",
    "forest.fit(X_train, y_train)\n",
    "\n",
    "importances = forest.feature_importances_"
   ]
  },
  {
   "cell_type": "code",
   "execution_count": 103,
   "metadata": {
    "collapsed": false
   },
   "outputs": [
    {
     "name": "stdout",
     "output_type": "stream",
     "text": [
      "[ 0.04703749  0.13557584  0.02872723  0.02308245  0.11678856  0.04556952\n",
      "  0.15929757  0.13866454  0.0160744   0.00670297  0.01459192  0.00459641\n",
      "  0.00499706  0.00573026  0.00423557  0.00954189  0.00310043  0.00076407\n",
      "  0.00024126  0.03103949  0.20364107]\n"
     ]
    }
   ],
   "source": [
    "print importances"
   ]
  },
  {
   "cell_type": "code",
   "execution_count": 104,
   "metadata": {
    "collapsed": false
   },
   "outputs": [
    {
     "name": "stdout",
     "output_type": "stream",
     "text": [
      "Feature ranking in the order of importance(1 being higher):\n",
      "\n",
      "(1)'gender' - 0.203641\n",
      "(2)'fare_per_p' - 0.159298\n",
      "(3)'age*Class' - 0.138665\n",
      "(4)'age' - 0.135576\n",
      "(5)'name_match' - 0.116789\n",
      "(6)'pclass' - 0.047037\n",
      "(7)'family_size' - 0.045570\n",
      "(8)'deck_U' - 0.031039\n",
      "(9)'sibsp' - 0.028727\n",
      "(10)'parch' - 0.023082\n",
      "(11)'embarked_C' - 0.016074\n",
      "(12)'embarked_S' - 0.014592\n",
      "(13)'deck_E' - 0.009542\n",
      "(14)'embarked_Q' - 0.006703\n",
      "(15)'deck_C' - 0.005730\n",
      "(16)'deck_B' - 0.004997\n",
      "(17)'deck_A' - 0.004596\n",
      "(18)'deck_D' - 0.004236\n",
      "(19)'deck_F' - 0.003100\n",
      "(20)'deck_G' - 0.000764\n",
      "(21)'deck_T' - 0.000241\n"
     ]
    }
   ],
   "source": [
    "fea_names = list(X.columns)\n",
    "\n",
    "std = np.std([tree.feature_importances_ for tree in forest.estimators_],\n",
    "             axis=0)\n",
    "\n",
    "indices = np.argsort(importances)[::-1]\n",
    "\n",
    "# Print the feature ranking\n",
    "print(\"Feature ranking in the order of importance(1 being higher):\\n\")\n",
    "\n",
    "for f in range(len(fea_names)):\n",
    "    print(\"(%d)'%s' - %f\" % (f + 1, fea_names[indices[f]], \n",
    "          importances[indices[f]]))\n",
    "    "
   ]
  },
  {
   "cell_type": "code",
   "execution_count": 105,
   "metadata": {
    "collapsed": false
   },
   "outputs": [
    {
     "name": "stdout",
     "output_type": "stream",
     "text": [
      "0.833224400871\n"
     ]
    }
   ],
   "source": [
    "from sklearn.ensemble import GradientBoostingClassifier\n",
    "\n",
    "# Model and test.\n",
    "clf = GradientBoostingClassifier(learning_rate=0.01,max_depth=8,n_estimators=50).fit(X_train, y_train)\n",
    "\n",
    "prob = clf.predict_proba(X_test)[:,1]   # Only look at P(y==1).\n",
    "\n",
    "fpr, tpr, thresholds = roc_curve(y_test, prob)\n",
    "roc_auc_prob = auc(fpr, tpr)\n",
    "\n",
    "#print(prob)\n",
    "#print(y_test)\n",
    "print(roc_auc_prob)"
   ]
  },
  {
   "cell_type": "code",
   "execution_count": null,
   "metadata": {
    "collapsed": true
   },
   "outputs": [],
   "source": []
  }
 ],
 "metadata": {
  "kernelspec": {
   "display_name": "Python 2",
   "language": "python",
   "name": "python2"
  },
  "language_info": {
   "codemirror_mode": {
    "name": "ipython",
    "version": 2
   },
   "file_extension": ".py",
   "mimetype": "text/x-python",
   "name": "python",
   "nbconvert_exporter": "python",
   "pygments_lexer": "ipython2",
   "version": "2.7.10"
  }
 },
 "nbformat": 4,
 "nbformat_minor": 0
}

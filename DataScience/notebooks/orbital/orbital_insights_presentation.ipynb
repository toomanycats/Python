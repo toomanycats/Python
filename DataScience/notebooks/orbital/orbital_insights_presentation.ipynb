{
 "cells": [
  {
   "cell_type": "markdown",
   "metadata": {
    "slideshow": {
     "slide_type": "notes"
    }
   },
   "source": [
    "Create slides and run slide show\n",
    "\n",
    "* ipython nbconvert presentation.ipynb --to slides --post serve\n",
    "\n",
    "Or if slides are created\n",
    "* python -m SimpleHTTPServer\n",
    "\n",
    "Navigate to http://127.0.0.1:8000/presentation.slides.html"
   ]
  },
  {
   "cell_type": "markdown",
   "metadata": {
    "slideshow": {
     "slide_type": "slide"
    }
   },
   "source": [
    "# Command Line Tools for Data Manipulation\n",
    "\n",
    "\n",
    "<img width='1000' height='500' src=pics/command_line_fu.png /img>\n",
    "\n",
    "\n",
    "\n",
    "\n",
    "This notebook is using the BASH Kernel by *takluyver*\n",
    "https://github.com/takluyver/bash_kernel"
   ]
  },
  {
   "cell_type": "markdown",
   "metadata": {
    "slideshow": {
     "slide_type": "slide"
    }
   },
   "source": [
    "<center><b> Leveraging Linux Shell Programs for Data Science Tasks</b></center>\n",
    "\n",
    "* Extraction in this field can be difficult. We are not just pulling data from a data base...\n",
    "\n",
    "* Skipping Extraction for now, let's focus on Transformation. \n",
    "\n",
    "* Storage we will touch on for small prototyping project only.\n",
    "\n",
    "<img src=pics/ETL_diagram.png /img>"
   ]
  },
  {
   "cell_type": "markdown",
   "metadata": {
    "slideshow": {
     "slide_type": "slide"
    }
   },
   "source": [
    "# Strengths of Shell Programs:  \n",
    "* Written in C \n",
    "* Close to the Kernel\n",
    "* Robust \n",
    " * Well documented\n",
    " * Written by amazing programmers\n",
    " \n",
    "<div align=\"left\">\n",
    "<table style=\"width:25%\">\n",
    " <b>A few common authors</b>\n",
    "* Ken Thompson\n",
    "* Lee E. McMahon \n",
    "* Richard M. Stallman\n",
    "* Linus Torvalds\n",
    "     \n",
    "\n",
    "Are you really going to write better, more robust, faster code than these people??\n",
    "\n",
    "<img width='700' src=pics/c_prog_comic_foxtrot.jpg /img>"
   ]
  },
  {
   "cell_type": "markdown",
   "metadata": {
    "slideshow": {
     "slide_type": "slide"
    }
   },
   "source": [
    "<b>What Is The Command Line Good For ?</b>\n",
    "\n",
    "* Small data sets\n",
    "* R&D code for Map Reduce\n",
    "\n"
   ]
  },
  {
   "cell_type": "markdown",
   "metadata": {
    "slideshow": {
     "slide_type": "slide"
    }
   },
   "source": [
    "#Imaginary Use Case: File Inventory\n",
    "\n",
    "For now, imagine we have a data file in CSV format with inventory information about\n",
    "a hard-drive.\n",
    "\n",
    "## Basic Inventory Consists Of:\n",
    "* number of files\n",
    "* size of volume\n",
    "* number of fiels by file-extension\n",
    "* lines of code in the files"
   ]
  },
  {
   "cell_type": "code",
   "execution_count": null,
   "metadata": {
    "collapsed": true,
    "slideshow": {
     "slide_type": "subslide"
    }
   },
   "outputs": [],
   "source": [
    "#!/bin/bash\n",
    "\n",
    "function count_lines\n",
    "{\n",
    "    input=$1\n",
    "    echo $(cat $input | wc -l)\n",
    "}\n",
    "\n",
    "function check_for_ascii\n",
    "{\n",
    "    input=$1\n",
    "    bool=$(file $input | grep -ic \"ascii\")\n",
    "    if [[ $bool -gt 0 ]];then\n",
    "        echo 1\n",
    "    else\n",
    "        echo 0\n",
    "    fi\n",
    "}\n",
    "\n",
    "function get_extension\n",
    "{\n",
    "    input=\"$1\"\n",
    "    base=$(basename \"$input\")\n",
    "    test_=$(echo \"$base\" | grep -c \"\\.\")\n",
    "\n",
    "    if [ $test_ -eq 0 ];then\n",
    "        echo \"NONE\"\n",
    "    else\n",
    "        ext=$(echo \"$base\" | rev | cut -d. -f 1 | rev)\n",
    "    fi\n",
    "\n",
    "    echo ${ext}\n",
    "}\n",
    "\n",
    "#### calls here ###\n",
    "input=$1\n",
    "\n",
    "count=$(count_lines $input)\n",
    "ascii_bool=$(check_for_ascii $input)\n",
    "ext=$(get_extension $input)\n",
    "\n",
    "if [ $ascii_bool == 1 ];then\n",
    "    printf \"\\\"${input}\\\",\\\"${count}\\\",\\\"${ext}\\\"\\n\"\n",
    "else\n",
    "    printf \"\\\"{$input}\\\",\\\"0\\\",\\\"${ext}\\\"\\n\"\n",
    "fi"
   ]
  },
  {
   "cell_type": "code",
   "execution_count": 11,
   "metadata": {
    "collapsed": false,
    "slideshow": {
     "slide_type": "subslide"
    }
   },
   "outputs": [
    {
     "name": "stdout",
     "output_type": "stream",
     "text": []
    }
   ],
   "source": [
    "root_dir=\"/home/daniel/git/Python2.7/DataScience/notebooks/orbital\"\n",
    "export PATH=$PWD:$PATH"
   ]
  },
  {
   "cell_type": "code",
   "execution_count": 2,
   "metadata": {
    "collapsed": false,
    "slideshow": {
     "slide_type": "slide"
    }
   },
   "outputs": [
    {
     "name": "stdout",
     "output_type": "stream",
     "text": [
      "418M\ttotal\r\n"
     ]
    }
   ],
   "source": [
    "du -h -c linux-2.6.32.67 | tail -n 1"
   ]
  },
  {
   "cell_type": "code",
   "execution_count": 10,
   "metadata": {
    "collapsed": false,
    "slideshow": {
     "slide_type": "fragment"
    }
   },
   "outputs": [
    {
     "name": "stdout",
     "output_type": "stream",
     "text": []
    }
   ],
   "source": [
    "#make a header function for inventory csv file\n",
    "function make_header() {\n",
    "printf \"\\\"path\\\",\\\"nlines\\\",\\\"ext\\\"\\n\"\n",
    "}"
   ]
  },
  {
   "cell_type": "code",
   "execution_count": 22,
   "metadata": {
    "collapsed": false,
    "slideshow": {
     "slide_type": "fragment"
    }
   },
   "outputs": [
    {
     "name": "stdout",
     "output_type": "stream",
     "text": [
      "\r\n",
      "real\t1m21.277s\r\n",
      "user\t4m25.776s\r\n",
      "sys\t6m2.499s\r\n"
     ]
    }
   ],
   "source": [
    "make_header > $root_dir/linux_inventory_local_path.csv\n",
    "# run inventory program on files \n",
    "# use xargs multi process argument\n",
    "time find $root_dir/linux-2.6.32.67 -type f | xargs -n 1 -P 0 $root_dir/make_inventory.sh >> $root_dir/linux_inventory_local_path.csv"
   ]
  },
  {
   "cell_type": "code",
   "execution_count": 23,
   "metadata": {
    "collapsed": false,
    "slideshow": {
     "slide_type": "fragment"
    }
   },
   "outputs": [
    {
     "name": "stdout",
     "output_type": "stream",
     "text": [
      "30,486\r\n"
     ]
    }
   ],
   "source": [
    "cat $root_dir/linux_inventory_local_path.csv | wc -l | thou_comma.sh"
   ]
  },
  {
   "cell_type": "code",
   "execution_count": 24,
   "metadata": {
    "collapsed": false,
    "slideshow": {
     "slide_type": "fragment"
    }
   },
   "outputs": [
    {
     "name": "stdout",
     "output_type": "stream",
     "text": [
      "\"path\"                                                          \"nlines\"  \"ext\"\r\n",
      "notebooks/orbital/linux-2.6.32.67/net/decnet/dn_dev.c\"          \"0\"       \"c\"\r\n",
      "notebooks/orbital/linux-2.6.32.67/net/sunrpc/Makefile\"          \"18\"      \"NONE\"\r\n",
      "notebooks/orbital/linux-2.6.32.67/net/bluetooth/cmtp/Kconfig\"   \"11\"      \"NONE\"\r\n",
      "notebooks/orbital/linux-2.6.32.67/net/bluetooth/bnep/Makefile\"  \"7\"       \"NONE\"\r\n"
     ]
    }
   ],
   "source": [
    "head -n 5 \"${root_dir}/linux_inventory_local_path.csv\" | cut -d/ -f 7- | column -t -s,"
   ]
  },
  {
   "cell_type": "markdown",
   "metadata": {
    "slideshow": {
     "slide_type": "fragment"
    }
   },
   "source": [
    "What if we want to change the root path in the inventory files ?"
   ]
  },
  {
   "cell_type": "code",
   "execution_count": 14,
   "metadata": {
    "collapsed": false,
    "slideshow": {
     "slide_type": "slide"
    }
   },
   "outputs": [
    {
     "name": "stdout",
     "output_type": "stream",
     "text": [
      "\"/home/daniel/git/Python2.7/DataScience/notebooks/orbital/linux-2.6.32.67/net/wireless/ibss.c\",\"509\",\"c\"\r\n"
     ]
    }
   ],
   "source": [
    "head -n 1 $root_dir/linux_inventory_local_path.csv"
   ]
  },
  {
   "cell_type": "code",
   "execution_count": 3,
   "metadata": {
    "collapsed": false,
    "slideshow": {
     "slide_type": "fragment"
    }
   },
   "outputs": [
    {
     "name": "stdout",
     "output_type": "stream",
     "text": [
      "linux-2.6.32.67/net/wireless/ibss.c\r\n"
     ]
    }
   ],
   "source": [
    "head -n 1 $root_dir/linux_inventory_local_path.csv | cut -d, -f 1 | sed 's/\\\"//g' | cut -d/ -f 9-"
   ]
  },
  {
   "cell_type": "code",
   "execution_count": 5,
   "metadata": {
    "collapsed": false,
    "slideshow": {
     "slide_type": "fragment"
    }
   },
   "outputs": [
    {
     "name": "stdout",
     "output_type": "stream",
     "text": [
      "/work/sandbox/orbital_slides/linux-2.6.32.67/net/wireless/ibss.c\",\"509\",\"c\"\r\n"
     ]
    }
   ],
   "source": [
    "new_path=\"/work/sandbox/orbital_slides/\"\n",
    "head -n 1 $root_dir/linux_inventory_local_path.csv | sed 's/\\\"//1' |  cut -d/ -f 9- | sed \"s#^#$new_path#g\"   # need to change the sed sep to '#' bc path has '/'"
   ]
  },
  {
   "cell_type": "code",
   "execution_count": 7,
   "metadata": {
    "collapsed": false,
    "slideshow": {
     "slide_type": "fragment"
    }
   },
   "outputs": [
    {
     "name": "stdout",
     "output_type": "stream",
     "text": [
      "\"/work/sandbox/orbital_slides/linux-2.6.32.67/net/wireless/ibss.c\",\"509\",\"c\"\r\n"
     ]
    }
   ],
   "source": [
    "head -n 1 $root_dir/linux_inventory_local_path.csv | sed 's/\\\"//1' |  cut -d/ -f 9- | sed \"s#^#$new_path#g\" | sed 's/^/\\\"/1' # need to change the sed sep to '#' bc path has '/'sed 's/^/\\\"/1'"
   ]
  },
  {
   "cell_type": "markdown",
   "metadata": {
    "slideshow": {
     "slide_type": "slide"
    }
   },
   "source": [
    "## What Types Of File Are Present ?   Sort by extension"
   ]
  },
  {
   "cell_type": "code",
   "execution_count": 26,
   "metadata": {
    "collapsed": false,
    "slideshow": {
     "slide_type": "fragment"
    }
   },
   "outputs": [
    {
     "name": "stdout",
     "output_type": "stream",
     "text": [
      "    857 \"txt\"\r\n",
      "   1080 \"S\"\r\n",
      "   2818 \"NONE\"\r\n",
      "  11638 \"h\"\r\n",
      "  13154 \"c\"\r\n"
     ]
    }
   ],
   "source": [
    "cat $root_dir/linux_inventory_local_path.csv | cut -d, -f 3 | sort | uniq -ic | sort -n | tail -n 5"
   ]
  },
  {
   "cell_type": "markdown",
   "metadata": {
    "slideshow": {
     "slide_type": "slide"
    }
   },
   "source": [
    "#GNU Parallel\n",
    "\n",
    "<img width='300'  src=pics/parallel_orig.png /img>\n",
    "\n",
    "##Run shell scripts and/or commands ( which are really C programs ) in parallel from a terminal.\n",
    "\n",
    "*Documentation*\n",
    "<url>https://www.gnu.org/software/parallel/parallel_tutorial.html#The-7-predefined-replacement-strings</url>\n",
    "\n",
    "Good examples of using advanced features of *parallel*\n",
    "<url>https://www.biostars.org/p/63816/</url>"
   ]
  },
  {
   "cell_type": "markdown",
   "metadata": {
    "slideshow": {
     "slide_type": "notes"
    }
   },
   "source": [
    "I used to work with brain imaging, and a common task is to extract the brain from the skull with Brain Extraction Tool (BET).\n",
    "BET is a complex monster that uses Naive Bayes and a brain atlas. It runs fairly quick for one brain, but here we need to run it on 210 seperate images.\n",
    "\n",
    "BACKGROUND:\n",
    "In order to register the anatomic image (T1 weighted high res) to the lower res BOLD image, the mean of the time series is taken.\n",
    "But, the single volume frames should first be extracted from the skull, because the skull has few features to match.\n",
    "\n",
    "* extract brain from every (210) BOLD volume\n",
    "* Motion Correct, (register the brain volumes to each other)\n",
    "* Make a mean image for registration ( T1 is registered to the BOLD mean and resampled)\n",
    "\n",
    "Running BET on 210 images in serial takes a long time and is annoying when you are working fast."
   ]
  },
  {
   "cell_type": "markdown",
   "metadata": {
    "slideshow": {
     "slide_type": "slide"
    }
   },
   "source": [
    "## Time Command\n",
    "<url>http://stackoverflow.com/questions/556405/what-do-real-user-and-sys-mean-in-the-output-of-time1</url>\n",
    "\n",
    "* Real is wall clock time - time from start to finish of the call. This is all elapsed time including time slices used by other processes and time the process spends blocked.\n",
    "\n",
    "* User is the amount of CPU time spent in user-mode code (outside the kernel) within the process. \n",
    "\n",
    "* Sys is the amount of CPU time spent in the kernel within the process. "
   ]
  },
  {
   "cell_type": "code",
   "execution_count": 8,
   "metadata": {
    "collapsed": false,
    "slideshow": {
     "slide_type": "slide"
    }
   },
   "outputs": [
    {
     "name": "stdout",
     "output_type": "stream",
     "text": [
      "\r\n",
      "real\t1m15.517s\r\n",
      "user\t8m57.207s\r\n",
      "sys\t0m10.395s\r\n"
     ]
    }
   ],
   "source": [
    "in_path=\"/home/daniel/git/Python2.7/DataScience/notebooks/orbital/bold_split/original_split\"\n",
    "out_path=\"/home/daniel/git/Python2.7/DataScience/notebooks/orbital/bold_split/bet\"\n",
    "\n",
    "time parallel --jobs 8 \"bet {} $out_path/{#}vol_bet\" :::  $in_path/vol*.nii.gz"
   ]
  },
  {
   "cell_type": "code",
   "execution_count": 10,
   "metadata": {
    "collapsed": false,
    "slideshow": {
     "slide_type": "fragment"
    }
   },
   "outputs": [
    {
     "name": "stdout",
     "output_type": "stream",
     "text": [
      "100vol_bet.nii.gz\r\n",
      "101vol_bet.nii.gz\r\n",
      "102vol_bet.nii.gz\r\n"
     ]
    }
   ],
   "source": [
    "ls $out_path | head -n 3"
   ]
  },
  {
   "cell_type": "markdown",
   "metadata": {
    "slideshow": {
     "slide_type": "fragment"
    }
   },
   "source": [
    "## Blood oxygenation level dependent (BOLD) image: \n",
    "### With Skull and Scalp (Before) and After Extraction AKA Skull Stripping (After)\n",
    "<img src=pics/bf_and_after_bold_bet_masked.png>"
   ]
  },
  {
   "cell_type": "markdown",
   "metadata": {
    "slideshow": {
     "slide_type": "slide"
    }
   },
   "source": [
    "## Run Inventory With Parallel"
   ]
  },
  {
   "cell_type": "code",
   "execution_count": 4,
   "metadata": {
    "collapsed": false,
    "slideshow": {
     "slide_type": "fragment"
    }
   },
   "outputs": [
    {
     "name": "stdout",
     "output_type": "stream",
     "text": [
      "\r\n",
      "real\t1m46.358s\r\n",
      "user\t4m39.934s\r\n",
      "sys\t6m7.481s\r\n"
     ]
    }
   ],
   "source": [
    "time find $root_dir/linux-2.6.32.67 -type f | parallel -n 1 --jobs 8 'make_inventory.sh' >> /dev/null"
   ]
  },
  {
   "cell_type": "markdown",
   "metadata": {
    "slideshow": {
     "slide_type": "slide"
    }
   },
   "source": [
    "# Best Use Case: File System Manipulation And Quick Regex"
   ]
  },
  {
   "cell_type": "code",
   "execution_count": null,
   "metadata": {
    "collapsed": true,
    "slideshow": {
     "slide_type": "fragment"
    }
   },
   "outputs": [],
   "source": [
    "# become root and run \n",
    "# free && sync && echo 3 > /proc/sys/vm/drop_caches && free\n",
    "time find \"${root_dir}/linux-2.6.32.67\" -maxdepth 2 -mindepth 1 -type f -name \"*.c\" |  parallel --jobs 8 -n 1 'pcregrep -no \"(?sm)if\\s*\\(.*?\\)\" /dev/null' | sed 's/\\s//g' > /dev/null"
   ]
  },
  {
   "cell_type": "markdown",
   "metadata": {
    "slideshow": {
     "slide_type": "slide"
    }
   },
   "source": [
    "#FIFO For Moving Data\n",
    "\n",
    "* mkfifo \\$root_dir/pipe\n",
    "* cat > \\$root_dir/pipe &\n",
    "    * get pid\n",
    "     * echo $!\n",
    "* run inventory with output to pipe\n",
    "* load inventory output into DB via pipe\n",
    "* kill cat with pid"
   ]
  },
  {
   "cell_type": "code",
   "execution_count": 21,
   "metadata": {
    "collapsed": false,
    "slideshow": {
     "slide_type": "slide"
    }
   },
   "outputs": [
    {
     "name": "stdout",
     "output_type": "stream",
     "text": [
      "[2] 15708\r\n"
     ]
    }
   ],
   "source": [
    "if [ -p $root_dir/pipe ];then\n",
    "    rm $root_dir/pipe\n",
    "fi\n",
    "   \n",
    "if [ -f $root_dir/inven.db ];then\n",
    "    rm $root_dir/inven.db\n",
    "fi\n",
    "    \n",
    "mkfifo $root_dir/pipe\n",
    "#$cat > $root_dir/pipe &\n",
    "make_header > $root_dir/pipe &\n",
    "# using maxdepth 2 for shorter experiment\n",
    "find $root_dir/linux-2.6.32.67 -maxdepth 3 -type f  | parallel --jobs 2 'make_inventory.sh' >> $root_dir/pipe &"
   ]
  },
  {
   "cell_type": "code",
   "execution_count": 22,
   "metadata": {
    "collapsed": false,
    "slideshow": {
     "slide_type": "fragment"
    }
   },
   "outputs": [
    {
     "name": "stdout",
     "output_type": "stream",
     "text": [
      "[1]-  Done                    make_header > $root_dir/pipe\r\n",
      "[2]+  Done                    find $root_dir/linux-2.6.32.67 -maxdepth 3 -type f | parallel --jobs 2 'make_inventory.sh' >> $root_dir/pipe\r\n"
     ]
    }
   ],
   "source": [
    "csvsql --db sqlite:///inven.db --insert $root_dir/pipe --table inven "
   ]
  },
  {
   "cell_type": "code",
   "execution_count": 24,
   "metadata": {
    "collapsed": false,
    "slideshow": {
     "slide_type": "fragment"
    }
   },
   "outputs": [
    {
     "name": "stdout",
     "output_type": "stream",
     "text": [
      "ext,count(ext)\r\n",
      "c,4293\r\n",
      "h,2541\r\n",
      "txt,705\r\n",
      "ihex,111\r\n",
      "gitignore,33\r\n"
     ]
    }
   ],
   "source": [
    "pkill cat\n",
    "#sql2csv --db sqlite:///inven.db --query \"select * from inven;\"\n",
    "sql2csv --db sqlite:///inven.db --query \"select ext, count(ext) from inven group by ext order by count(ext) desc limit 5;\""
   ]
  },
  {
   "cell_type": "markdown",
   "metadata": {
    "collapsed": true,
    "slideshow": {
     "slide_type": "slide"
    }
   },
   "source": [
    "# Implement Shell Commands In Map Reduce, Via MRJob\n",
    "\n",
    "<img width='500' src=pics/map_reduce.png /img>"
   ]
  },
  {
   "cell_type": "markdown",
   "metadata": {
    "slideshow": {
     "slide_type": "notes"
    }
   },
   "source": [
    "* We've already invested time working with the shell commands, why not use them in a Map Reduce process ?\n",
    "* Assuming that the inventory is something huge like the Facebook source.\n",
    "\n",
    "* we could use a sample of the source and extrapolate\n",
    "* it's still good to convince pple that of the total count of a simple metric"
   ]
  },
  {
   "cell_type": "code",
   "execution_count": null,
   "metadata": {
    "collapsed": true,
    "slideshow": {
     "slide_type": "fragment"
    }
   },
   "outputs": [],
   "source": [
    "cat linux_inventory_local_path.csv | cut -d, -f 1 | xargs -n 1  grep -i \"copyright\" | sed 's/\\W//g' | sed 's/[0-9]//g' | sort | uniq -c | sort -n"
   ]
  },
  {
   "cell_type": "raw",
   "metadata": {
    "collapsed": true,
    "slideshow": {
     "slide_type": "fragment"
    }
   },
   "source": [
    "from mrjob.job import MRJob\n",
    "from mrjob.util import bash_wrap\n",
    "\n",
    "class ShellCmds(MRJob):\n",
    "    def mapper_cmd(self):\n",
    "        return bash_wrap('cut -d, -f 1 | xargs -n 1 grep -i \"copyright\" | sed \"s/\\W//g\" | sed \"s/[0-9]//g\"')\n",
    "\n",
    "    def reducer_cmd(self):\n",
    "       return bash_wrap('sort | uniq -c | sort -n')\n",
    "\n",
    "if __name__ == '__main__':\n",
    "    ShellCmds.run()"
   ]
  },
  {
   "cell_type": "code",
   "execution_count": 8,
   "metadata": {
    "collapsed": false,
    "slideshow": {
     "slide_type": "fragment"
    }
   },
   "outputs": [
    {
     "name": "stdout",
     "output_type": "stream",
     "text": [
      "runners:\r\n",
      "  emr:\r\n",
      "    aws_access_key_id: ******\r\n",
      "    aws_secret_access_key: ******\r\n",
      "    ec2_key_pair: Example\r\n",
      "    ec2_key_pair_file: ~/.ssh/Example.pem\r\n",
      "    python_bin: python2.7\r\n",
      "    strict_protocols: true\r\n",
      "    bootstrap:\r\n",
      "    - sudo python2.7 -m pip install mrjob\r\n",
      "\r\n",
      "  hadoop:\r\n",
      "    strict_protocols: true\r\n",
      "  inline:\r\n",
      "    strict_protocols: true\r\n",
      "  local:\r\n",
      "    strict_protocols: true\r\n"
     ]
    }
   ],
   "source": [
    "cat ~/.mrjob.conf | sed  's/\\(aws_.*:\\s*\\)\\(.*$\\)/\\1******/g'"
   ]
  },
  {
   "cell_type": "markdown",
   "metadata": {
    "slideshow": {
     "slide_type": "slide"
    }
   },
   "source": [
    "#Helpful Custom Shell Scripts"
   ]
  },
  {
   "cell_type": "code",
   "execution_count": 28,
   "metadata": {
    "collapsed": false,
    "slideshow": {
     "slide_type": "fragment"
    }
   },
   "outputs": [
    {
     "name": "stdout",
     "output_type": "stream",
     "text": [
      "/bin\r\n",
      "/home/daniel/anaconda/bin\r\n",
      "/home/daniel/anaconda/envs/py27/bin\r\n",
      "/home/daniel/bin\r\n",
      "/home/daniel/FSL\r\n",
      "/home/daniel/spark-1.5.2-bin-hadoop2.6/bin\r\n",
      "/home/daniel/spark-1.5.2-bin-hadoop2.6/sbin\r\n",
      "/opt/afni_bin/linux_xorg7_64\r\n",
      "/sbin\r\n",
      "/usr/bin\r\n",
      "/usr/games\r\n",
      "/usr/lib/cmtk/bin/\r\n",
      "/usr/lib/fsl/5.0\r\n",
      "/usr/local/bin\r\n",
      "/usr/local/sbin\r\n",
      "/usr/sbin\r\n"
     ]
    }
   ],
   "source": [
    "function pp\n",
    "# script to pretty print variables in a easy to read list \n",
    "\n",
    "{\n",
    "    var=$1\n",
    "    echo $var | sed 's/:/\\n/g' | sort | uniq\n",
    "}\n",
    "\n",
    "pp $PATH"
   ]
  },
  {
   "cell_type": "code",
   "execution_count": 25,
   "metadata": {
    "collapsed": false,
    "slideshow": {
     "slide_type": "fragment"
    }
   },
   "outputs": [
    {
     "name": "stdout",
     "output_type": "stream",
     "text": [
      "1,234\r\n"
     ]
    }
   ],
   "source": [
    "function thou_comma(){\n",
    "# for some reason you need to use diff printf\n",
    "alias printf=/usr/bin/printf\n",
    "\n",
    "input=$1\n",
    "read input\n",
    "printf \"%'d\\n\"  $input\n",
    "}\n",
    "\n",
    "echo \"1234\" | thou_comma.sh"
   ]
  },
  {
   "cell_type": "markdown",
   "metadata": {
    "slideshow": {
     "slide_type": "slide"
    }
   },
   "source": [
    "# Links\n",
    "<img width='500' src=pics/chain.png /img>\n",
    "\n",
    "* Command line tricks http://www.commandlinefu.com/commands/browse\n",
    "* fifo for DB http://stackoverflow.com/questions/30688178/maintaining-a-fifo-readable-across-different-executions\n",
    "* sed grouped example http://unix.stackexchange.com/questions/24140/return-only-the-portion-of-a-line-after-a-matching-pattern\n",
    "* FIFO http://stackoverflow.com/questions/30688178/maintaining-a-fifo-readable-across-different-executions \n",
    "* CSVKIT http://csvkit.readthedocs.org/en/0.9.1/tutorial.html"
   ]
  },
  {
   "cell_type": "code",
   "execution_count": null,
   "metadata": {
    "collapsed": true
   },
   "outputs": [],
   "source": []
  }
 ],
 "metadata": {
  "celltoolbar": "Slideshow",
  "kernelspec": {
   "display_name": "Bash",
   "language": "bash",
   "name": "bash"
  },
  "language_info": {
   "codemirror_mode": "shell",
   "file_extension": ".sh",
   "mimetype": "text/x-sh",
   "name": "bash"
  }
 },
 "nbformat": 4,
 "nbformat_minor": 0
}

{
 "cells": [
  {
   "cell_type": "markdown",
   "metadata": {
    "slideshow": {
     "slide_type": "slide"
    }
   },
   "source": [
    "# Command Line Tools for Data Manipulation\n",
    "\n",
    "\n",
    "<img src=pics/command_line_fu.png /img>\n",
    "\n",
    "\n"
   ]
  },
  {
   "cell_type": "markdown",
   "metadata": {
    "slideshow": {
     "slide_type": "slide"
    }
   },
   "source": [
    "<center><b> Leveraging Linux Shell Programs for Data Science Tasks</b></center>\n",
    "\n",
    "* Extraction in this field can be difficult. We are not just pulling data from a data base...\n",
    "\n",
    "* Skipping Extraction for now, let's focus on Transformation. \n",
    "\n",
    "* Storage we will touch on for small prototyping project only.\n",
    "\n",
    "<img src=pics/ETL_diagram.png /img>"
   ]
  },
  {
   "cell_type": "markdown",
   "metadata": {
    "slideshow": {
     "slide_type": "slide"
    }
   },
   "source": [
    "# Shell programs are written in C, are close to the Kernel and written in C.\n",
    "<div align=\"left\">\n",
    "<table style=\"width:25%\">\n",
    " <b>Authors</b>\n",
    "* Ken Thompson\n",
    "* Lee E. McMahon \n",
    "* Richard M. Stallman\n",
    "     \n",
    "\n",
    "Are you really going to write better, more robust, faster code than these people??\n",
    "\n",
    "\n"
   ]
  },
  {
   "cell_type": "markdown",
   "metadata": {
    "slideshow": {
     "slide_type": "slide"
    }
   },
   "source": [
    "<b>What Is The Command Line Good For ?</b>\n",
    "\n",
    "* Small data sets\n",
    "* Rehearsal for Map Reduce\n",
    "\n"
   ]
  },
  {
   "cell_type": "markdown",
   "metadata": {
    "slideshow": {
     "slide_type": "slide"
    }
   },
   "source": [
    "#Imaginary use case: File Inventory\n",
    "\n",
    "For now, imagine we have a data file in CSV format with inventory information about\n",
    "a hard-drive.\n"
   ]
  },
  {
   "cell_type": "code",
   "execution_count": null,
   "metadata": {
    "collapsed": true,
    "slideshow": {
     "slide_type": "subslide"
    }
   },
   "outputs": [],
   "source": [
    "#!/bin/bash\n",
    "\n",
    "function count_lines\n",
    "{\n",
    "    input=$1\n",
    "    echo $(cat $input | wc -l)\n",
    "}\n",
    "\n",
    "function check_for_ascii\n",
    "{\n",
    "    input=$1\n",
    "    bool=$(file $input | grep -ic \"ascii\")\n",
    "    if [[ $bool -gt 0 ]];then\n",
    "        echo 1\n",
    "    else\n",
    "        echo 0\n",
    "    fi\n",
    "}\n",
    "\n",
    "function get_extension\n",
    "{\n",
    "    input=\"$1\"\n",
    "    base=$(basename \"$input\")\n",
    "    test_=$(echo \"$base\" | grep -c \"\\.\")\n",
    "\n",
    "    if [ $test_ -eq 0 ];then\n",
    "        echo \"NONE\"\n",
    "    else\n",
    "        ext=$(echo \"$base\" | rev | cut -d. -f 1 | rev)\n",
    "    fi\n",
    "\n",
    "    echo ${ext}\n",
    "}\n",
    "\n",
    "#### calls here ###\n",
    "input=$1\n",
    "\n",
    "count=$(count_lines $input)\n",
    "ascii_bool=$(check_for_ascii $input)\n",
    "ext=$(get_extension $input)\n",
    "\n",
    "if [ $ascii_bool == 1 ];then\n",
    "    printf \"\\\"${input}\\\",\\\"${count}\\\",\\\"${ext}\\\"\\n\"\n",
    "else\n",
    "    printf \"\\\"{$input}\\\",\\\"0\\\",\\\"${ext}\\\"\\n\"\n",
    "fi"
   ]
  },
  {
   "cell_type": "code",
   "execution_count": null,
   "metadata": {
    "collapsed": true,
    "slideshow": {
     "slide_type": "subslide"
    }
   },
   "outputs": [],
   "source": [
    "#make a header\n",
    "printf \"\\\"path\\\",\\\"nlines\\\",\\\"ext\\\"\\n\" > $root/linux_inventory.csv\n",
    "# run inventory program on files \n",
    "find $root/linux-2.6.32.67 -type f | xargs -n 1 $root/make_inventory.sh >> $root/linux_inventory.csv"
   ]
  },
  {
   "cell_type": "code",
   "execution_count": 29,
   "metadata": {
    "collapsed": false,
    "slideshow": {
     "slide_type": "slide"
    }
   },
   "outputs": [
    {
     "name": "stdout",
     "output_type": "stream",
     "text": []
    }
   ],
   "source": [
    "root_dir=\"/home/daniel/git/Python2.7/DataScience/notebooks/command_line_pres_data\""
   ]
  },
  {
   "cell_type": "code",
   "execution_count": 31,
   "metadata": {
    "collapsed": false,
    "slideshow": {
     "slide_type": "slide"
    }
   },
   "outputs": [
    {
     "name": "stdout",
     "output_type": "stream",
     "text": [
      "30486\r\n"
     ]
    }
   ],
   "source": [
    "cat $root_dir/linux_inventory.csv | wc -l"
   ]
  },
  {
   "cell_type": "code",
   "execution_count": 25,
   "metadata": {
    "collapsed": false,
    "slideshow": {
     "slide_type": "slide"
    }
   },
   "outputs": [
    {
     "name": "stdout",
     "output_type": "stream",
     "text": [
      "\"path\"                                                          \"nlines\"  \"ext\"\r\n",
      "command_line_pres_data/linux-2.6.32.67/net/wireless/scan.c\"     \"1027\"    \"c\"\r\n",
      "command_line_pres_data/linux-2.6.32.67/net/wireless/core.h\"     \"401\"     \"h\"\r\n",
      "command_line_pres_data/linux-2.6.32.67/net/wireless/ibss.c\"     \"509\"     \"c\"\r\n",
      "command_line_pres_data/linux-2.6.32.67/net/wireless/nl80211.c\"  \"4896\"    \"c\"\r\n"
     ]
    }
   ],
   "source": [
    "head -n 5 \"${root_dir}/linux_inventory.csv\" | cut -d/ -f 7- | column -t -s,"
   ]
  },
  {
   "cell_type": "markdown",
   "metadata": {
    "slideshow": {
     "slide_type": "slide"
    }
   },
   "source": [
    "## What Types Of File Are Present ? : Sort by extension"
   ]
  },
  {
   "cell_type": "code",
   "execution_count": 26,
   "metadata": {
    "collapsed": false,
    "slideshow": {
     "slide_type": "slide"
    }
   },
   "outputs": [
    {
     "name": "stdout",
     "output_type": "stream",
     "text": [
      "    857 \"txt\"\r\n",
      "   1080 \"S\"\r\n",
      "   2818 \"NONE\"\r\n",
      "  11638 \"h\"\r\n",
      "  13154 \"c\"\r\n"
     ]
    }
   ],
   "source": [
    "cat $root_dir/linux_inventory.csv | cut -d, -f 3 | sort | uniq -ic | sort -n | tail -n 5"
   ]
  },
  {
   "cell_type": "markdown",
   "metadata": {
    "slideshow": {
     "slide_type": "slide"
    }
   },
   "source": [
    "## Map Reduce Via MRJob"
   ]
  },
  {
   "cell_type": "markdown",
   "metadata": {
    "slideshow": {
     "slide_type": "fragment"
    }
   },
   "source": [
    "Would be great if those '}' and '{' inner braces weren't there.\n",
    "\n",
    "We could run 'sed' via the terminal for small data but for really large data, we need\n",
    "Map Reduce."
   ]
  },
  {
   "cell_type": "code",
   "execution_count": 38,
   "metadata": {
    "collapsed": false,
    "slideshow": {
     "slide_type": "fragment"
    }
   },
   "outputs": [
    {
     "name": "stdout",
     "output_type": "stream",
     "text": [
      "{\"ip\": \"121.197.179.5\", \"ua\": \"bt-ua-1\", \"ts\": 1443552358} {\"eventName\": \"data_test\", \"action\": \"bar\", \"pid\": 5193, \"geo\": \"NL\", \"v\": 9174834}\r\n"
     ]
    }
   ],
   "source": [
    "head -n 1 $root_dir/map_reduce_sed_example.txt"
   ]
  },
  {
   "cell_type": "code",
   "execution_count": 39,
   "metadata": {
    "collapsed": false,
    "slideshow": {
     "slide_type": "fragment"
    }
   },
   "outputs": [
    {
     "name": "stdout",
     "output_type": "stream",
     "text": [
      "{\"ip\": \"121.197.179.5\", \"ua\": \"bt-ua-1\", \"ts\": 1443552358, \"eventName\": \"data_test\", \"action\": \"bar\", \"pid\": 5193, \"geo\": \"NL\", \"v\": 9174834}\r\n"
     ]
    }
   ],
   "source": [
    "head -n 1 $root_dir/map_reduce_sed_example.txt | sed 's/}/,/1' | sed 's/{//2'"
   ]
  },
  {
   "cell_type": "code",
   "execution_count": null,
   "metadata": {
    "collapsed": true,
    "slideshow": {
     "slide_type": "subslide"
    }
   },
   "outputs": [],
   "source": [
    "from mrjob.util import bash_wrap\n",
    "from mrjob.job import MRJob\n",
    "from mrjob.step import MRStep\n",
    "import json\n",
    "\n",
    "class Process(MRJob):\n",
    "\n",
    "    def steps(self):\n",
    "        return [\n",
    "                MRStep(mapper = bash_wrap(\"sed 's/}/,/1' | sed 's/{//2'\")),\n",
    "                MRStep(mapper = self.mapper,\n",
    "                       reducer = self.reducer)\n",
    "               ]\n",
    "\n",
    "    def mapper(self, _, line):\n",
    "        dict_ = json.loads(line)\n",
    "        if self.key == \"eventName\":\n",
    "            string = \"%s %s\" %(dict_[self.key], dict_['action'])\n",
    "            yield string, 1\n",
    "        else:\n",
    "            yield dict_[self.key], 1\n",
    "\n",
    "    def reducer(self, key, value):\n",
    "        yield key, sum(value)\n",
    "\n",
    "\n",
    "if __name__ == \"__main__\":\n",
    "    Process().run()"
   ]
  },
  {
   "cell_type": "code",
   "execution_count": null,
   "metadata": {
    "collapsed": true
   },
   "outputs": [],
   "source": []
  }
 ],
 "metadata": {
  "celltoolbar": "Slideshow",
  "kernelspec": {
   "display_name": "Bash",
   "language": "bash",
   "name": "bash"
  },
  "language_info": {
   "codemirror_mode": "shell",
   "file_extension": ".sh",
   "mimetype": "text/x-sh",
   "name": "bash"
  }
 },
 "nbformat": 4,
 "nbformat_minor": 0
}

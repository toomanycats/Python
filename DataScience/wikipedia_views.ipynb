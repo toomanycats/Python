{
 "cells": [
  {
   "cell_type": "markdown",
   "metadata": {
    "slideshow": {
     "slide_type": "slide"
    }
   },
   "source": [
    "## Wikidpedia page views for the cancer treatmeant drug, Tarceva.\n",
    "### by Daniel for the Meetup group, Scientists New to Data Science\n",
    "\n",
    "This notebook takes a look at Wikipedia page views. Wikipedia might be thought of as a proxy for other other media channel interest. For instance, national interest on the cancer drug Tarceva. It's difficult to get a long history of content views from Twitter, Youtube, Facebook, etc...but Wikipedia offers a full 7 seven years of basic usage stats. In addition, the contributor's stats on edits is available. That also might yield some interesting results. \n",
    "\n",
    "#### For now, let's restrict ourselves to page views."
   ]
  },
  {
   "cell_type": "code",
   "execution_count": 222,
   "metadata": {
    "collapsed": false,
    "slideshow": {
     "slide_type": "subslide"
    }
   },
   "outputs": [],
   "source": [
    "%matplotlib inline\n",
    "# this sets up the default fig size\n",
    "from matplotlib import rcParams\n",
    "rcParams['figure.figsize'] = (20, 5)\n",
    "import urllib2\n",
    "import pandas as pd\n",
    "import numpy as np\n",
    "import scipy.signal\n",
    "import matplotlib.pyplot as plt\n",
    "import json\n",
    "from time import sleep\n",
    "\n",
    "class WikiViews(object):\n",
    "    def __init__(self, url, start_date, end_date):\n",
    "        self.url = url\n",
    "        self.url_base = \"http://stats.grok.se/json/en/%(date)s/%(url)s\" \n",
    "        self.date_range = pd.date_range(start=start_date, end=end_date, freq='m')\n",
    "\n",
    "    def loop_over_full_dates(self):\n",
    "        DF = pd.DataFrame()\n",
    "        \n",
    "        for date in self.date_range:\n",
    "            date_string = date.strftime(\"%Y%m\")\n",
    "            url = self.url_base %{'date':date_string,\n",
    "                                  'url':self.url\n",
    "                                  }\n",
    "           \n",
    "            try:\n",
    "                response = urllib2.urlopen(url)\n",
    "                out = response.read()\n",
    "            except urllib2.HTTPError:\n",
    "                print \"HTTP Error, trying again.\"\n",
    "                sleep(2)\n",
    "                \n",
    "                try:\n",
    "                    response = urllib2.urlopen(url) \n",
    "                    out = response.read()\n",
    "                    last_good_out = out\n",
    "                except urllib2.HTTPError: # connection times out sometimes\n",
    "                    continue              # skip this point on 2nd failure\n",
    "            \n",
    "            except Exception, err:\n",
    "                print err\n",
    "                continue\n",
    "                \n",
    "            out = json.loads(out) # first column happens to be a date string, which will become the index\n",
    "            df = pd.DataFrame(out) \n",
    "            \n",
    "            DF = DF.append(df)\n",
    "            DF = DF.reindex(fill_value=0) # make sure that all days are filled for later comparison\n",
    "            \n",
    "        return DF\n",
    "    \n",
    "    def plot_time_series(self, days_df):\n",
    "        '''Plot time series average per month and print labels '''\n",
    "        grp = days_df.groupby('month')\n",
    "        y = grp.sum()['daily_views']\n",
    "        \n",
    "        plt.plot(y)\n",
    "        plt.title(\"Daily Views Summed Over Months\")\n",
    "        plt.ylabel(\"Views per month\")\n",
    "        plt.xlabel(\"Date\")\n",
    "        plt.xlim(0, y.shape[0])\n",
    "        \n",
    "        interval = 2\n",
    "        labels = days_df.month.unique()\n",
    "        labels = labels[0::interval]\n",
    "        \n",
    "        n = np.arange(len(y))[0::interval]\n",
    "        plt.xticks(n, labels, rotation='vertical')      \n",
    "                    \n",
    "    def fft(self, data):\n",
    "        '''Plot FFT using Welch's method, daily resolution '''\n",
    "        plt.figure(figsize=(13, 7))\n",
    "        f, y = scipy.signal.welch(data, fs=1.0, nperseg=256, noverlap=128, nfft=512, scaling='spectrum', detrend=\"constant\")\n",
    "        \n",
    "        interval = 3 # days\n",
    "        periods = np.round(1/f[0::interval], 1)\n",
    "        # clean up frequency of 0 Hz\n",
    "        periods[0] = 0\n",
    "        \n",
    "        plt.xticks(f[0::interval], periods, rotation=\"vertical\")\n",
    "        \n",
    "        plt.plot(f, y)\n",
    "        plt.show()\n",
    "        \n",
    "        return f, y\n",
    "\n"
   ]
  },
  {
   "cell_type": "code",
   "execution_count": null,
   "metadata": {
    "collapsed": false,
    "slideshow": {
     "slide_type": "slide"
    }
   },
   "outputs": [],
   "source": [
    "wv_tar = WikiViews(\"Erlotinib\", '1/1/2008', '10/1/2015' )\n",
    "tar = wv_tar.loop_over_full_dates()"
   ]
  },
  {
   "cell_type": "code",
   "execution_count": 203,
   "metadata": {
    "collapsed": false
   },
   "outputs": [
    {
     "data": {
      "text/html": [
       "<div>\n",
       "<table border=\"1\" class=\"dataframe\">\n",
       "  <thead>\n",
       "    <tr style=\"text-align: right;\">\n",
       "      <th></th>\n",
       "      <th>daily_views</th>\n",
       "      <th>month</th>\n",
       "      <th>project</th>\n",
       "      <th>rank</th>\n",
       "      <th>title</th>\n",
       "    </tr>\n",
       "  </thead>\n",
       "  <tbody>\n",
       "    <tr>\n",
       "      <th>2008-01-01</th>\n",
       "      <td>47</td>\n",
       "      <td>200801</td>\n",
       "      <td>en</td>\n",
       "      <td>-1</td>\n",
       "      <td>Erlotinib</td>\n",
       "    </tr>\n",
       "    <tr>\n",
       "      <th>2008-01-02</th>\n",
       "      <td>133</td>\n",
       "      <td>200801</td>\n",
       "      <td>en</td>\n",
       "      <td>-1</td>\n",
       "      <td>Erlotinib</td>\n",
       "    </tr>\n",
       "    <tr>\n",
       "      <th>2008-01-03</th>\n",
       "      <td>118</td>\n",
       "      <td>200801</td>\n",
       "      <td>en</td>\n",
       "      <td>-1</td>\n",
       "      <td>Erlotinib</td>\n",
       "    </tr>\n",
       "    <tr>\n",
       "      <th>2008-01-04</th>\n",
       "      <td>108</td>\n",
       "      <td>200801</td>\n",
       "      <td>en</td>\n",
       "      <td>-1</td>\n",
       "      <td>Erlotinib</td>\n",
       "    </tr>\n",
       "    <tr>\n",
       "      <th>2008-01-05</th>\n",
       "      <td>72</td>\n",
       "      <td>200801</td>\n",
       "      <td>en</td>\n",
       "      <td>-1</td>\n",
       "      <td>Erlotinib</td>\n",
       "    </tr>\n",
       "  </tbody>\n",
       "</table>\n",
       "</div>"
      ],
      "text/plain": [
       "            daily_views   month project  rank      title\n",
       "2008-01-01           47  200801      en    -1  Erlotinib\n",
       "2008-01-02          133  200801      en    -1  Erlotinib\n",
       "2008-01-03          118  200801      en    -1  Erlotinib\n",
       "2008-01-04          108  200801      en    -1  Erlotinib\n",
       "2008-01-05           72  200801      en    -1  Erlotinib"
      ]
     },
     "execution_count": 203,
     "metadata": {},
     "output_type": "execute_result"
    }
   ],
   "source": [
    "tar.head()"
   ]
  },
  {
   "cell_type": "markdown",
   "metadata": {
    "slideshow": {
     "slide_type": "slide"
    }
   },
   "source": [
    "Let's take a look a the time series data averaged per month."
   ]
  },
  {
   "cell_type": "code",
   "execution_count": 219,
   "metadata": {
    "collapsed": false,
    "slideshow": {
     "slide_type": "subslide"
    }
   },
   "outputs": [
    {
     "data": {
      "image/png": "[encoded data removed]",
      "text/plain": [
       "<matplotlib.figure.Figure at 0x7f5860b1ef90>"
      ]
     },
     "metadata": {},
     "output_type": "display_data"
    }
   ],
   "source": [
    "wv_tar.plot_time_series(tar)"
   ]
  },
  {
   "cell_type": "markdown",
   "metadata": {},
   "source": [
    "## We want to explain this plot\n",
    "\n",
    "We'd like to be able to know what high level topics influence the interest in the drug Tarceva.\n",
    "We'll look for covariates and try to come up with some entry point ideas that we would present to a domain\n",
    "export or analyst."
   ]
  },
  {
   "cell_type": "markdown",
   "metadata": {},
   "source": [
    "We would want to talk to a domain expert about that. Of course we an do some google searches of our own and try to find covariates.  \n",
    "\n",
    "Might as well do some more Wikipedia pulls, because it will be hard to find source to cross reference in the news that covers a span of time. Let's try \"cancer\", then maybe \"lung cancer\" and \"iressa\" which was the older drug for the same purpose."
   ]
  },
  {
   "cell_type": "code",
   "execution_count": null,
   "metadata": {
    "collapsed": false
   },
   "outputs": [],
   "source": [
    "wv_egfr = WikiViews(\"Epidermal_growth_factor_receptor\", '1/1/2008', '10/1/2015'  )\n",
    "egfr = wv.loop_over_full_dates()"
   ]
  },
  {
   "cell_type": "code",
   "execution_count": null,
   "metadata": {
    "collapsed": false
   },
   "outputs": [],
   "source": [
    "wv_lung = WikiViews(\"Lung_cancer\", '1/1/2008', '10/1/2015')\n",
    "lung = wv.loop_over_full_dates()"
   ]
  },
  {
   "cell_type": "code",
   "execution_count": null,
   "metadata": {
    "collapsed": true
   },
   "outputs": [],
   "source": [
    "wv_iressa = WikiViews(\"Gefitinib\", '1/1/2008', '10/1/2015' )\n",
    "iressa = wv.loop_over_full_dates()"
   ]
  },
  {
   "cell_type": "code",
   "execution_count": null,
   "metadata": {
    "collapsed": false
   },
   "outputs": [],
   "source": [
    "df = pd.concat({'month':tar.month, \n",
    "                'tar':tarc.daily_views, \n",
    "                'egfr':egfr.daily_views\n",
    "                'lung':lung.daily_views\n",
    "                'iressa':iressa.daily_views\n",
    "               }, axis=1)\n",
    "df.head()\n",
    "df.to_csv(\"/home/daniel/git/Python2.7/DataScience/wiki_views_data.csv\", index=False)"
   ]
  },
  {
   "cell_type": "markdown",
   "metadata": {},
   "source": [
    "Examine for correlation by eye"
   ]
  },
  {
   "cell_type": "code",
   "execution_count": null,
   "metadata": {
    "collapsed": true
   },
   "outputs": [],
   "source": [
    "df.plot()"
   ]
  },
  {
   "cell_type": "markdown",
   "metadata": {},
   "source": [
    "## Correlation\n",
    "\n",
    "This is a normalized inner product."
   ]
  },
  {
   "cell_type": "code",
   "execution_count": null,
   "metadata": {
    "collapsed": true
   },
   "outputs": [],
   "source": [
    "np.corrcoef(df.daily_views)"
   ]
  },
  {
   "cell_type": "code",
   "execution_count": null,
   "metadata": {
    "collapsed": true
   },
   "outputs": [],
   "source": [
    "import seaborn as sns\n",
    "\n",
    "sns.jointplot(x=\"tar\", y=\"egfr\", data=df, kind=\"reg\");"
   ]
  },
  {
   "cell_type": "markdown",
   "metadata": {},
   "source": [
    "## GLM with statsmodels"
   ]
  },
  {
   "cell_type": "code",
   "execution_count": null,
   "metadata": {
    "collapsed": true
   },
   "outputs": [],
   "source": [
    "import statsmodels.api as sm\n",
    "\n",
    "# GLM\n",
    "model = sm.GLM(tar, cov, family=sm.families.Gaussian())   \n",
    "res = model.fit()\n",
    "\n",
    "print(res.summary())"
   ]
  },
  {
   "cell_type": "markdown",
   "metadata": {
    "slideshow": {
     "slide_type": "slide"
    }
   },
   "source": [
    "# Moving on with numerical analysis technics\n",
    "## Detrend, Filtering and FFT\n",
    "\n",
    "Looks to me like there's a linear increase over time. That could be due to increased public use of Wikipedia. \n",
    "Let's detrend for partice regardless."
   ]
  },
  {
   "cell_type": "code",
   "execution_count": null,
   "metadata": {
    "collapsed": false
   },
   "outputs": [],
   "source": [
    "tar_copy = tar.copy()\n",
    "tar_copy.head()"
   ]
  },
  {
   "cell_type": "code",
   "execution_count": null,
   "metadata": {
    "collapsed": false,
    "slideshow": {
     "slide_type": "subslide"
    }
   },
   "outputs": [],
   "source": [
    "views = tar['daily_views'].squeeze()\n",
    "views = scipy.signal.detrend(views, type='linear')\n",
    "views -= views.min() # undo the centering\n",
    "views = np.int16(np.round(views, decimals=0))\n",
    "tar_copy['daily_views'] = views\n",
    "wv_tar.plot_time_series(tar_copy)"
   ]
  },
  {
   "cell_type": "markdown",
   "metadata": {
    "slideshow": {
     "slide_type": "slide"
    }
   },
   "source": [
    "Now we'd like to see some frequency anaylsis. The FFT won't tell us what day(s) the cycles repeat on,\n",
    "but it will show if any periodicity exists. "
   ]
  },
  {
   "cell_type": "code",
   "execution_count": null,
   "metadata": {
    "collapsed": false,
    "slideshow": {
     "slide_type": "subslide"
    }
   },
   "outputs": [],
   "source": [
    "freq, amp = wv_tar.fft(tar.daily_views)"
   ]
  },
  {
   "cell_type": "markdown",
   "metadata": {
    "slideshow": {
     "slide_type": "slide"
    }
   },
   "source": [
    "There's a clear weekly frequency that I've seen in other social media channels. People may look use Wikipedia on the weekends more so than weekdays. The longer periods are interesting at about a month and three months. The next step would be to look for covarites to explain the time series and the periodicity. "
   ]
  },
  {
   "cell_type": "markdown",
   "metadata": {
    "slideshow": {
     "slide_type": "slide"
    }
   },
   "source": [
    "### Let's do some signal processing, in particular, Filtering\n",
    "With straight numeric data from sensors ( typically voltages ), it's a lot more straight forward not to process the signals. There's samplerates, signal to noise ratios, published bandwidths....with social media NONE OF THAT EXISTS ! We either get our own parameters from more data or make heuristic guesses."
   ]
  },
  {
   "cell_type": "code",
   "execution_count": null,
   "metadata": {
    "collapsed": false,
    "slideshow": {
     "slide_type": "subslide"
    }
   },
   "outputs": [],
   "source": [
    "import scipy.signal as sig\n",
    "data = df.tar.daily_views"
   ]
  },
  {
   "cell_type": "code",
   "execution_count": null,
   "metadata": {
    "collapsed": false,
    "slideshow": {
     "slide_type": "subslide"
    }
   },
   "outputs": [],
   "source": [
    "window = np.hanning(30)\n",
    "plt.figure(figsize=(7,7))\n",
    "plt.plot(window)"
   ]
  },
  {
   "cell_type": "code",
   "execution_count": null,
   "metadata": {
    "collapsed": false,
    "slideshow": {
     "slide_type": "subslide"
    }
   },
   "outputs": [],
   "source": [
    "data_filt_30 = sig.fftconvolve(window, data)\n",
    "plt.plot(data_filt_30[0:1000])"
   ]
  },
  {
   "cell_type": "markdown",
   "metadata": {
    "slideshow": {
     "slide_type": "slide"
    }
   },
   "source": [
    "## Before the Filter"
   ]
  },
  {
   "cell_type": "code",
   "execution_count": null,
   "metadata": {
    "collapsed": false,
    "slideshow": {
     "slide_type": "subslide"
    }
   },
   "outputs": [],
   "source": [
    "plt.figure()\n",
    "plt.plot(data[0:1000])"
   ]
  },
  {
   "cell_type": "code",
   "execution_count": null,
   "metadata": {
    "collapsed": false,
    "slideshow": {
     "slide_type": "subslide"
    }
   },
   "outputs": [],
   "source": [
    "freq, y = wv.fft(data_filt_30)"
   ]
  },
  {
   "cell_type": "markdown",
   "metadata": {
    "slideshow": {
     "slide_type": "slide"
    }
   },
   "source": [
    "Although the peak looks bigger, there is no straight forward way to scale the y axis so we need to \n",
    "not be too impressed with that. Really, the same two peaks are present as in the original FFT. This plot is simply cleaner. This might seem dumb, but if we where writing a peak-detector, then we'd want a simpler data set.\n",
    "\n",
    "Let's find peaks."
   ]
  },
  {
   "cell_type": "code",
   "execution_count": null,
   "metadata": {
    "collapsed": false,
    "slideshow": {
     "slide_type": "subslide"
    }
   },
   "outputs": [],
   "source": [
    "import SignalProcessTools\n",
    "sigtools = SignalProcessTools.SignalProcessTools()"
   ]
  },
  {
   "cell_type": "markdown",
   "metadata": {
    "slideshow": {
     "slide_type": "slide"
    }
   },
   "source": [
    "### The Savitzky-Golay filer was taken from here: http://wiki.scipy.org/Cookbook/SavitzkyGolay"
   ]
  },
  {
   "cell_type": "code",
   "execution_count": null,
   "metadata": {
    "collapsed": true,
    "slideshow": {
     "slide_type": "subslide"
    }
   },
   "outputs": [],
   "source": [
    "def peak_detection(data):\n",
    "    der1 = sigtools.savitzky_golay(data, window_size=3, order=1, deriv=1)\n",
    "    der2 = sigtools.savitzky_golay(data, window_size=5, order=2, deriv=2)\n",
    "    zero_crossings_test = der1[0:-1] * der1[1:]\n",
    "    peaks = np.where((der2[0:-1] < 0) & (zero_crossings_test < 0))[0]\n",
    "    \n",
    "    return peaks"
   ]
  },
  {
   "cell_type": "code",
   "execution_count": null,
   "metadata": {
    "collapsed": false,
    "slideshow": {
     "slide_type": "subslide"
    }
   },
   "outputs": [],
   "source": [
    "peaks = peak_detection(data_filt_30)"
   ]
  },
  {
   "cell_type": "code",
   "execution_count": null,
   "metadata": {
    "collapsed": false,
    "slideshow": {
     "slide_type": "subslide"
    }
   },
   "outputs": [],
   "source": [
    "plt.plot(data_filt_30)\n",
    "plt.vlines(peaks, 0, data_filt_30.max())"
   ]
  },
  {
   "cell_type": "code",
   "execution_count": null,
   "metadata": {
    "collapsed": false,
    "slideshow": {
     "slide_type": "subslide"
    }
   },
   "outputs": [],
   "source": [
    "peaks = peak_detection(y)\n",
    "plt.figure()\n",
    "plt.plot(freq, y)\n",
    "plt.vlines(freq[peaks], 0, y.max(), 'r')"
   ]
  },
  {
   "cell_type": "markdown",
   "metadata": {
    "slideshow": {
     "slide_type": "slide"
    }
   },
   "source": [
    "### There's still some ripple out to the right. We'll still need to use logic.\n",
    "\n"
   ]
  },
  {
   "cell_type": "code",
   "execution_count": null,
   "metadata": {
    "collapsed": false,
    "slideshow": {
     "slide_type": "subslide"
    }
   },
   "outputs": [],
   "source": [
    "y_peaks = y[peaks]\n",
    "freq_peaks = freq[peaks]\n",
    "\n",
    "peak_ref = np.max(y_peaks)\n",
    "keep_peaks = np.where(y_peaks >= 0.1 * peak_ref)[0]"
   ]
  },
  {
   "cell_type": "code",
   "execution_count": null,
   "metadata": {
    "collapsed": false,
    "slideshow": {
     "slide_type": "subslide"
    }
   },
   "outputs": [],
   "source": [
    "plt.plot(freq, y)\n",
    "plt.vlines(freq_peaks[keep_peaks], 0, y_peaks.max(), 'r')"
   ]
  },
  {
   "cell_type": "markdown",
   "metadata": {},
   "source": [
    "# Generalizations about Wikipedia \n",
    "\n",
    "If we want to make some generalizations about Wikipedia viewership trends it would be safer to make these statements about the topics we've actually looked at. If we grab several random pages and they don't have significant depenence, then we can get a look at general trends. \n",
    "\n",
    "Since we have 3 cancer topics let's start simple and average those views. \n",
    "\n",
    "FFT and averaging are a linear operations, so it won't matter the order. Let's z-transform (center and normalize via std) then average and finally FFT the result."
   ]
  },
  {
   "cell_type": "code",
   "execution_count": null,
   "metadata": {
    "collapsed": true
   },
   "outputs": [],
   "source": [
    "avg = df.daily_views.mean(0)\n",
    "freq, amp = wv_tar.fft(avg)"
   ]
  }
 ],
 "metadata": {
  "kernelspec": {
   "display_name": "Python 2",
   "language": "python",
   "name": "python2"
  },
  "language_info": {
   "codemirror_mode": {
    "name": "ipython",
    "version": 2
   },
   "file_extension": ".py",
   "mimetype": "text/x-python",
   "name": "python",
   "nbconvert_exporter": "python",
   "pygments_lexer": "ipython2",
   "version": "2.7.10"
  }
 },
 "nbformat": 4,
 "nbformat_minor": 0
}
